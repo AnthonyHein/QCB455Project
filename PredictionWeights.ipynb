{
 "cells": [
  {
   "cell_type": "markdown",
   "metadata": {},
   "source": [
    "# Prediction Weights\n",
    "\n",
    "This notebook investigates the weights of features used in the model.\n",
    "\n",
    "The data used is that from the following paper:\n",
    "\n",
    "[Compact and highly active next-generation libraries for CRISPR-mediated gene repression and activation](https://elifesciences.org/articles/19760)\n",
    "\n",
    "__Authors__: Anthony Hein, Briana Macedo\n",
    "\n",
    "---"
   ]
  },
  {
   "cell_type": "markdown",
   "metadata": {},
   "source": [
    "## Imports and Configuration"
   ]
  },
  {
   "cell_type": "code",
   "execution_count": 89,
   "metadata": {},
   "outputs": [],
   "source": [
    "import numpy as np\n",
    "import pandas as pd\n",
    "import matplotlib.pyplot as plt\n",
    "import re"
   ]
  },
  {
   "cell_type": "markdown",
   "metadata": {},
   "source": [
    "---"
   ]
  },
  {
   "cell_type": "markdown",
   "metadata": {},
   "source": [
    "## Load Coefficients and Dataframe"
   ]
  },
  {
   "cell_type": "code",
   "execution_count": 90,
   "metadata": {},
   "outputs": [
    {
     "name": "stdout",
     "output_type": "stream",
     "text": [
      "[[ 0.00397073  0.          0.         ... -0.00081903 -0.00377904\n",
      "  -0.00337962]\n",
      " [ 0.0003545   0.          0.         ...  0.00033362  0.00059122\n",
      "   0.0004243 ]\n",
      " [ 0.00077962  0.          0.         ...  0.00052056  0.0016779\n",
      "   0.00061912]]\n",
      "(3, 601)\n"
     ]
    }
   ],
   "source": [
    "coef = np.load('coef_elastic.npy')\n",
    "coef[1, :] = coef[0, :] - coef[1, :]\n",
    "coef[2, :] = coef[2, :] - coef[0, :]\n",
    "print(coef[0:5])\n",
    "print(coef.shape)"
   ]
  },
  {
   "cell_type": "code",
   "execution_count": 91,
   "metadata": {},
   "outputs": [
    {
     "data": {
      "text/plain": [
       "Index(['+ve strand', 'pos_-27_A', 'pos_-27_C', 'pos_-27_G', 'pos_-27_T',\n",
       "       'pos_-26_A', 'pos_-26_C', 'pos_-26_G', 'pos_-26_T', 'pos_-25_A',\n",
       "       ...\n",
       "       'AG_comp_0.9', 'AG_comp_1.0', 'length_18', 'length_19', 'length_20',\n",
       "       'length_21', 'length_22', 'length_23', 'length_24', 'length_25'],\n",
       "      dtype='object', length=601)"
      ]
     },
     "execution_count": 91,
     "metadata": {},
     "output_type": "execute_result"
    }
   ],
   "source": [
    "features_df = pd.read_csv(\"features_binned.csv\")\n",
    "features_df = features_df.drop(columns=[\"Unnamed: 0\"])\n",
    "cols = features_df.columns\n",
    "cols"
   ]
  },
  {
   "cell_type": "code",
   "execution_count": 92,
   "metadata": {},
   "outputs": [],
   "source": [
    "cols = np.array(cols)\n",
    "cols = cols.reshape(cols.shape[0])"
   ]
  },
  {
   "cell_type": "code",
   "execution_count": 93,
   "metadata": {},
   "outputs": [],
   "source": [
    "# import matplotlib.pylab as pylab\n",
    "# params = {'legend.fontsize': 'x-large',\n",
    "#          'axes.labelsize': 'x-large',\n",
    "#          'axes.titlesize':'x-large',\n",
    "#          'xtick.labelsize':'x-large',\n",
    "#          'ytick.labelsize':'x-large'}\n",
    "# pylab.rcParams.update(params)"
   ]
  },
  {
   "cell_type": "code",
   "execution_count": 94,
   "metadata": {},
   "outputs": [],
   "source": [
    "def set_graph(first, ax):\n",
    "    ax.spines['left'].set_visible(first)\n",
    "    ax.spines['top'].set_visible(False)\n",
    "    ax.spines['right'].set_visible(False)\n",
    "    if not first:\n",
    "        ax.set_yticks([])"
   ]
  },
  {
   "cell_type": "code",
   "execution_count": 95,
   "metadata": {},
   "outputs": [
    {
     "name": "stdout",
     "output_type": "stream",
     "text": [
      "[[2.58995699e-04 2.94533550e-04 6.38332759e-05 1.21463806e-04]\n",
      " [5.49349902e-04 6.60959078e-04 1.24449376e-04 2.68268163e-04]]\n",
      "[[2.58995699e-04 2.94533550e-04]\n",
      " [6.38332759e-05 1.21463806e-04]]\n",
      "[[0.00054935 0.00066096]\n",
      " [0.00012445 0.00026827]]\n"
     ]
    }
   ],
   "source": [
    "dist_indices = ['dist' in colname for index, colname in enumerate(cols)]\n",
    "print(coef[1:, dist_indices])\n",
    "print(coef[1, dist_indices].reshape(2,2))\n",
    "print(coef[2, dist_indices].reshape(2,2))"
   ]
  },
  {
   "cell_type": "code",
   "execution_count": 96,
   "metadata": {},
   "outputs": [],
   "source": [
    "# pandas plotting requires unusual error bar fmt\n",
    "mins = coef[1, dist_indices]\n",
    "maxs = coef[2, dist_indices]\n",
    "cube = np.array([\n",
    "                [[mins[0], mins[1]], [maxs[0], maxs[1]]], \n",
    "                [[mins[2], mins[3]], [maxs[2], maxs[3]]]\n",
    "                ]\n",
    "               )"
   ]
  },
  {
   "cell_type": "code",
   "execution_count": 97,
   "metadata": {},
   "outputs": [],
   "source": [
    "def plot_TSS(ax, first):\n",
    "    dist_indices = ['dist' in colname for index, colname in enumerate(cols)]\n",
    "    dist_coef = np.array(coef[0, dist_indices]).reshape(2,2)\n",
    "    df = pd.DataFrame(dist_coef,\n",
    "                     index=['Primary', 'Secondary'],\n",
    "                     columns=pd.Index(['Downstream', 'Upstream'])) \n",
    "\n",
    "    df.plot(ax=ax, kind='bar',figsize=(10,4), color = ['w','slategrey'], \n",
    "            yerr = cube,\n",
    "            capsize=4, ecolor='k',\n",
    "            edgecolor='k')\n",
    "    set_graph(first, ax)\n",
    "    ax.set_ylim((-0.1, 0.1))\n",
    "    ax.legend(fontsize=14)\n",
    "    ax.title.set_text('Distance to TSS')"
   ]
  },
  {
   "cell_type": "code",
   "execution_count": 98,
   "metadata": {},
   "outputs": [],
   "source": [
    "def plot_strand(ax, first):\n",
    "    dist_indices = ['+ve' in colname for index, colname in enumerate(cols)]\n",
    "    dist_name = cols[dist_indices]\n",
    "    dist_coef = coef[0, dist_indices]\n",
    "    ax.bar('sense strand', dist_coef, yerr = coef[1:, dist_indices], \n",
    "           capsize=4, ecolor='k',\n",
    "           color = 'w',  edgecolor='k')\n",
    "    ax.set_ylim((-0.1, 0.1))\n",
    "    ax.set_xlim((-5, 5))\n",
    "    set_graph(first, ax)\n",
    "    ax.title.set_text('Strand Targeted')"
   ]
  },
  {
   "cell_type": "code",
   "execution_count": 99,
   "metadata": {},
   "outputs": [],
   "source": [
    "def get_run(string):\n",
    "    return int(re.findall('[0-9]+', string)[0])"
   ]
  },
  {
   "cell_type": "code",
   "execution_count": 102,
   "metadata": {},
   "outputs": [],
   "source": [
    "def plot_length(ax, first):\n",
    "    dist_indices = ['length' in colname for index, colname in enumerate(cols)]\n",
    "    dist_name = cols[dist_indices]\n",
    "    dist_coef = coef[0, dist_indices]\n",
    "    dist = [get_run(name) for name in dist_name]\n",
    "    ax.bar(dist, dist_coef, yerr = coef[1:, dist_indices], \n",
    "           capsize=4, ecolor='k',\n",
    "           color = 'w',  edgecolor='k')\n",
    "    ax.axhline(linewidth = 1, color = 'k')\n",
    "    ax.set_ylim((-0.1, 0.1))\n",
    "    ax.set_xticks(dist)\n",
    "    set_graph(first, ax)\n",
    "    ax.title.set_text('Length of sgRNA')"
   ]
  },
  {
   "cell_type": "code",
   "execution_count": 103,
   "metadata": {},
   "outputs": [
    {
     "data": {
      "image/png": "[encoded data removed]",
      "text/plain": [
       "<Figure size 720x288 with 3 Axes>"
      ]
     },
     "metadata": {
      "needs_background": "light"
     },
     "output_type": "display_data"
    }
   ],
   "source": [
    "fig, axs = plt.subplots(1, 3, figsize=(10, 5))\n",
    "plot_TSS(axs[0], True)\n",
    "plot_strand(axs[1], False)\n",
    "plot_length(axs[2], False)\n",
    "fig.tight_layout()\n",
    "plt.savefig(\"upper\")"
   ]
  },
  {
   "cell_type": "code",
   "execution_count": 104,
   "metadata": {},
   "outputs": [],
   "source": [
    "# Regular expression which returns a boolean if the column name is for a nucleotide position\n",
    "def find_nucl_pos(string):\n",
    "    prog = re.compile('pos_-[0-9]+_[A-Z]$')\n",
    "    result = prog.match(string)\n",
    "    return bool(result)"
   ]
  },
  {
   "cell_type": "code",
   "execution_count": 105,
   "metadata": {},
   "outputs": [],
   "source": [
    "# Regular expression which returns a boolean if the column name is for a dimer position\n",
    "def find_dimer_pos(string):\n",
    "    prog = re.compile('pos_-[0-9]+_[A-Z][A-Z]$')\n",
    "    result = prog.match(string)\n",
    "    return bool(result)"
   ]
  },
  {
   "cell_type": "code",
   "execution_count": 106,
   "metadata": {},
   "outputs": [],
   "source": [
    "nucl_pos_bool = [find_nucl_pos(name) for name in cols]\n",
    "dimer_pos_bool = [find_dimer_pos(name) for name in cols]"
   ]
  },
  {
   "cell_type": "code",
   "execution_count": 107,
   "metadata": {},
   "outputs": [],
   "source": [
    "def get_pos(string):\n",
    "    return -1 * int(re.findall('[0-9]+', string)[0])"
   ]
  },
  {
   "cell_type": "code",
   "execution_count": 108,
   "metadata": {},
   "outputs": [],
   "source": [
    "# Extract out position elements\n",
    "nucl_pos_names = cols[nucl_pos_bool]\n",
    "nucl_pos = [get_pos(name) for name in nucl_pos_names]\n",
    "\n",
    "dimer_pos_names = cols[dimer_pos_bool]\n",
    "dimer_pos = [get_pos(name) for name in dimer_pos_names]"
   ]
  },
  {
   "cell_type": "code",
   "execution_count": 109,
   "metadata": {},
   "outputs": [],
   "source": [
    "nucl_coef = coef[:, nucl_pos_bool]\n",
    "dimer_coef = coef[:, dimer_pos_bool]"
   ]
  },
  {
   "cell_type": "code",
   "execution_count": 110,
   "metadata": {},
   "outputs": [],
   "source": [
    "def specific_nucl_pos(nucleotide):\n",
    "    pos_bool = [nucleotide in name for name in nucl_pos_names]\n",
    "    names = nucl_pos_names[pos_bool]\n",
    "    pos = [get_pos(name) for name in names]\n",
    "    coef = nucl_coef[:, pos_bool]\n",
    "    return (names, pos, coef)"
   ]
  },
  {
   "cell_type": "code",
   "execution_count": 111,
   "metadata": {},
   "outputs": [],
   "source": [
    "A = specific_nucl_pos('A')\n",
    "C = specific_nucl_pos('C')\n",
    "G = specific_nucl_pos('G')\n",
    "T = specific_nucl_pos('T')\n",
    "nucl_pos_plot = [A, C, G, T]"
   ]
  },
  {
   "cell_type": "code",
   "execution_count": 112,
   "metadata": {},
   "outputs": [],
   "source": [
    "from matplotlib.pyplot import figure"
   ]
  },
  {
   "cell_type": "code",
   "execution_count": 113,
   "metadata": {},
   "outputs": [],
   "source": [
    "def pos_plot(plot_info, colors, title, legend, ax):\n",
    "    width = 1/len(plot_info)\n",
    "    for index, nucl in enumerate(plot_info):\n",
    "        ax.bar(np.array(nucl[1]) + (index - 1)*width, nucl[2][0] + 0.001, width, \n",
    "               yerr = [nucl[2][1], nucl[2][2]], \n",
    "               ecolor = colors[index],\n",
    "               color = colors[index])\n",
    "    ax.legend(legend, loc='upper left', ncol=4)\n",
    "    ax.set_xticks((-1 * np.arange(len(nucl[1])) - 3))\n",
    "    ax.set_ylim((-0.05, 0.05))\n",
    "    ax.spines['top'].set_visible(False)\n",
    "    ax.spines['right'].set_visible(False)\n",
    "    ax.title.set_text(title)"
   ]
  },
  {
   "cell_type": "code",
   "execution_count": 114,
   "metadata": {},
   "outputs": [],
   "source": [
    "def specific_dimer_pos(dimer):\n",
    "    pos_bool = [dimer in name for name in dimer_pos_names]\n",
    "    names = dimer_pos_names[pos_bool]\n",
    "    pos = [get_pos(name) for name in names]\n",
    "    curr_coef = dimer_coef[:, pos_bool]\n",
    "    return (names, pos, curr_coef)"
   ]
  },
  {
   "cell_type": "code",
   "execution_count": 115,
   "metadata": {},
   "outputs": [],
   "source": [
    "dimer_encodings = {'AA' : 0, 'AC' : 1, 'AG' : 2, 'AT' : 3, 'CA' : 4, 'CC' : 5, 'CG' : 6, 'CT' : 7,          \n",
    "                   'GA' : 8, 'GC' : 9, 'GG' : 10, 'GT' : 11, 'TA' : 12, 'TC' : 13, 'TG' : 14, 'TT' : 15}\n",
    "dimers = dimer_encodings.keys()\n",
    "dimer_plot = []\n",
    "for dimer in dimers:\n",
    "    dimer_plot.append(specific_dimer_pos(dimer))"
   ]
  },
  {
   "cell_type": "code",
   "execution_count": 116,
   "metadata": {},
   "outputs": [
    {
     "data": {
      "image/png": "[encoded data removed]",
      "text/plain": [
       "<Figure size 1440x720 with 2 Axes>"
      ]
     },
     "metadata": {
      "needs_background": "light"
     },
     "output_type": "display_data"
    }
   ],
   "source": [
    "plt.rcParams.update({'lines.linewidth': 0.5}) # make error bars thin\n",
    "\n",
    "f, axs = plt.subplots(2, 1,figsize=(20,10))\n",
    "colors =  ['#1d823d', '#3c52a5', '#282828', '#ed2324']\n",
    "pos_plot(nucl_pos_plot, colors, \"Nucleotides at each position\", ('A', 'C', 'G', 'T'), axs[0])\n",
    "colors = ['#1d823d', '#419965', '#6eb48d', '#a0ceb4',\n",
    "         '#3a54a4', '#6175b5', '#8a98ca','#b0bbdd',\n",
    "         '#282626', '#535152', '#7d7d7d', '#a9a9aa',\n",
    "         '#ee2225', '#f04e50', '#f47b7d', '#f5a8a6']\n",
    "pos_plot(dimer_plot, colors,\"Dimers at each position\", dimers, axs[1])\n",
    "\n",
    "plt.rcParams.update({'lines.linewidth': 1.5})\n",
    "plt.savefig(\"per_position\")"
   ]
  },
  {
   "cell_type": "code",
   "execution_count": 117,
   "metadata": {},
   "outputs": [],
   "source": [
    "def longest_run(nucl, ax, color, first):\n",
    "    dist_indices = ['longest_' + nucl in colname for index, colname in enumerate(cols)]\n",
    "    dist_name = cols[dist_indices]\n",
    "    dist_coef = coef[0, dist_indices]\n",
    "    dist = [get_run(name) for name in dist_name]\n",
    "    ax.bar(dist, dist_coef, \n",
    "           yerr = coef[1:, dist_indices], \n",
    "           capsize=4, ecolor='k',\n",
    "           color = color, edgecolor='k')\n",
    "    ax.set_ylim((-0.1, 0.1))\n",
    "    ax.axhline(linewidth = 1, color = 'k')\n",
    "    set_graph(first, ax)\n",
    "    ax.title.set_text('Longest consecutive run of ' + nucl)"
   ]
  },
  {
   "cell_type": "code",
   "execution_count": 118,
   "metadata": {},
   "outputs": [],
   "source": [
    "def find_comp(string, nucl):\n",
    "    prog = re.compile('^' + nucl + '_comp')\n",
    "    result = prog.match(string)\n",
    "    return bool(result)"
   ]
  },
  {
   "cell_type": "code",
   "execution_count": 119,
   "metadata": {},
   "outputs": [],
   "source": [
    "def composition(nucl, ax, color, first):\n",
    "    dist_indices = [find_comp(colname, nucl) for index, colname in enumerate(cols)]\n",
    "    dist_name = cols[dist_indices]\n",
    "    dist_coef = coef[0, dist_indices]\n",
    "    dist = [name[-3:] for name in dist_name]\n",
    "    ax.bar(dist, dist_coef, yerr = coef[1:, dist_indices], \n",
    "           capsize=4, ecolor='k',\n",
    "           color = color, edgecolor='k')\n",
    "    ax.set_ylim((-0.1, 0.1))\n",
    "    ax.axhline(linewidth = 1, color = 'k')\n",
    "    set_graph(first, ax)\n",
    "    ax.title.set_text('Composition of ' + nucl)"
   ]
  },
  {
   "cell_type": "code",
   "execution_count": 120,
   "metadata": {
    "scrolled": false
   },
   "outputs": [
    {
     "data": {
      "image/png": "[encoded data removed]",
      "text/plain": [
       "<Figure size 1440x720 with 8 Axes>"
      ]
     },
     "metadata": {
      "needs_background": "light"
     },
     "output_type": "display_data"
    }
   ],
   "source": [
    "f, axs = plt.subplots(2,4,figsize=(20,10))\n",
    "\n",
    "# colors = ['seagreen', 'lightcoral', 'slategrey', 'cornflowerblue']\n",
    "colors = ['#1d823d', '#3c52a5', '#282828', '#ed2324']\n",
    "for nucl, ax_run, ax_comp, color in [('A', axs[0, 0], axs[1, 0], colors[0]), \n",
    "                ('C', axs[0, 1], axs[1, 1], colors[1]),\n",
    "                ('G', axs[0, 2], axs[1, 2], colors[2]),\n",
    "                ('T', axs[0, 3], axs[1, 3], colors[3])]:\n",
    "    if(ax_run == axs[0, 0]):\n",
    "        longest_run(nucl, ax_run, color, True)\n",
    "        composition(nucl, ax_comp, color, True)\n",
    "    else:\n",
    "        longest_run(nucl, ax_run, color, False)\n",
    "        composition(nucl, ax_comp, color, False)\n",
    "\n",
    "# hide outer axes \n",
    "for ax in axs.flat:\n",
    "    ax.label_outer()\n",
    "plt.savefig(\"run_comp\")"
   ]
  },
  {
   "cell_type": "markdown",
   "metadata": {},
   "source": [
    "# Find score contribution of aggregate features"
   ]
  },
  {
   "cell_type": "code",
   "execution_count": 121,
   "metadata": {},
   "outputs": [],
   "source": [
    "contr_all = np.sum(np.absolute(np.array(features_df.iloc[:, :]) * coef[0, :]), axis=1)\n",
    "contribution_full = contr_all"
   ]
  },
  {
   "cell_type": "code",
   "execution_count": 122,
   "metadata": {},
   "outputs": [],
   "source": [
    "def find_contribution(dist_indices):\n",
    "    contr_all = np.absolute(np.sum(np.array(features_df.iloc[:, dist_indices]) * coef[0, dist_indices], axis=1))/contribution_full\n",
    "    contribution = np.percentile(contr_all, 95) - np.percentile(contr_all, 5)\n",
    "    return contribution"
   ]
  },
  {
   "cell_type": "code",
   "execution_count": 123,
   "metadata": {},
   "outputs": [
    {
     "data": {
      "text/plain": [
       "0.026105912057677094"
      ]
     },
     "execution_count": 123,
     "metadata": {},
     "output_type": "execute_result"
    }
   ],
   "source": [
    "# Nucleotide composition\n",
    "dist_indices = [find_comp(colname, nucl) for index, colname in enumerate(cols)]\n",
    "comp_contr = find_contribution(dist_indices)\n",
    "comp_contr"
   ]
  },
  {
   "cell_type": "code",
   "execution_count": 124,
   "metadata": {},
   "outputs": [
    {
     "data": {
      "text/plain": [
       "0.21857264634040174"
      ]
     },
     "execution_count": 124,
     "metadata": {},
     "output_type": "execute_result"
    }
   ],
   "source": [
    "# Distance from TSS\n",
    "dist_indices = ['dist' in colname for index, colname in enumerate(cols)]\n",
    "TSS_contr = find_contribution(dist_indices)\n",
    "TSS_contr"
   ]
  },
  {
   "cell_type": "code",
   "execution_count": 125,
   "metadata": {},
   "outputs": [
    {
     "data": {
      "text/plain": [
       "0.08057067875690338"
      ]
     },
     "execution_count": 125,
     "metadata": {},
     "output_type": "execute_result"
    }
   ],
   "source": [
    "# Homopolymer / Longest Run\n",
    "dist_indices = ['longest_' + nucl in colname for index, colname in enumerate(cols)]\n",
    "run_contr = find_contribution(dist_indices)\n",
    "run_contr "
   ]
  },
  {
   "cell_type": "code",
   "execution_count": 126,
   "metadata": {},
   "outputs": [
    {
     "data": {
      "text/plain": [
       "0.027783983649013518"
      ]
     },
     "execution_count": 126,
     "metadata": {},
     "output_type": "execute_result"
    }
   ],
   "source": [
    "# Strand sense\n",
    "dist_indices = ['+ve' in colname for index, colname in enumerate(cols)]\n",
    "strand_contr = find_contribution(dist_indices)\n",
    "strand_contr"
   ]
  },
  {
   "cell_type": "code",
   "execution_count": 127,
   "metadata": {},
   "outputs": [
    {
     "data": {
      "text/plain": [
       "0.16221988981665295"
      ]
     },
     "execution_count": 127,
     "metadata": {},
     "output_type": "execute_result"
    }
   ],
   "source": [
    "# Length of sgRNA\n",
    "dist_indices = ['length' in colname for index, colname in enumerate(cols)]\n",
    "len_contr = find_contribution(dist_indices)\n",
    "len_contr"
   ]
  },
  {
   "cell_type": "code",
   "execution_count": 128,
   "metadata": {},
   "outputs": [
    {
     "data": {
      "text/plain": [
       "0.22447097408703068"
      ]
     },
     "execution_count": 128,
     "metadata": {},
     "output_type": "execute_result"
    }
   ],
   "source": [
    "nucl_pos_bool = [find_nucl_pos(name) for name in cols]\n",
    "nucl_contr = find_contribution(nucl_pos_bool)\n",
    "nucl_contr"
   ]
  },
  {
   "cell_type": "code",
   "execution_count": 129,
   "metadata": {},
   "outputs": [
    {
     "data": {
      "text/plain": [
       "0.3042215247700416"
      ]
     },
     "execution_count": 129,
     "metadata": {},
     "output_type": "execute_result"
    }
   ],
   "source": [
    "dimer_pos_bool = [find_dimer_pos(name) for name in cols]\n",
    "dimer_contr = find_contribution(dimer_pos_bool)\n",
    "dimer_contr"
   ]
  },
  {
   "cell_type": "code",
   "execution_count": 130,
   "metadata": {},
   "outputs": [
    {
     "name": "stdout",
     "output_type": "stream",
     "text": [
      "[0 3 2 4 1 5 6]\n"
     ]
    },
    {
     "data": {
      "text/plain": [
       "Text(0.5,1,'Score contribution \\n(95th %ile - 5th %ile)')"
      ]
     },
     "execution_count": 130,
     "metadata": {},
     "output_type": "execute_result"
    },
    {
     "data": {
      "image/png": "[encoded data removed]",
      "text/plain": [
       "<Figure size 1080x360 with 1 Axes>"
      ]
     },
     "metadata": {
      "needs_background": "light"
     },
     "output_type": "display_data"
    }
   ],
   "source": [
    "contr = [comp_contr, TSS_contr, run_contr, strand_contr, len_contr, nucl_contr, dimer_contr]\n",
    "sorted_indices = np.argsort(contr)\n",
    "contr = np.sort(contr)\n",
    "print(sorted_indices)\n",
    "labels = np.array([\"Overall nucleotide composition\",\n",
    "          \"Target site position relative to TSS\", \n",
    "          \"sgRNA nucelotide homopolymers\",\n",
    "          \"DNA Strand Targeted\",\n",
    "          \"sgRNA length\",\n",
    "          \"Nucleotides at each position\",\n",
    "          \"Nucleotide dimers at each position\"])[sorted_indices]\n",
    "plt.barh(labels, contr, color = 'aliceblue',  edgecolor='k')\n",
    "plt.title('Score contribution \\n(95th %ile - 5th %ile)')"
   ]
  },
  {
   "cell_type": "code",
   "execution_count": null,
   "metadata": {},
   "outputs": [],
   "source": []
  },
  {
   "cell_type": "code",
   "execution_count": null,
   "metadata": {},
   "outputs": [],
   "source": []
  },
  {
   "cell_type": "code",
   "execution_count": null,
   "metadata": {},
   "outputs": [],
   "source": []
  }
 ],
 "metadata": {
  "kernelspec": {
   "display_name": "Python 3",
   "language": "python",
   "name": "python3"
  },
  "language_info": {
   "codemirror_mode": {
    "name": "ipython",
    "version": 3
   },
   "file_extension": ".py",
   "mimetype": "text/x-python",
   "name": "python",
   "nbconvert_exporter": "python",
   "pygments_lexer": "ipython3",
   "version": "3.6.12"
  }
 },
 "nbformat": 4,
 "nbformat_minor": 4
}
