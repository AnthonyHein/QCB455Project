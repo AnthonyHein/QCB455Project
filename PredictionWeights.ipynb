{
 "cells": [
  {
   "cell_type": "markdown",
   "metadata": {},
   "source": [
    "# Prediction Weights\n",
    "\n",
    "This notebook investigates the weights of features used in the model.\n",
    "\n",
    "The data used is that from the following paper:\n",
    "\n",
    "[Compact and highly active next-generation libraries for CRISPR-mediated gene repression and activation](https://elifesciences.org/articles/19760)\n",
    "\n",
    "__Authors__: Anthony Hein, Briana Macedo\n",
    "\n",
    "---"
   ]
  },
  {
   "cell_type": "markdown",
   "metadata": {},
   "source": [
    "## Imports and Configuration"
   ]
  },
  {
   "cell_type": "code",
   "execution_count": 55,
   "metadata": {},
   "outputs": [],
   "source": [
    "import numpy as np\n",
    "import pandas as pd\n",
    "import matplotlib.pyplot as plt\n",
    "import re"
   ]
  },
  {
   "cell_type": "markdown",
   "metadata": {},
   "source": [
    "---"
   ]
  },
  {
   "cell_type": "markdown",
   "metadata": {},
   "source": [
    "## Load Coefficients and Dataframe"
   ]
  },
  {
   "cell_type": "code",
   "execution_count": 56,
   "metadata": {},
   "outputs": [
    {
     "name": "stdout",
     "output_type": "stream",
     "text": [
      "[[ 0.00397073  0.          0.         ... -0.00081903 -0.00377904\n",
      "  -0.00337962]\n",
      " [ 0.00361623  0.          0.         ... -0.00115265 -0.00437025\n",
      "  -0.00380391]\n",
      " [ 0.00475035  0.          0.         ... -0.00029847 -0.00210113\n",
      "  -0.0027605 ]]\n",
      "(3, 601)\n"
     ]
    }
   ],
   "source": [
    "coef = np.load('coef_elastic.npy')\n",
    "print(coef[0:5])\n",
    "print(coef.shape)"
   ]
  },
  {
   "cell_type": "code",
   "execution_count": 57,
   "metadata": {},
   "outputs": [
    {
     "data": {
      "text/plain": [
       "Index(['+ve strand', 'pos_-27_A', 'pos_-27_C', 'pos_-27_G', 'pos_-27_T',\n",
       "       'pos_-26_A', 'pos_-26_C', 'pos_-26_G', 'pos_-26_T', 'pos_-25_A',\n",
       "       ...\n",
       "       'AG_comp_0.9', 'AG_comp_1.0', 'length_18', 'length_19', 'length_20',\n",
       "       'length_21', 'length_22', 'length_23', 'length_24', 'length_25'],\n",
       "      dtype='object', length=601)"
      ]
     },
     "execution_count": 57,
     "metadata": {},
     "output_type": "execute_result"
    }
   ],
   "source": [
    "features_df = pd.read_csv(\"features_binned.csv\")\n",
    "features_df = features_df.drop(columns=[\"Unnamed: 0\"])\n",
    "cols = features_df.columns\n",
    "cols"
   ]
  },
  {
   "cell_type": "code",
   "execution_count": 58,
   "metadata": {},
   "outputs": [],
   "source": [
    "cols = np.array(cols)\n",
    "cols = cols.reshape(cols.shape[0])"
   ]
  },
  {
   "cell_type": "code",
   "execution_count": 59,
   "metadata": {},
   "outputs": [],
   "source": [
    "def set_graph(first, ax):\n",
    "    ax.spines['left'].set_visible(first)\n",
    "    ax.spines['top'].set_visible(False)\n",
    "    ax.spines['right'].set_visible(False)\n",
    "    if not first:\n",
    "        ax.set_yticks([])"
   ]
  },
  {
   "cell_type": "code",
   "execution_count": 60,
   "metadata": {},
   "outputs": [],
   "source": [
    "def plot_TSS(ax, first):\n",
    "    dist_indices = ['dist' in colname for index, colname in enumerate(cols)]\n",
    "    dist_coef = np.array(coef[0, dist_indices]).reshape(2,2)\n",
    "    df = pd.DataFrame(dist_coef,\n",
    "                     index=['Primary', 'Secondary'],\n",
    "                     columns=pd.Index(['Downstream', 'Upstream'])) \n",
    "\n",
    "    df.plot(ax=ax, kind='bar',figsize=(10,4), color = ['w','slategrey'], edgecolor='k', fontsize=14)\n",
    "    set_graph(first, ax)\n",
    "    ax.set_ylim((-0.1, 0.1))\n",
    "    ax.legend(fontsize=14)\n",
    "    ax.title.set_text('Distance to TSS')"
   ]
  },
  {
   "cell_type": "code",
   "execution_count": 61,
   "metadata": {},
   "outputs": [],
   "source": [
    "def plot_strand(ax, first):\n",
    "    dist_indices = ['+ve' in colname for index, colname in enumerate(cols)]\n",
    "    dist_name = cols[dist_indices]\n",
    "    dist_coef = coef[0, dist_indices]\n",
    "    ax.bar('sense strand', dist_coef, color = 'slategrey',  edgecolor='k')\n",
    "    ax.set_ylim((-0.1, 0.1))\n",
    "    ax.set_xlim((-5, 5))\n",
    "    set_graph(first, ax)\n",
    "    ax.title.set_text('Strand Targeted')"
   ]
  },
  {
   "cell_type": "code",
   "execution_count": 62,
   "metadata": {},
   "outputs": [],
   "source": [
    "def get_run(string):\n",
    "    return int(re.findall('[0-9]+', string)[0])"
   ]
  },
  {
   "cell_type": "code",
   "execution_count": 63,
   "metadata": {},
   "outputs": [],
   "source": [
    "def plot_length(ax, first):\n",
    "    dist_indices = ['length' in colname for index, colname in enumerate(cols)]\n",
    "    dist_name = cols[dist_indices]\n",
    "    dist_coef = coef[0, dist_indices]\n",
    "    dist = [get_run(name) for name in dist_name]\n",
    "    ax.bar(dist[1:], dist_coef[1:], color = 'slategrey',  edgecolor='k')\n",
    "    ax.axhline(linewidth = 1, color = 'k')\n",
    "    ax.set_ylim((-0.1, 0.1))\n",
    "    ax.set_xticks(dist[1:])\n",
    "    set_graph(first, ax)\n",
    "    ax.title.set_text('Length of sgRNA')"
   ]
  },
  {
   "cell_type": "code",
   "execution_count": 64,
   "metadata": {},
   "outputs": [
    {
     "data": {
      "image/png": "[encoded data removed]",
      "text/plain": [
       "<Figure size 720x288 with 3 Axes>"
      ]
     },
     "metadata": {
      "needs_background": "light"
     },
     "output_type": "display_data"
    }
   ],
   "source": [
    "fig, axs = plt.subplots(1, 3, figsize=(10, 5))\n",
    "plot_TSS(axs[0], True)\n",
    "plot_strand(axs[1], False)\n",
    "plot_length(axs[2], False)"
   ]
  },
  {
   "cell_type": "code",
   "execution_count": 65,
   "metadata": {},
   "outputs": [],
   "source": [
    "# Regular expression which returns a boolean if the column name is for a nucleotide position\n",
    "def find_nucl_pos(string):\n",
    "    prog = re.compile('pos_-[0-9]+_[A-Z]$')\n",
    "    result = prog.match(string)\n",
    "    return bool(result)"
   ]
  },
  {
   "cell_type": "code",
   "execution_count": 66,
   "metadata": {},
   "outputs": [],
   "source": [
    "# Regular expression which returns a boolean if the column name is for a dimer position\n",
    "def find_dimer_pos(string):\n",
    "    prog = re.compile('pos_-[0-9]+_[A-Z][A-Z]$')\n",
    "    result = prog.match(string)\n",
    "    return bool(result)"
   ]
  },
  {
   "cell_type": "code",
   "execution_count": 67,
   "metadata": {},
   "outputs": [],
   "source": [
    "nucl_pos_bool = [find_nucl_pos(name) for name in cols]\n",
    "dimer_pos_bool = [find_dimer_pos(name) for name in cols]"
   ]
  },
  {
   "cell_type": "code",
   "execution_count": 68,
   "metadata": {},
   "outputs": [],
   "source": [
    "def get_pos(string):\n",
    "    return -1 * int(re.findall('[0-9]+', string)[0])"
   ]
  },
  {
   "cell_type": "code",
   "execution_count": 69,
   "metadata": {},
   "outputs": [],
   "source": [
    "# Extract out position elements\n",
    "nucl_pos_names = cols[nucl_pos_bool]\n",
    "nucl_pos = [get_pos(name) for name in nucl_pos_names]\n",
    "\n",
    "dimer_pos_names = cols[dimer_pos_bool]\n",
    "dimer_pos = [get_pos(name) for name in dimer_pos_names]"
   ]
  },
  {
   "cell_type": "code",
   "execution_count": 70,
   "metadata": {},
   "outputs": [],
   "source": [
    "nucl_coef = coef[0, nucl_pos_bool]\n",
    "dimer_coef = coef[0, dimer_pos_bool]"
   ]
  },
  {
   "cell_type": "code",
   "execution_count": 71,
   "metadata": {},
   "outputs": [],
   "source": [
    "def specific_nucl_pos(nucleotide):\n",
    "    pos_bool = [nucleotide in name for name in nucl_pos_names]\n",
    "    names = nucl_pos_names[pos_bool]\n",
    "    pos = [get_pos(name) for name in names]\n",
    "    coef = nucl_coef[pos_bool]\n",
    "    return (names, pos, coef)"
   ]
  },
  {
   "cell_type": "code",
   "execution_count": 72,
   "metadata": {},
   "outputs": [],
   "source": [
    "A = specific_nucl_pos('A')\n",
    "C = specific_nucl_pos('C')\n",
    "G = specific_nucl_pos('G')\n",
    "T = specific_nucl_pos('T')\n",
    "nucl_pos_plot = [A, C, G, T]"
   ]
  },
  {
   "cell_type": "code",
   "execution_count": 73,
   "metadata": {},
   "outputs": [],
   "source": [
    "from matplotlib.pyplot import figure"
   ]
  },
  {
   "cell_type": "code",
   "execution_count": 74,
   "metadata": {},
   "outputs": [],
   "source": [
    "def pos_plot(plot_info, colors, title, legend, ax):\n",
    "    width = 1/len(plot_info)\n",
    "    for index, nucl in enumerate(plot_info):\n",
    "        ax.bar(np.array(nucl[1]) + (index - 1)*width, nucl[2] + 0.001, width, color = colors[index])\n",
    "    ax.legend(legend, loc='upper left')\n",
    "    # ax.axhline(linewidth = 1, color = 'k')\n",
    "    ax.set_xticks((-1 * np.arange(len(nucl[1])) - 3))\n",
    "    ax.set_ylim((-0.1, 0.1))\n",
    "    ax.title.set_text(title)"
   ]
  },
  {
   "cell_type": "code",
   "execution_count": 75,
   "metadata": {},
   "outputs": [],
   "source": [
    "def specific_dimer_pos(dimer):\n",
    "    pos_bool = [dimer in name for name in dimer_pos_names]\n",
    "    names = dimer_pos_names[pos_bool]\n",
    "    pos = [get_pos(name) for name in names]\n",
    "    curr_coef = dimer_coef[pos_bool]\n",
    "    return (names, pos, curr_coef)"
   ]
  },
  {
   "cell_type": "code",
   "execution_count": 76,
   "metadata": {},
   "outputs": [],
   "source": [
    "dimer_encodings = {'AA' : 0, 'AC' : 1, 'AG' : 2, 'AT' : 3, 'CA' : 4, 'CC' : 5, 'CG' : 6, 'CT' : 7,          \n",
    "                   'GA' : 8, 'GC' : 9, 'GG' : 10, 'GT' : 11, 'TA' : 12, 'TC' : 13, 'TG' : 14, 'TT' : 15}\n",
    "dimers = dimer_encodings.keys()\n",
    "dimer_plot = []\n",
    "for dimer in dimers:\n",
    "    dimer_plot.append(specific_dimer_pos(dimer))"
   ]
  },
  {
   "cell_type": "markdown",
   "metadata": {},
   "source": [
    "Note: they label the big ones with the dimer name\n",
    "\n",
    "Program? Adobe? \n",
    "\n",
    "color blind palette?? "
   ]
  },
  {
   "cell_type": "code",
   "execution_count": 77,
   "metadata": {},
   "outputs": [
    {
     "data": {
      "image/png": "[encoded data removed]",
      "text/plain": [
       "<Figure size 864x720 with 2 Axes>"
      ]
     },
     "metadata": {
      "needs_background": "light"
     },
     "output_type": "display_data"
    }
   ],
   "source": [
    "f, axs = plt.subplots(2, 1,figsize=(12,10))\n",
    "colors =  ['seagreen', 'lightcoral', 'slategrey', 'cornflowerblue']\n",
    "pos_plot(nucl_pos_plot, colors, \"Nucleotides at each position\", ('A', 'C', 'G', 'T'), axs[0])\n",
    "colors = ['#00FF00', '#66FF66', '#99FF99', '#CCFFCC',\n",
    "         '#000099', '#0000FF', '#3333FF','#6666FF',\n",
    "         '#000000', '#404040', '#808080', '#C0C0C0',\n",
    "         '#CC0000', '#FF6666', '#FF9999', '#FFCCCC']\n",
    "pos_plot(dimer_plot, colors,\"Dimers at each position\", dimers, axs[1])"
   ]
  },
  {
   "cell_type": "code",
   "execution_count": 78,
   "metadata": {},
   "outputs": [],
   "source": [
    "def longest_run(nucl, ax, color, first):\n",
    "    dist_indices = ['longest_' + nucl in colname for index, colname in enumerate(cols)]\n",
    "    dist_name = cols[dist_indices]\n",
    "    dist_coef = coef[0, dist_indices]\n",
    "    dist = [get_run(name) for name in dist_name]\n",
    "    ax.bar(dist[1:], dist_coef[1:], color = color, edgecolor='k')\n",
    "    ax.set_ylim((-0.1, 0.1))\n",
    "    ax.axhline(linewidth = 1, color = 'k')\n",
    "    set_graph(first, ax)\n",
    "    ax.title.set_text('Longest consecutive run of ' + nucl)"
   ]
  },
  {
   "cell_type": "code",
   "execution_count": 84,
   "metadata": {
    "scrolled": false
   },
   "outputs": [
    {
     "name": "stdout",
     "output_type": "stream",
     "text": [
      "['+ve strand' 'pos_-27_A' 'pos_-27_C' 'pos_-27_G' 'pos_-27_T' 'pos_-26_A'\n",
      " 'pos_-26_C' 'pos_-26_G' 'pos_-26_T' 'pos_-25_A' 'pos_-25_C' 'pos_-25_G'\n",
      " 'pos_-25_T' 'pos_-24_A' 'pos_-24_C' 'pos_-24_G' 'pos_-24_T' 'pos_-23_A'\n",
      " 'pos_-23_C' 'pos_-23_G' 'pos_-23_T' 'pos_-22_A' 'pos_-22_C' 'pos_-22_G'\n",
      " 'pos_-22_T' 'pos_-21_A' 'pos_-21_C' 'pos_-21_G' 'pos_-21_T' 'pos_-20_A'\n",
      " 'pos_-20_C' 'pos_-20_G' 'pos_-20_T' 'pos_-19_A' 'pos_-19_C' 'pos_-19_G'\n",
      " 'pos_-19_T' 'pos_-18_A' 'pos_-18_C' 'pos_-18_G' 'pos_-18_T' 'pos_-17_A'\n",
      " 'pos_-17_C' 'pos_-17_G' 'pos_-17_T' 'pos_-16_A' 'pos_-16_C' 'pos_-16_G'\n",
      " 'pos_-16_T' 'pos_-15_A' 'pos_-15_C' 'pos_-15_G' 'pos_-15_T' 'pos_-14_A'\n",
      " 'pos_-14_C' 'pos_-14_G' 'pos_-14_T' 'pos_-13_A' 'pos_-13_C' 'pos_-13_G'\n",
      " 'pos_-13_T' 'pos_-12_A' 'pos_-12_C' 'pos_-12_G' 'pos_-12_T' 'pos_-11_A'\n",
      " 'pos_-11_C' 'pos_-11_G' 'pos_-11_T' 'pos_-10_A' 'pos_-10_C' 'pos_-10_G'\n",
      " 'pos_-10_T' 'pos_-9_A' 'pos_-9_C' 'pos_-9_G' 'pos_-9_T' 'pos_-8_A'\n",
      " 'pos_-8_C' 'pos_-8_G' 'pos_-8_T' 'pos_-7_A' 'pos_-7_C' 'pos_-7_G'\n",
      " 'pos_-7_T' 'pos_-6_A' 'pos_-6_C' 'pos_-6_G' 'pos_-6_T' 'pos_-5_A'\n",
      " 'pos_-5_C' 'pos_-5_G' 'pos_-5_T' 'pos_-4_A' 'pos_-4_C' 'pos_-4_G'\n",
      " 'pos_-4_T' 'pos_-3_A' 'pos_-3_C' 'pos_-3_G' 'pos_-3_T' 'pos_-27_AA'\n",
      " 'pos_-27_AC' 'pos_-27_AG' 'pos_-27_AT' 'pos_-27_CA' 'pos_-27_CC'\n",
      " 'pos_-27_CG' 'pos_-27_CT' 'pos_-27_GA' 'pos_-27_GC' 'pos_-27_GG'\n",
      " 'pos_-27_GT' 'pos_-27_TA' 'pos_-27_TC' 'pos_-27_TG' 'pos_-27_TT'\n",
      " 'pos_-26_AA' 'pos_-26_AC' 'pos_-26_AG' 'pos_-26_AT' 'pos_-26_CA'\n",
      " 'pos_-26_CC' 'pos_-26_CG' 'pos_-26_CT' 'pos_-26_GA' 'pos_-26_GC'\n",
      " 'pos_-26_GG' 'pos_-26_GT' 'pos_-26_TA' 'pos_-26_TC' 'pos_-26_TG'\n",
      " 'pos_-26_TT' 'pos_-25_AA' 'pos_-25_AC' 'pos_-25_AG' 'pos_-25_AT'\n",
      " 'pos_-25_CA' 'pos_-25_CC' 'pos_-25_CG' 'pos_-25_CT' 'pos_-25_GA'\n",
      " 'pos_-25_GC' 'pos_-25_GG' 'pos_-25_GT' 'pos_-25_TA' 'pos_-25_TC'\n",
      " 'pos_-25_TG' 'pos_-25_TT' 'pos_-24_AA' 'pos_-24_AC' 'pos_-24_AG'\n",
      " 'pos_-24_AT' 'pos_-24_CA' 'pos_-24_CC' 'pos_-24_CG' 'pos_-24_CT'\n",
      " 'pos_-24_GA' 'pos_-24_GC' 'pos_-24_GG' 'pos_-24_GT' 'pos_-24_TA'\n",
      " 'pos_-24_TC' 'pos_-24_TG' 'pos_-24_TT' 'pos_-23_AA' 'pos_-23_AC'\n",
      " 'pos_-23_AG' 'pos_-23_AT' 'pos_-23_CA' 'pos_-23_CC' 'pos_-23_CG'\n",
      " 'pos_-23_CT' 'pos_-23_GA' 'pos_-23_GC' 'pos_-23_GG' 'pos_-23_GT'\n",
      " 'pos_-23_TA' 'pos_-23_TC' 'pos_-23_TG' 'pos_-23_TT' 'pos_-22_AA'\n",
      " 'pos_-22_AC' 'pos_-22_AG' 'pos_-22_AT' 'pos_-22_CA' 'pos_-22_CC'\n",
      " 'pos_-22_CG' 'pos_-22_CT' 'pos_-22_GA' 'pos_-22_GC' 'pos_-22_GG'\n",
      " 'pos_-22_GT' 'pos_-22_TA' 'pos_-22_TC' 'pos_-22_TG' 'pos_-22_TT'\n",
      " 'pos_-21_AA' 'pos_-21_AC' 'pos_-21_AG' 'pos_-21_AT' 'pos_-21_CA'\n",
      " 'pos_-21_CC' 'pos_-21_CG' 'pos_-21_CT' 'pos_-21_GA' 'pos_-21_GC'\n",
      " 'pos_-21_GG' 'pos_-21_GT' 'pos_-21_TA' 'pos_-21_TC' 'pos_-21_TG'\n",
      " 'pos_-21_TT' 'pos_-20_AA' 'pos_-20_AC' 'pos_-20_AG' 'pos_-20_AT'\n",
      " 'pos_-20_CA' 'pos_-20_CC' 'pos_-20_CG' 'pos_-20_CT' 'pos_-20_GA'\n",
      " 'pos_-20_GC' 'pos_-20_GG' 'pos_-20_GT' 'pos_-20_TA' 'pos_-20_TC'\n",
      " 'pos_-20_TG' 'pos_-20_TT' 'pos_-19_AA' 'pos_-19_AC' 'pos_-19_AG'\n",
      " 'pos_-19_AT' 'pos_-19_CA' 'pos_-19_CC' 'pos_-19_CG' 'pos_-19_CT'\n",
      " 'pos_-19_GA' 'pos_-19_GC' 'pos_-19_GG' 'pos_-19_GT' 'pos_-19_TA'\n",
      " 'pos_-19_TC' 'pos_-19_TG' 'pos_-19_TT' 'pos_-18_AA' 'pos_-18_AC'\n",
      " 'pos_-18_AG' 'pos_-18_AT' 'pos_-18_CA' 'pos_-18_CC' 'pos_-18_CG'\n",
      " 'pos_-18_CT' 'pos_-18_GA' 'pos_-18_GC' 'pos_-18_GG' 'pos_-18_GT'\n",
      " 'pos_-18_TA' 'pos_-18_TC' 'pos_-18_TG' 'pos_-18_TT' 'pos_-17_AA'\n",
      " 'pos_-17_AC' 'pos_-17_AG' 'pos_-17_AT' 'pos_-17_CA' 'pos_-17_CC'\n",
      " 'pos_-17_CG' 'pos_-17_CT' 'pos_-17_GA' 'pos_-17_GC' 'pos_-17_GG'\n",
      " 'pos_-17_GT' 'pos_-17_TA' 'pos_-17_TC' 'pos_-17_TG' 'pos_-17_TT'\n",
      " 'pos_-16_AA' 'pos_-16_AC' 'pos_-16_AG' 'pos_-16_AT' 'pos_-16_CA'\n",
      " 'pos_-16_CC' 'pos_-16_CG' 'pos_-16_CT' 'pos_-16_GA' 'pos_-16_GC'\n",
      " 'pos_-16_GG' 'pos_-16_GT' 'pos_-16_TA' 'pos_-16_TC' 'pos_-16_TG'\n",
      " 'pos_-16_TT' 'pos_-15_AA' 'pos_-15_AC' 'pos_-15_AG' 'pos_-15_AT'\n",
      " 'pos_-15_CA' 'pos_-15_CC' 'pos_-15_CG' 'pos_-15_CT' 'pos_-15_GA'\n",
      " 'pos_-15_GC' 'pos_-15_GG' 'pos_-15_GT' 'pos_-15_TA' 'pos_-15_TC'\n",
      " 'pos_-15_TG' 'pos_-15_TT' 'pos_-14_AA' 'pos_-14_AC' 'pos_-14_AG'\n",
      " 'pos_-14_AT' 'pos_-14_CA' 'pos_-14_CC' 'pos_-14_CG' 'pos_-14_CT'\n",
      " 'pos_-14_GA' 'pos_-14_GC' 'pos_-14_GG' 'pos_-14_GT' 'pos_-14_TA'\n",
      " 'pos_-14_TC' 'pos_-14_TG' 'pos_-14_TT' 'pos_-13_AA' 'pos_-13_AC'\n",
      " 'pos_-13_AG' 'pos_-13_AT' 'pos_-13_CA' 'pos_-13_CC' 'pos_-13_CG'\n",
      " 'pos_-13_CT' 'pos_-13_GA' 'pos_-13_GC' 'pos_-13_GG' 'pos_-13_GT'\n",
      " 'pos_-13_TA' 'pos_-13_TC' 'pos_-13_TG' 'pos_-13_TT' 'pos_-12_AA'\n",
      " 'pos_-12_AC' 'pos_-12_AG' 'pos_-12_AT' 'pos_-12_CA' 'pos_-12_CC'\n",
      " 'pos_-12_CG' 'pos_-12_CT' 'pos_-12_GA' 'pos_-12_GC' 'pos_-12_GG'\n",
      " 'pos_-12_GT' 'pos_-12_TA' 'pos_-12_TC' 'pos_-12_TG' 'pos_-12_TT'\n",
      " 'pos_-11_AA' 'pos_-11_AC' 'pos_-11_AG' 'pos_-11_AT' 'pos_-11_CA'\n",
      " 'pos_-11_CC' 'pos_-11_CG' 'pos_-11_CT' 'pos_-11_GA' 'pos_-11_GC'\n",
      " 'pos_-11_GG' 'pos_-11_GT' 'pos_-11_TA' 'pos_-11_TC' 'pos_-11_TG'\n",
      " 'pos_-11_TT' 'pos_-10_AA' 'pos_-10_AC' 'pos_-10_AG' 'pos_-10_AT'\n",
      " 'pos_-10_CA' 'pos_-10_CC' 'pos_-10_CG' 'pos_-10_CT' 'pos_-10_GA'\n",
      " 'pos_-10_GC' 'pos_-10_GG' 'pos_-10_GT' 'pos_-10_TA' 'pos_-10_TC'\n",
      " 'pos_-10_TG' 'pos_-10_TT' 'pos_-9_AA' 'pos_-9_AC' 'pos_-9_AG' 'pos_-9_AT'\n",
      " 'pos_-9_CA' 'pos_-9_CC' 'pos_-9_CG' 'pos_-9_CT' 'pos_-9_GA' 'pos_-9_GC'\n",
      " 'pos_-9_GG' 'pos_-9_GT' 'pos_-9_TA' 'pos_-9_TC' 'pos_-9_TG' 'pos_-9_TT'\n",
      " 'pos_-8_AA' 'pos_-8_AC' 'pos_-8_AG' 'pos_-8_AT' 'pos_-8_CA' 'pos_-8_CC'\n",
      " 'pos_-8_CG' 'pos_-8_CT' 'pos_-8_GA' 'pos_-8_GC' 'pos_-8_GG' 'pos_-8_GT'\n",
      " 'pos_-8_TA' 'pos_-8_TC' 'pos_-8_TG' 'pos_-8_TT' 'pos_-7_AA' 'pos_-7_AC'\n",
      " 'pos_-7_AG' 'pos_-7_AT' 'pos_-7_CA' 'pos_-7_CC' 'pos_-7_CG' 'pos_-7_CT'\n",
      " 'pos_-7_GA' 'pos_-7_GC' 'pos_-7_GG' 'pos_-7_GT' 'pos_-7_TA' 'pos_-7_TC'\n",
      " 'pos_-7_TG' 'pos_-7_TT' 'pos_-6_AA' 'pos_-6_AC' 'pos_-6_AG' 'pos_-6_AT'\n",
      " 'pos_-6_CA' 'pos_-6_CC' 'pos_-6_CG' 'pos_-6_CT' 'pos_-6_GA' 'pos_-6_GC'\n",
      " 'pos_-6_GG' 'pos_-6_GT' 'pos_-6_TA' 'pos_-6_TC' 'pos_-6_TG' 'pos_-6_TT'\n",
      " 'pos_-5_AA' 'pos_-5_AC' 'pos_-5_AG' 'pos_-5_AT' 'pos_-5_CA' 'pos_-5_CC'\n",
      " 'pos_-5_CG' 'pos_-5_CT' 'pos_-5_GA' 'pos_-5_GC' 'pos_-5_GG' 'pos_-5_GT'\n",
      " 'pos_-5_TA' 'pos_-5_TC' 'pos_-5_TG' 'pos_-5_TT' 'pos_-4_AA' 'pos_-4_AC'\n",
      " 'pos_-4_AG' 'pos_-4_AT' 'pos_-4_CA' 'pos_-4_CC' 'pos_-4_CG' 'pos_-4_CT'\n",
      " 'pos_-4_GA' 'pos_-4_GC' 'pos_-4_GG' 'pos_-4_GT' 'pos_-4_TA' 'pos_-4_TC'\n",
      " 'pos_-4_TG' 'pos_-4_TT' \"dist prim 3'\" \"dist prim 5'\" \"dist snd 3'\"\n",
      " \"dist snd 5'\" 'longest_A_0' 'longest_A_1' 'longest_A_2' 'longest_A_3'\n",
      " 'longest_A_4' 'longest_A_5' 'longest_A_6' 'longest_A_7' 'longest_C_0'\n",
      " 'longest_C_1' 'longest_C_2' 'longest_C_3' 'longest_C_4' 'longest_C_5'\n",
      " 'longest_C_6' 'longest_C_7' 'longest_T_0' 'longest_T_1' 'longest_T_2'\n",
      " 'longest_T_3' 'longest_T_4' 'longest_T_5' 'longest_T_6' 'longest_T_7'\n",
      " 'longest_T_8' 'longest_G_0' 'longest_G_1' 'longest_G_2' 'longest_G_3'\n",
      " 'longest_G_4' 'longest_G_5' 'longest_G_6' 'longest_G_7' 'longest_G_8'\n",
      " 'A_comp_0.1' 'A_comp_0.2' 'A_comp_0.3' 'A_comp_0.4' 'A_comp_0.5'\n",
      " 'A_comp_0.6' 'A_comp_0.7' 'A_comp_0.8' 'A_comp_0.9' 'A_comp_1.0'\n",
      " 'C_comp_0.1' 'C_comp_0.2' 'C_comp_0.3' 'C_comp_0.4' 'C_comp_0.5'\n",
      " 'C_comp_0.6' 'C_comp_0.7' 'C_comp_0.8' 'C_comp_0.9' 'C_comp_1.0'\n",
      " 'T_comp_0.1' 'T_comp_0.2' 'T_comp_0.3' 'T_comp_0.4' 'T_comp_0.5'\n",
      " 'T_comp_0.6' 'T_comp_0.7' 'T_comp_0.8' 'T_comp_0.9' 'T_comp_1.0'\n",
      " 'G_comp_0.1' 'G_comp_0.2' 'G_comp_0.3' 'G_comp_0.4' 'G_comp_0.5'\n",
      " 'G_comp_0.6' 'G_comp_0.7' 'G_comp_0.8' 'G_comp_0.9' 'G_comp_1.0'\n",
      " 'GC_comp_0.1' 'GC_comp_0.2' 'GC_comp_0.3' 'GC_comp_0.4' 'GC_comp_0.5'\n",
      " 'GC_comp_0.6' 'GC_comp_0.7' 'GC_comp_0.8' 'GC_comp_0.9' 'GC_comp_1.0'\n",
      " 'CA_comp_0.1' 'CA_comp_0.2' 'CA_comp_0.3' 'CA_comp_0.4' 'CA_comp_0.5'\n",
      " 'CA_comp_0.6' 'CA_comp_0.7' 'CA_comp_0.8' 'CA_comp_0.9' 'CA_comp_1.0'\n",
      " 'AG_comp_0.1' 'AG_comp_0.2' 'AG_comp_0.3' 'AG_comp_0.4' 'AG_comp_0.5'\n",
      " 'AG_comp_0.6' 'AG_comp_0.7' 'AG_comp_0.8' 'AG_comp_0.9' 'AG_comp_1.0'\n",
      " 'length_18' 'length_19' 'length_20' 'length_21' 'length_22' 'length_23'\n",
      " 'length_24' 'length_25']\n"
     ]
    }
   ],
   "source": [
    "print(cols)\n",
    "# \"G_comp\" in \"AG_comp_0.1\""
   ]
  },
  {
   "cell_type": "code",
   "execution_count": 80,
   "metadata": {},
   "outputs": [],
   "source": [
    "def composition(nucl, ax, color, first):\n",
    "    dist_indices = [nucl + '_comp' in colname for index, colname in enumerate(cols)]\n",
    "    dist_name = cols[dist_indices]\n",
    "    dist_coef = coef[0, dist_indices]\n",
    "    dist = [name[-3:] for name in dist_name]\n",
    "    ax.bar(dist, dist_coef, color = color, edgecolor='k')\n",
    "    ax.set_ylim((-0.1, 0.1))\n",
    "    ax.axhline(linewidth = 1, color = 'k')\n",
    "    set_graph(first, ax)\n",
    "    ax.title.set_text('Composition of ' + nucl)"
   ]
  },
  {
   "cell_type": "code",
   "execution_count": 81,
   "metadata": {},
   "outputs": [
    {
     "data": {
      "image/png": "[encoded data removed]",
      "text/plain": [
       "<Figure size 1440x360 with 3 Axes>"
      ]
     },
     "metadata": {
      "needs_background": "light"
     },
     "output_type": "display_data"
    }
   ],
   "source": [
    "f, axs = plt.subplots(1,3,figsize=(20,5))\n",
    "colors = ['seagreen', 'lightcoral', 'cornflowerblue']\n",
    "for nucl, ax, color in [('GC', axs[0], colors[0]), \n",
    "                ('CA', axs[1], colors[1]),\n",
    "                ('AG', axs[2], colors[2])]:\n",
    "    if(ax == axs[0]):\n",
    "        composition(nucl, ax, color, True)\n",
    "    else:\n",
    "        composition(nucl, ax, color, False)\n",
    "    \n",
    "# hide outer axes \n",
    "for ax in axs.flat:\n",
    "    ax.label_outer()\n"
   ]
  },
  {
   "cell_type": "code",
   "execution_count": 82,
   "metadata": {},
   "outputs": [
    {
     "data": {
      "image/png": "[encoded data removed]",
      "text/plain": [
       "<Figure size 1440x720 with 8 Axes>"
      ]
     },
     "metadata": {
      "needs_background": "light"
     },
     "output_type": "display_data"
    }
   ],
   "source": [
    "f, axs = plt.subplots(2,4,figsize=(20,10))\n",
    "\n",
    "colors = ['seagreen', 'lightcoral', 'slategrey', 'cornflowerblue']\n",
    "for nucl, ax_run, ax_comp, color in [('A', axs[0, 0], axs[1, 0], colors[0]), \n",
    "                ('C', axs[0, 1], axs[1, 1], colors[1]),\n",
    "                ('G', axs[0, 2], axs[1, 2], colors[2]),\n",
    "                ('T', axs[0, 3], axs[1, 3], colors[3])]:\n",
    "    if(ax_run == axs[0, 0]):\n",
    "        longest_run(nucl, ax_run, color, True)\n",
    "        composition(nucl, ax_comp, color, True)\n",
    "    else:\n",
    "        longest_run(nucl, ax_run, color, False)\n",
    "        composition(nucl, ax_comp, color, False)\n",
    "\n",
    "# hide outer axes \n",
    "for ax in axs.flat:\n",
    "    ax.label_outer()"
   ]
  },
  {
   "cell_type": "code",
   "execution_count": null,
   "metadata": {},
   "outputs": [],
   "source": []
  }
 ],
 "metadata": {
  "kernelspec": {
   "display_name": "Python 3",
   "language": "python",
   "name": "python3"
  },
  "language_info": {
   "codemirror_mode": {
    "name": "ipython",
    "version": 3
   },
   "file_extension": ".py",
   "mimetype": "text/x-python",
   "name": "python",
   "nbconvert_exporter": "python",
   "pygments_lexer": "ipython3",
   "version": "3.8.3"
  }
 },
 "nbformat": 4,
 "nbformat_minor": 4
}
