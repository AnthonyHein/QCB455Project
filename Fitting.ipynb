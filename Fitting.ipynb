{
 "cells": [
  {
   "cell_type": "markdown",
   "metadata": {},
   "source": [
    "* Neural Network\n",
    "\n",
    "* SVM\n",
    "\n",
    "* Logisitc Regress\n",
    "\n",
    "* Elastic Net Linear Regression"
   ]
  },
  {
   "cell_type": "code",
   "execution_count": 163,
   "metadata": {},
   "outputs": [],
   "source": [
    "import numpy as np\n",
    "import pandas as pd\n",
    "\n",
    "import matplotlib.pyplot as plt\n",
    "from matplotlib import cm\n",
    "\n",
    "from sklearn import linear_model\n",
    "from sklearn.metrics import mean_squared_error, r2_score\n",
    "from sklearn.datasets import make_regression\n",
    "from sklearn.model_selection import KFold\n",
    "from sklearn.linear_model import ElasticNetCV\n",
    "from sklearn.preprocessing import StandardScaler\n",
    "from sklearn import metrics\n",
    "from sklearn.metrics import roc_auc_score"
   ]
  },
  {
   "cell_type": "code",
   "execution_count": 164,
   "metadata": {},
   "outputs": [],
   "source": [
    "np.random.seed(0)"
   ]
  },
  {
   "cell_type": "code",
   "execution_count": 165,
   "metadata": {},
   "outputs": [
    {
     "data": {
      "text/html": [
       "<div>\n",
       "<style scoped>\n",
       "    .dataframe tbody tr th:only-of-type {\n",
       "        vertical-align: middle;\n",
       "    }\n",
       "\n",
       "    .dataframe tbody tr th {\n",
       "        vertical-align: top;\n",
       "    }\n",
       "\n",
       "    .dataframe thead th {\n",
       "        text-align: right;\n",
       "    }\n",
       "</style>\n",
       "<table border=\"1\" class=\"dataframe\">\n",
       "  <thead>\n",
       "    <tr style=\"text-align: right;\">\n",
       "      <th></th>\n",
       "      <th>Unnamed: 0</th>\n",
       "      <th>score</th>\n",
       "      <th>+ve strand</th>\n",
       "      <th>length</th>\n",
       "      <th>longest A</th>\n",
       "      <th>longest C</th>\n",
       "      <th>longest G</th>\n",
       "      <th>longest T</th>\n",
       "      <th>As</th>\n",
       "      <th>Cs</th>\n",
       "      <th>...</th>\n",
       "      <th>pos_-0_GC</th>\n",
       "      <th>pos_-0_GG</th>\n",
       "      <th>pos_-0_GT</th>\n",
       "      <th>pos_-0_TA</th>\n",
       "      <th>pos_-0_TC</th>\n",
       "      <th>pos_-0_TG</th>\n",
       "      <th>dist prim 3'</th>\n",
       "      <th>dist prim 5'</th>\n",
       "      <th>dist snd 3'</th>\n",
       "      <th>dist snd 5'</th>\n",
       "    </tr>\n",
       "  </thead>\n",
       "  <tbody>\n",
       "    <tr>\n",
       "      <th>0</th>\n",
       "      <td>0</td>\n",
       "      <td>0.019320</td>\n",
       "      <td>1</td>\n",
       "      <td>24</td>\n",
       "      <td>1</td>\n",
       "      <td>1</td>\n",
       "      <td>2</td>\n",
       "      <td>2</td>\n",
       "      <td>0.142857</td>\n",
       "      <td>0.238095</td>\n",
       "      <td>...</td>\n",
       "      <td>0</td>\n",
       "      <td>0</td>\n",
       "      <td>0</td>\n",
       "      <td>0</td>\n",
       "      <td>0</td>\n",
       "      <td>0</td>\n",
       "      <td>0.479236</td>\n",
       "      <td>0.522723</td>\n",
       "      <td>0.480451</td>\n",
       "      <td>0.480486</td>\n",
       "    </tr>\n",
       "    <tr>\n",
       "      <th>1</th>\n",
       "      <td>1</td>\n",
       "      <td>0.348892</td>\n",
       "      <td>1</td>\n",
       "      <td>24</td>\n",
       "      <td>1</td>\n",
       "      <td>4</td>\n",
       "      <td>2</td>\n",
       "      <td>1</td>\n",
       "      <td>0.142857</td>\n",
       "      <td>0.476190</td>\n",
       "      <td>...</td>\n",
       "      <td>0</td>\n",
       "      <td>0</td>\n",
       "      <td>0</td>\n",
       "      <td>0</td>\n",
       "      <td>0</td>\n",
       "      <td>0</td>\n",
       "      <td>0.272874</td>\n",
       "      <td>0.311790</td>\n",
       "      <td>0.296377</td>\n",
       "      <td>0.295867</td>\n",
       "    </tr>\n",
       "    <tr>\n",
       "      <th>2</th>\n",
       "      <td>2</td>\n",
       "      <td>0.912409</td>\n",
       "      <td>1</td>\n",
       "      <td>24</td>\n",
       "      <td>1</td>\n",
       "      <td>3</td>\n",
       "      <td>2</td>\n",
       "      <td>1</td>\n",
       "      <td>0.095238</td>\n",
       "      <td>0.380952</td>\n",
       "      <td>...</td>\n",
       "      <td>0</td>\n",
       "      <td>0</td>\n",
       "      <td>0</td>\n",
       "      <td>0</td>\n",
       "      <td>0</td>\n",
       "      <td>1</td>\n",
       "      <td>0.264627</td>\n",
       "      <td>0.231069</td>\n",
       "      <td>0.266531</td>\n",
       "      <td>0.273686</td>\n",
       "    </tr>\n",
       "    <tr>\n",
       "      <th>3</th>\n",
       "      <td>3</td>\n",
       "      <td>0.997242</td>\n",
       "      <td>1</td>\n",
       "      <td>24</td>\n",
       "      <td>1</td>\n",
       "      <td>3</td>\n",
       "      <td>2</td>\n",
       "      <td>1</td>\n",
       "      <td>0.238095</td>\n",
       "      <td>0.238095</td>\n",
       "      <td>...</td>\n",
       "      <td>0</td>\n",
       "      <td>0</td>\n",
       "      <td>1</td>\n",
       "      <td>0</td>\n",
       "      <td>0</td>\n",
       "      <td>0</td>\n",
       "      <td>0.339376</td>\n",
       "      <td>0.284810</td>\n",
       "      <td>0.286465</td>\n",
       "      <td>0.296909</td>\n",
       "    </tr>\n",
       "    <tr>\n",
       "      <th>4</th>\n",
       "      <td>4</td>\n",
       "      <td>0.962154</td>\n",
       "      <td>1</td>\n",
       "      <td>24</td>\n",
       "      <td>1</td>\n",
       "      <td>3</td>\n",
       "      <td>3</td>\n",
       "      <td>2</td>\n",
       "      <td>0.047619</td>\n",
       "      <td>0.285714</td>\n",
       "      <td>...</td>\n",
       "      <td>0</td>\n",
       "      <td>1</td>\n",
       "      <td>0</td>\n",
       "      <td>0</td>\n",
       "      <td>0</td>\n",
       "      <td>0</td>\n",
       "      <td>0.511431</td>\n",
       "      <td>0.460201</td>\n",
       "      <td>0.366392</td>\n",
       "      <td>0.379641</td>\n",
       "    </tr>\n",
       "  </tbody>\n",
       "</table>\n",
       "<p>5 rows × 503 columns</p>\n",
       "</div>"
      ],
      "text/plain": [
       "   Unnamed: 0     score  +ve strand  length  longest A  longest C  longest G  \\\n",
       "0           0  0.019320           1      24          1          1          2   \n",
       "1           1  0.348892           1      24          1          4          2   \n",
       "2           2  0.912409           1      24          1          3          2   \n",
       "3           3  0.997242           1      24          1          3          2   \n",
       "4           4  0.962154           1      24          1          3          3   \n",
       "\n",
       "   longest T        As        Cs  ...  pos_-0_GC  pos_-0_GG  pos_-0_GT  \\\n",
       "0          2  0.142857  0.238095  ...          0          0          0   \n",
       "1          1  0.142857  0.476190  ...          0          0          0   \n",
       "2          1  0.095238  0.380952  ...          0          0          0   \n",
       "3          1  0.238095  0.238095  ...          0          0          1   \n",
       "4          2  0.047619  0.285714  ...          0          1          0   \n",
       "\n",
       "   pos_-0_TA  pos_-0_TC  pos_-0_TG  dist prim 3'  dist prim 5'  dist snd 3'  \\\n",
       "0          0          0          0      0.479236      0.522723     0.480451   \n",
       "1          0          0          0      0.272874      0.311790     0.296377   \n",
       "2          0          0          1      0.264627      0.231069     0.266531   \n",
       "3          0          0          0      0.339376      0.284810     0.286465   \n",
       "4          0          0          0      0.511431      0.460201     0.366392   \n",
       "\n",
       "   dist snd 5'  \n",
       "0     0.480486  \n",
       "1     0.295867  \n",
       "2     0.273686  \n",
       "3     0.296909  \n",
       "4     0.379641  \n",
       "\n",
       "[5 rows x 503 columns]"
      ]
     },
     "execution_count": 165,
     "metadata": {},
     "output_type": "execute_result"
    }
   ],
   "source": [
    "features_raw = pd.read_csv('features.csv')\n",
    "features_raw.head()"
   ]
  },
  {
   "cell_type": "code",
   "execution_count": 166,
   "metadata": {},
   "outputs": [
    {
     "data": {
      "text/plain": [
       "array([0.01932036, 0.34889211, 0.91240883, 0.99724205, 0.96215413])"
      ]
     },
     "execution_count": 166,
     "metadata": {},
     "output_type": "execute_result"
    }
   ],
   "source": [
    "scores_arr = features_raw['score'].to_numpy()\n",
    "scores_arr[0:5]"
   ]
  },
  {
   "cell_type": "code",
   "execution_count": 167,
   "metadata": {},
   "outputs": [
    {
     "data": {
      "text/plain": [
       "array([[ 1., 24.,  1.,  1.,  2.],\n",
       "       [ 1., 24.,  1.,  4.,  2.],\n",
       "       [ 1., 24.,  1.,  3.,  2.],\n",
       "       [ 1., 24.,  1.,  3.,  2.],\n",
       "       [ 1., 24.,  1.,  3.,  3.]])"
      ]
     },
     "execution_count": 167,
     "metadata": {},
     "output_type": "execute_result"
    }
   ],
   "source": [
    "features_df = features_raw.drop(columns=['score', 'Unnamed: 0'])\n",
    "features_arr = features_df.to_numpy()\n",
    "features_arr[0:5, 0:5]"
   ]
  },
  {
   "cell_type": "code",
   "execution_count": 168,
   "metadata": {},
   "outputs": [],
   "source": [
    "# standardize the data to N(0,1)\n",
    "scaler = StandardScaler()\n",
    "scaler.fit(features_arr)\n",
    "features_arr_std = scaler.transform(features_arr)"
   ]
  },
  {
   "cell_type": "code",
   "execution_count": 169,
   "metadata": {},
   "outputs": [
    {
     "name": "stdout",
     "output_type": "stream",
     "text": [
      "TRAIN: [    0     1     2 ... 16361 16362 16363] TEST: [    7     9    12 ... 16354 16364 16365]\n",
      "TRAIN: [    0     1     2 ... 16363 16364 16365] TEST: [    8    14    23 ... 16346 16349 16360]\n",
      "TRAIN: [    0     1     2 ... 16363 16364 16365] TEST: [    5     6    15 ... 16350 16351 16358]\n",
      "TRAIN: [    0     5     6 ... 16363 16364 16365] TEST: [    1     2     3 ... 16357 16361 16362]\n",
      "TRAIN: [    1     2     3 ... 16362 16364 16365] TEST: [    0    13    21 ... 16353 16359 16363]\n"
     ]
    }
   ],
   "source": [
    "Xs_train = []\n",
    "Ys_train = []\n",
    "\n",
    "Xs_test = []\n",
    "Ys_test = []\n",
    "\n",
    "folds = KFold(n_splits=5, shuffle = True)\n",
    "\n",
    "for train_index, test_index in folds.split(features_arr_std):\n",
    "    Xs_train.append(features_arr_std[train_index])\n",
    "    Ys_train.append(features_arr_std[train_index])\n",
    "    \n",
    "    Xs_train.append(features_arr_std[test_index])\n",
    "    Ys_train.append(features_arr_std[test_index])\n",
    "    \n",
    "    print(\"TRAIN:\", train_index, \"TEST:\", test_index)"
   ]
  },
  {
   "cell_type": "code",
   "execution_count": 170,
   "metadata": {},
   "outputs": [],
   "source": [
    "### CHECK STANDARDIZATION\n",
    "\n",
    "# TODO\n",
    "\n",
    "###"
   ]
  },
  {
   "cell_type": "code",
   "execution_count": 171,
   "metadata": {
    "scrolled": false
   },
   "outputs": [
    {
     "data": {
      "text/plain": [
       "array([ 0.00363276, -0.00696065, -0.00757893, -0.        , -0.00230135])"
      ]
     },
     "execution_count": 171,
     "metadata": {},
     "output_type": "execute_result"
    }
   ],
   "source": [
    "regr = ElasticNetCV(cv=5, random_state=0, max_iter=100000)\n",
    "regr.fit(features_arr_std, scores_arr)\n",
    "regr.coef_[0:5]"
   ]
  },
  {
   "cell_type": "code",
   "execution_count": 172,
   "metadata": {},
   "outputs": [
    {
     "data": {
      "text/plain": [
       "0.4397719089383478"
      ]
     },
     "execution_count": 172,
     "metadata": {},
     "output_type": "execute_result"
    }
   ],
   "source": [
    "regr.intercept_"
   ]
  },
  {
   "cell_type": "code",
   "execution_count": 173,
   "metadata": {},
   "outputs": [
    {
     "data": {
      "text/plain": [
       "0.21367314156788553"
      ]
     },
     "execution_count": 173,
     "metadata": {},
     "output_type": "execute_result"
    }
   ],
   "source": [
    "regr.score(features_arr_std, scores_arr)"
   ]
  },
  {
   "cell_type": "code",
   "execution_count": 174,
   "metadata": {},
   "outputs": [],
   "source": [
    "preds = regr.predict(features_arr_std)"
   ]
  },
  {
   "cell_type": "code",
   "execution_count": 175,
   "metadata": {},
   "outputs": [
    {
     "data": {
      "text/plain": [
       "<matplotlib.collections.PathCollection at 0x1205a4d90>"
      ]
     },
     "execution_count": 175,
     "metadata": {},
     "output_type": "execute_result"
    },
    {
     "data": {
      "image/png": "[encoded data removed]",
      "text/plain": [
       "<Figure size 432x288 with 1 Axes>"
      ]
     },
     "metadata": {
      "needs_background": "light"
     },
     "output_type": "display_data"
    }
   ],
   "source": [
    "plt.scatter(preds, scores_arr)"
   ]
  },
  {
   "cell_type": "code",
   "execution_count": 176,
   "metadata": {},
   "outputs": [
    {
     "data": {
      "text/plain": [
       "array([475, 491,   5, 443,  96])"
      ]
     },
     "execution_count": 176,
     "metadata": {},
     "output_type": "execute_result"
    }
   ],
   "source": [
    "mostNeg5 = np.argsort(regr.coef_)[0:5]\n",
    "mostNeg5"
   ]
  },
  {
   "cell_type": "code",
   "execution_count": 177,
   "metadata": {},
   "outputs": [
    {
     "data": {
      "text/plain": [
       "Index(['pos_-1_GC', 'pos_-0_GC', 'longest T', 'pos_-3_GC', 'pos_-4_G'], dtype='object')"
      ]
     },
     "execution_count": 177,
     "metadata": {},
     "output_type": "execute_result"
    }
   ],
   "source": [
    "features_df.columns[mostNeg5]"
   ]
  },
  {
   "cell_type": "code",
   "execution_count": 178,
   "metadata": {},
   "outputs": [
    {
     "data": {
      "text/plain": [
       "array([486, 106,  12, 497, 498])"
      ]
     },
     "execution_count": 178,
     "metadata": {},
     "output_type": "execute_result"
    }
   ],
   "source": [
    "mostPos5 = np.argsort(regr.coef_)[-5:]\n",
    "mostPos5"
   ]
  },
  {
   "cell_type": "code",
   "execution_count": 179,
   "metadata": {},
   "outputs": [
    {
     "data": {
      "text/plain": [
       "Index(['pos_-0_CA', 'pos_-1_A', 'AG', 'dist prim 3'', 'dist prim 5''], dtype='object')"
      ]
     },
     "execution_count": 179,
     "metadata": {},
     "output_type": "execute_result"
    }
   ],
   "source": [
    "features_df.columns[mostPos5]"
   ]
  },
  {
   "cell_type": "code",
   "execution_count": 180,
   "metadata": {},
   "outputs": [],
   "source": [
    "preds_bin = preds > 0.75\n",
    "scores_bin = scores_arr > 0.75"
   ]
  },
  {
   "cell_type": "code",
   "execution_count": 181,
   "metadata": {},
   "outputs": [
    {
     "data": {
      "text/plain": [
       "0.2461811071734083"
      ]
     },
     "execution_count": 181,
     "metadata": {},
     "output_type": "execute_result"
    }
   ],
   "source": [
    "np.sum(abs(preds_bin ^ scores_bin)) / len(preds_bin)"
   ]
  },
  {
   "cell_type": "code",
   "execution_count": 182,
   "metadata": {},
   "outputs": [],
   "source": [
    "fpr, tpr, thresholds = metrics.roc_curve(scores_bin, preds)"
   ]
  },
  {
   "cell_type": "code",
   "execution_count": 183,
   "metadata": {},
   "outputs": [
    {
     "data": {
      "image/png": "[encoded data removed]",
      "text/plain": [
       "<Figure size 432x288 with 1 Axes>"
      ]
     },
     "metadata": {
      "needs_background": "light"
     },
     "output_type": "display_data"
    }
   ],
   "source": [
    "fig = plt.figure()\n",
    "ax1 = fig.add_subplot(111)\n",
    "ax1.scatter(fpr, tpr)\n",
    "ax1.scatter(np.arange(0,1,0.01), np.arange(0,1,0.01))\n",
    "plt.show()"
   ]
  },
  {
   "cell_type": "code",
   "execution_count": 184,
   "metadata": {},
   "outputs": [
    {
     "data": {
      "text/plain": [
       "0.7533159767621014"
      ]
     },
     "execution_count": 184,
     "metadata": {},
     "output_type": "execute_result"
    }
   ],
   "source": [
    "roc_auc_score(scores_bin, preds)"
   ]
  }
 ],
 "metadata": {
  "kernelspec": {
   "display_name": "Python 3",
   "language": "python",
   "name": "python3"
  },
  "language_info": {
   "codemirror_mode": {
    "name": "ipython",
    "version": 3
   },
   "file_extension": ".py",
   "mimetype": "text/x-python",
   "name": "python",
   "nbconvert_exporter": "python",
   "pygments_lexer": "ipython3",
   "version": "3.8.3"
  }
 },
 "nbformat": 4,
 "nbformat_minor": 4
}
