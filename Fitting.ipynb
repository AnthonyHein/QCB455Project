{
 "cells": [
  {
   "cell_type": "markdown",
   "metadata": {},
   "source": [
    "# Fitting\n",
    "\n",
    "This notebook is intended to fit the data associated with human CRISPRi activity scores to train a linear regression model to.\n",
    "\n",
    "The data used is that from the following paper:\n",
    "\n",
    "[Compact and highly active next-generation libraries for CRISPR-mediated gene repression and activation](https://elifesciences.org/articles/19760)\n",
    "\n",
    "__Authors__: Anthony Hein, Briana Macedo, Manya Kapoor\n",
    "\n",
    "---"
   ]
  },
  {
   "cell_type": "markdown",
   "metadata": {},
   "source": [
    "We will attempt to build the following models:\n",
    "* Fully Connected Neural Network\n",
    "* Support Vector Machine\n",
    "* Logisitc Regression\n",
    "* Elastic Net Linear Regression\n",
    "\n",
    "_NOTE_ : The paper only creates an Elastic Net Linear Regression model."
   ]
  },
  {
   "cell_type": "markdown",
   "metadata": {},
   "source": [
    "---"
   ]
  },
  {
   "cell_type": "code",
   "execution_count": 219,
   "metadata": {},
   "outputs": [],
   "source": [
    "import numpy as np\n",
    "import pandas as pd\n",
    "\n",
    "import matplotlib.pyplot as plt\n",
    "from matplotlib import cm\n",
    "\n",
    "from sklearn import linear_model\n",
    "from sklearn.metrics import mean_squared_error, r2_score\n",
    "from sklearn.datasets import make_regression\n",
    "from sklearn.model_selection import KFold\n",
    "from sklearn.linear_model import ElasticNetCV\n",
    "from sklearn.preprocessing import StandardScaler\n",
    "from sklearn import metrics\n",
    "from sklearn.metrics import roc_auc_score"
   ]
  },
  {
   "cell_type": "code",
   "execution_count": 220,
   "metadata": {},
   "outputs": [],
   "source": [
    "np.random.seed(0)"
   ]
  },
  {
   "cell_type": "code",
   "execution_count": 221,
   "metadata": {},
   "outputs": [
    {
     "data": {
      "text/html": [
       "<div>\n",
       "<style scoped>\n",
       "    .dataframe tbody tr th:only-of-type {\n",
       "        vertical-align: middle;\n",
       "    }\n",
       "\n",
       "    .dataframe tbody tr th {\n",
       "        vertical-align: top;\n",
       "    }\n",
       "\n",
       "    .dataframe thead th {\n",
       "        text-align: right;\n",
       "    }\n",
       "</style>\n",
       "<table border=\"1\" class=\"dataframe\">\n",
       "  <thead>\n",
       "    <tr style=\"text-align: right;\">\n",
       "      <th></th>\n",
       "      <th>Unnamed: 0</th>\n",
       "      <th>score</th>\n",
       "      <th>+ve strand</th>\n",
       "      <th>length</th>\n",
       "      <th>longest A</th>\n",
       "      <th>longest C</th>\n",
       "      <th>longest G</th>\n",
       "      <th>longest T</th>\n",
       "      <th>As</th>\n",
       "      <th>Cs</th>\n",
       "      <th>...</th>\n",
       "      <th>pos_-4_GG</th>\n",
       "      <th>pos_-4_GT</th>\n",
       "      <th>pos_-4_TA</th>\n",
       "      <th>pos_-4_TC</th>\n",
       "      <th>pos_-4_TG</th>\n",
       "      <th>pos_-4_TT</th>\n",
       "      <th>dist prim 3'</th>\n",
       "      <th>dist prim 5'</th>\n",
       "      <th>dist snd 3'</th>\n",
       "      <th>dist snd 5'</th>\n",
       "    </tr>\n",
       "  </thead>\n",
       "  <tbody>\n",
       "    <tr>\n",
       "      <th>0</th>\n",
       "      <td>0</td>\n",
       "      <td>0.019320</td>\n",
       "      <td>1</td>\n",
       "      <td>24</td>\n",
       "      <td>1</td>\n",
       "      <td>1</td>\n",
       "      <td>2</td>\n",
       "      <td>2</td>\n",
       "      <td>0.142857</td>\n",
       "      <td>0.238095</td>\n",
       "      <td>...</td>\n",
       "      <td>0</td>\n",
       "      <td>0</td>\n",
       "      <td>0</td>\n",
       "      <td>0</td>\n",
       "      <td>0</td>\n",
       "      <td>0</td>\n",
       "      <td>0.478330</td>\n",
       "      <td>0.518617</td>\n",
       "      <td>0.479795</td>\n",
       "      <td>0.479443</td>\n",
       "    </tr>\n",
       "    <tr>\n",
       "      <th>1</th>\n",
       "      <td>1</td>\n",
       "      <td>0.348892</td>\n",
       "      <td>1</td>\n",
       "      <td>24</td>\n",
       "      <td>1</td>\n",
       "      <td>4</td>\n",
       "      <td>2</td>\n",
       "      <td>1</td>\n",
       "      <td>0.142857</td>\n",
       "      <td>0.476190</td>\n",
       "      <td>...</td>\n",
       "      <td>0</td>\n",
       "      <td>0</td>\n",
       "      <td>0</td>\n",
       "      <td>0</td>\n",
       "      <td>0</td>\n",
       "      <td>0</td>\n",
       "      <td>0.270749</td>\n",
       "      <td>0.307569</td>\n",
       "      <td>0.295142</td>\n",
       "      <td>0.294326</td>\n",
       "    </tr>\n",
       "    <tr>\n",
       "      <th>2</th>\n",
       "      <td>2</td>\n",
       "      <td>0.912409</td>\n",
       "      <td>1</td>\n",
       "      <td>24</td>\n",
       "      <td>1</td>\n",
       "      <td>3</td>\n",
       "      <td>2</td>\n",
       "      <td>1</td>\n",
       "      <td>0.095238</td>\n",
       "      <td>0.380952</td>\n",
       "      <td>...</td>\n",
       "      <td>0</td>\n",
       "      <td>0</td>\n",
       "      <td>0</td>\n",
       "      <td>0</td>\n",
       "      <td>1</td>\n",
       "      <td>0</td>\n",
       "      <td>0.267925</td>\n",
       "      <td>0.234560</td>\n",
       "      <td>0.266423</td>\n",
       "      <td>0.275421</td>\n",
       "    </tr>\n",
       "    <tr>\n",
       "      <th>3</th>\n",
       "      <td>3</td>\n",
       "      <td>0.997242</td>\n",
       "      <td>1</td>\n",
       "      <td>24</td>\n",
       "      <td>1</td>\n",
       "      <td>3</td>\n",
       "      <td>2</td>\n",
       "      <td>1</td>\n",
       "      <td>0.238095</td>\n",
       "      <td>0.238095</td>\n",
       "      <td>...</td>\n",
       "      <td>0</td>\n",
       "      <td>1</td>\n",
       "      <td>0</td>\n",
       "      <td>0</td>\n",
       "      <td>0</td>\n",
       "      <td>0</td>\n",
       "      <td>0.342018</td>\n",
       "      <td>0.288672</td>\n",
       "      <td>0.286673</td>\n",
       "      <td>0.299012</td>\n",
       "    </tr>\n",
       "    <tr>\n",
       "      <th>4</th>\n",
       "      <td>4</td>\n",
       "      <td>0.962154</td>\n",
       "      <td>1</td>\n",
       "      <td>24</td>\n",
       "      <td>1</td>\n",
       "      <td>3</td>\n",
       "      <td>3</td>\n",
       "      <td>2</td>\n",
       "      <td>0.047619</td>\n",
       "      <td>0.285714</td>\n",
       "      <td>...</td>\n",
       "      <td>1</td>\n",
       "      <td>0</td>\n",
       "      <td>0</td>\n",
       "      <td>0</td>\n",
       "      <td>0</td>\n",
       "      <td>0</td>\n",
       "      <td>0.510186</td>\n",
       "      <td>0.459465</td>\n",
       "      <td>0.366557</td>\n",
       "      <td>0.381031</td>\n",
       "    </tr>\n",
       "  </tbody>\n",
       "</table>\n",
       "<p>5 rows × 503 columns</p>\n",
       "</div>"
      ],
      "text/plain": [
       "   Unnamed: 0     score  +ve strand  length  longest A  longest C  longest G  \\\n",
       "0           0  0.019320           1      24          1          1          2   \n",
       "1           1  0.348892           1      24          1          4          2   \n",
       "2           2  0.912409           1      24          1          3          2   \n",
       "3           3  0.997242           1      24          1          3          2   \n",
       "4           4  0.962154           1      24          1          3          3   \n",
       "\n",
       "   longest T        As        Cs  ...  pos_-4_GG  pos_-4_GT  pos_-4_TA  \\\n",
       "0          2  0.142857  0.238095  ...          0          0          0   \n",
       "1          1  0.142857  0.476190  ...          0          0          0   \n",
       "2          1  0.095238  0.380952  ...          0          0          0   \n",
       "3          1  0.238095  0.238095  ...          0          1          0   \n",
       "4          2  0.047619  0.285714  ...          1          0          0   \n",
       "\n",
       "   pos_-4_TC  pos_-4_TG  pos_-4_TT  dist prim 3'  dist prim 5'  dist snd 3'  \\\n",
       "0          0          0          0      0.478330      0.518617     0.479795   \n",
       "1          0          0          0      0.270749      0.307569     0.295142   \n",
       "2          0          1          0      0.267925      0.234560     0.266423   \n",
       "3          0          0          0      0.342018      0.288672     0.286673   \n",
       "4          0          0          0      0.510186      0.459465     0.366557   \n",
       "\n",
       "   dist snd 5'  \n",
       "0     0.479443  \n",
       "1     0.294326  \n",
       "2     0.275421  \n",
       "3     0.299012  \n",
       "4     0.381031  \n",
       "\n",
       "[5 rows x 503 columns]"
      ]
     },
     "execution_count": 221,
     "metadata": {},
     "output_type": "execute_result"
    }
   ],
   "source": [
    "features_raw = pd.read_csv('features.csv')\n",
    "features_raw.head()"
   ]
  },
  {
   "cell_type": "code",
   "execution_count": 222,
   "metadata": {},
   "outputs": [
    {
     "data": {
      "text/plain": [
       "array([0.01932036, 0.34889211, 0.91240883, ..., 0.215028  , 1.17072619,\n",
       "       0.57770586])"
      ]
     },
     "execution_count": 222,
     "metadata": {},
     "output_type": "execute_result"
    }
   ],
   "source": [
    "scores_arr = np.array(features_raw['score'])\n",
    "scores_arr"
   ]
  },
  {
   "cell_type": "code",
   "execution_count": 223,
   "metadata": {},
   "outputs": [
    {
     "data": {
      "text/plain": [
       "array([[ 1.        , 24.        ,  1.        , ...,  0.51861656,\n",
       "         0.47979496,  0.47944258],\n",
       "       [ 1.        , 24.        ,  1.        , ...,  0.30756917,\n",
       "         0.29514227,  0.29432585],\n",
       "       [ 1.        , 24.        ,  1.        , ...,  0.23456034,\n",
       "         0.26642302,  0.2754214 ],\n",
       "       ...,\n",
       "       [ 0.        , 24.        ,  1.        , ...,  0.33450519,\n",
       "         0.3079445 ,  0.30722301],\n",
       "       [ 0.        , 24.        ,  2.        , ...,  0.32775753,\n",
       "         0.27669514,  0.27639504],\n",
       "       [ 0.        , 23.        ,  2.        , ...,  0.22159049,\n",
       "         0.29204269,  0.30796885]])"
      ]
     },
     "execution_count": 223,
     "metadata": {},
     "output_type": "execute_result"
    }
   ],
   "source": [
    "features_df = features_raw.drop(columns=['score', 'Unnamed: 0'])\n",
    "features_arr = np.array(features_df)\n",
    "features_arr"
   ]
  },
  {
   "cell_type": "code",
   "execution_count": 224,
   "metadata": {},
   "outputs": [],
   "source": [
    "# standardize the data to N(0,1)\n",
    "scaler = StandardScaler()\n",
    "scaler.fit(features_arr)\n",
    "features_arr_std = scaler.transform(features_arr)"
   ]
  },
  {
   "cell_type": "code",
   "execution_count": 225,
   "metadata": {},
   "outputs": [],
   "source": [
    "Xs_train = []\n",
    "Ys_train = []\n",
    "\n",
    "Xs_test = []\n",
    "Ys_test = []\n",
    "\n",
    "folds = KFold(n_splits=5, shuffle = True)\n",
    "\n",
    "for train_index, test_index in folds.split(features_arr_std):\n",
    "    Xs_train.append(features_arr_std[train_index])\n",
    "    Ys_train.append(features_arr_std[train_index])\n",
    "    \n",
    "    Xs_train.append(features_arr_std[test_index])\n",
    "    Ys_train.append(features_arr_std[test_index])"
   ]
  },
  {
   "cell_type": "code",
   "execution_count": 226,
   "metadata": {
    "scrolled": false
   },
   "outputs": [
    {
     "data": {
      "text/plain": [
       "array([ 3.67128494e-03, -1.85055474e-02, -6.60206097e-03, -0.00000000e+00,\n",
       "       -2.89122632e-03, -3.28739326e-02, -0.00000000e+00,  0.00000000e+00,\n",
       "        6.77703928e-03, -1.76453821e-02, -0.00000000e+00, -0.00000000e+00,\n",
       "        4.10339995e-02,  0.00000000e+00,  0.00000000e+00, -7.05489565e-03,\n",
       "        0.00000000e+00, -2.08123811e-04, -0.00000000e+00, -9.72607685e-03,\n",
       "       -0.00000000e+00, -0.00000000e+00, -0.00000000e+00, -1.61455089e-02,\n",
       "       -0.00000000e+00, -0.00000000e+00, -0.00000000e+00, -1.35712134e-02,\n",
       "       -0.00000000e+00, -0.00000000e+00, -1.74765502e-03, -2.23544473e-02,\n",
       "       -0.00000000e+00, -0.00000000e+00,  0.00000000e+00,  6.63589870e-03,\n",
       "       -0.00000000e+00, -0.00000000e+00,  0.00000000e+00,  5.06415649e-03,\n",
       "        0.00000000e+00, -0.00000000e+00,  0.00000000e+00, -0.00000000e+00,\n",
       "        0.00000000e+00, -0.00000000e+00,  0.00000000e+00,  0.00000000e+00,\n",
       "       -0.00000000e+00, -0.00000000e+00,  0.00000000e+00,  0.00000000e+00,\n",
       "        0.00000000e+00, -5.26439528e-04,  0.00000000e+00,  0.00000000e+00,\n",
       "       -0.00000000e+00, -0.00000000e+00,  0.00000000e+00,  0.00000000e+00,\n",
       "       -0.00000000e+00, -0.00000000e+00,  0.00000000e+00,  0.00000000e+00,\n",
       "       -0.00000000e+00, -4.21743726e-03,  0.00000000e+00, -0.00000000e+00,\n",
       "       -0.00000000e+00,  0.00000000e+00, -0.00000000e+00,  0.00000000e+00,\n",
       "       -0.00000000e+00, -0.00000000e+00, -0.00000000e+00,  0.00000000e+00,\n",
       "       -0.00000000e+00, -0.00000000e+00, -0.00000000e+00,  9.44908527e-05,\n",
       "       -0.00000000e+00, -0.00000000e+00,  0.00000000e+00,  0.00000000e+00,\n",
       "       -5.12987152e-03, -0.00000000e+00,  0.00000000e+00, -0.00000000e+00,\n",
       "        0.00000000e+00,  2.52061583e-03,  0.00000000e+00, -1.16662366e-02,\n",
       "       -0.00000000e+00,  0.00000000e+00,  0.00000000e+00, -2.48857669e-02,\n",
       "       -0.00000000e+00, -0.00000000e+00, -0.00000000e+00,  0.00000000e+00,\n",
       "        0.00000000e+00, -0.00000000e+00,  0.00000000e+00, -0.00000000e+00,\n",
       "        0.00000000e+00,  1.81485454e-02, -0.00000000e+00, -0.00000000e+00,\n",
       "        0.00000000e+00,  0.00000000e+00, -1.29595458e-02,  5.86138208e-03,\n",
       "       -0.00000000e+00,  0.00000000e+00,  0.00000000e+00,  0.00000000e+00,\n",
       "        0.00000000e+00,  0.00000000e+00,  0.00000000e+00,  0.00000000e+00,\n",
       "        0.00000000e+00, -1.33650133e-04, -0.00000000e+00, -0.00000000e+00,\n",
       "       -0.00000000e+00,  0.00000000e+00,  0.00000000e+00,  0.00000000e+00,\n",
       "        0.00000000e+00, -0.00000000e+00, -0.00000000e+00,  0.00000000e+00,\n",
       "       -3.09755868e-04,  0.00000000e+00, -0.00000000e+00, -0.00000000e+00,\n",
       "       -8.33593353e-04, -3.66358308e-04, -0.00000000e+00, -0.00000000e+00,\n",
       "       -0.00000000e+00, -0.00000000e+00, -0.00000000e+00, -0.00000000e+00,\n",
       "        0.00000000e+00,  0.00000000e+00, -0.00000000e+00, -0.00000000e+00,\n",
       "       -3.95867048e-04,  0.00000000e+00, -0.00000000e+00, -0.00000000e+00,\n",
       "        0.00000000e+00, -1.52102661e-03, -0.00000000e+00, -0.00000000e+00,\n",
       "       -0.00000000e+00, -1.22235692e-03, -1.68017695e-03, -0.00000000e+00,\n",
       "        0.00000000e+00,  0.00000000e+00, -1.17455484e-03, -0.00000000e+00,\n",
       "       -0.00000000e+00, -3.31288401e-04,  0.00000000e+00, -1.64079896e-03,\n",
       "       -0.00000000e+00, -2.57320688e-03, -0.00000000e+00,  0.00000000e+00,\n",
       "       -0.00000000e+00,  0.00000000e+00, -4.29479290e-03,  1.12801370e-04,\n",
       "       -0.00000000e+00, -2.30387128e-03,  0.00000000e+00, -7.80716008e-03,\n",
       "       -0.00000000e+00,  0.00000000e+00, -0.00000000e+00, -2.96611121e-03,\n",
       "       -0.00000000e+00, -0.00000000e+00, -0.00000000e+00, -0.00000000e+00,\n",
       "       -0.00000000e+00, -4.53985301e-04,  0.00000000e+00, -2.64503083e-03,\n",
       "       -2.88518838e-03, -3.49254199e-03, -0.00000000e+00, -4.54507582e-03,\n",
       "        0.00000000e+00, -3.40798118e-03,  4.32095017e-03, -0.00000000e+00,\n",
       "        0.00000000e+00,  1.75636172e-03, -0.00000000e+00,  0.00000000e+00,\n",
       "        0.00000000e+00,  0.00000000e+00, -0.00000000e+00, -3.97413792e-03,\n",
       "       -0.00000000e+00, -8.99436043e-03,  0.00000000e+00,  0.00000000e+00,\n",
       "       -2.48286766e-03, -0.00000000e+00,  0.00000000e+00, -0.00000000e+00,\n",
       "        2.79656025e-03, -0.00000000e+00,  0.00000000e+00,  0.00000000e+00,\n",
       "        0.00000000e+00,  3.29137186e-03, -0.00000000e+00,  6.16412559e-04,\n",
       "       -4.94651840e-03, -2.76034732e-04,  0.00000000e+00,  0.00000000e+00,\n",
       "       -2.50319837e-03, -3.54414385e-03,  2.27432918e-03,  0.00000000e+00,\n",
       "        0.00000000e+00, -0.00000000e+00, -2.97560452e-03, -0.00000000e+00,\n",
       "        0.00000000e+00,  0.00000000e+00,  1.44882633e-03, -0.00000000e+00,\n",
       "       -2.84950206e-03, -7.45906843e-03, -2.89506697e-03,  0.00000000e+00,\n",
       "       -3.18139277e-04,  0.00000000e+00,  0.00000000e+00, -0.00000000e+00,\n",
       "        4.32100653e-03, -6.37203310e-03,  3.88768102e-03, -0.00000000e+00,\n",
       "        0.00000000e+00,  1.37381939e-03, -0.00000000e+00,  0.00000000e+00,\n",
       "       -0.00000000e+00, -5.71996789e-03, -9.57073714e-04,  3.24198167e-03,\n",
       "       -0.00000000e+00,  0.00000000e+00, -0.00000000e+00, -0.00000000e+00,\n",
       "        4.15620255e-03, -6.44885424e-03,  0.00000000e+00,  9.71816360e-05,\n",
       "       -0.00000000e+00, -0.00000000e+00,  2.67686962e-03,  0.00000000e+00,\n",
       "       -3.68762817e-03, -3.84266800e-03,  2.40519259e-03, -0.00000000e+00,\n",
       "       -4.51031251e-03,  1.00284934e-03, -1.23982557e-03,  0.00000000e+00,\n",
       "        3.58849015e-04, -0.00000000e+00,  2.33236227e-03,  1.82713934e-03,\n",
       "       -0.00000000e+00, -0.00000000e+00, -2.41043789e-03,  9.12905211e-03,\n",
       "       -3.91079115e-03, -1.52544008e-04,  2.34171169e-03, -0.00000000e+00,\n",
       "       -2.43542588e-03, -2.07447023e-03, -0.00000000e+00,  0.00000000e+00,\n",
       "        1.60534888e-04,  0.00000000e+00,  9.59531506e-04, -0.00000000e+00,\n",
       "        0.00000000e+00, -2.15816094e-03, -0.00000000e+00,  3.46793286e-03,\n",
       "       -9.52764444e-03, -1.02289381e-02,  0.00000000e+00, -0.00000000e+00,\n",
       "       -5.74049765e-03, -0.00000000e+00,  0.00000000e+00,  0.00000000e+00,\n",
       "        1.17015795e-03, -0.00000000e+00,  6.85287177e-03, -1.24668851e-03,\n",
       "        0.00000000e+00,  0.00000000e+00, -0.00000000e+00,  2.71150379e-03,\n",
       "       -6.38740212e-03, -0.00000000e+00, -0.00000000e+00, -0.00000000e+00,\n",
       "       -5.03382865e-03,  3.64096411e-03,  4.49292180e-03, -9.76806970e-04,\n",
       "        2.12069003e-03, -0.00000000e+00, -0.00000000e+00,  8.81164471e-03,\n",
       "       -0.00000000e+00,  3.61972284e-04, -3.91181596e-03,  1.28598829e-03,\n",
       "       -1.93282152e-03, -1.46151944e-03,  3.50167530e-03,  0.00000000e+00,\n",
       "        0.00000000e+00, -3.12880816e-04,  3.27794531e-04, -1.05459887e-02,\n",
       "        0.00000000e+00,  3.92520714e-03, -0.00000000e+00,  4.74927179e-03,\n",
       "       -0.00000000e+00, -0.00000000e+00, -0.00000000e+00,  4.23032080e-04,\n",
       "       -4.24525099e-03, -0.00000000e+00, -0.00000000e+00,  0.00000000e+00,\n",
       "       -2.25614893e-03, -7.11045209e-04,  1.41776043e-03, -7.15820023e-03,\n",
       "        0.00000000e+00,  8.33864521e-03, -0.00000000e+00,  9.50341379e-03,\n",
       "        0.00000000e+00,  0.00000000e+00, -5.48901190e-03,  1.75774953e-03,\n",
       "       -1.02267686e-02, -7.92811824e-03,  0.00000000e+00,  0.00000000e+00,\n",
       "       -4.43064965e-04, -3.18774201e-04,  0.00000000e+00, -9.28165652e-03,\n",
       "       -0.00000000e+00,  0.00000000e+00, -0.00000000e+00,  5.80764691e-03,\n",
       "        0.00000000e+00,  3.30740663e-03, -1.73964777e-03,  1.37602749e-03,\n",
       "       -8.67133303e-03, -1.07714298e-03, -0.00000000e+00,  1.82581817e-03,\n",
       "       -0.00000000e+00, -1.05830793e-04,  2.68959239e-03, -2.30206968e-02,\n",
       "        8.65569144e-03,  8.07446535e-03,  0.00000000e+00,  0.00000000e+00,\n",
       "       -4.71936238e-04, -0.00000000e+00, -0.00000000e+00, -3.33302447e-03,\n",
       "        0.00000000e+00, -0.00000000e+00,  0.00000000e+00, -0.00000000e+00,\n",
       "       -0.00000000e+00,  1.47905168e-04,  1.82299828e-03, -2.08669366e-02,\n",
       "        8.36958015e-03,  0.00000000e+00, -1.39672084e-02,  0.00000000e+00,\n",
       "       -0.00000000e+00,  1.48637052e-03,  0.00000000e+00, -0.00000000e+00,\n",
       "       -2.23644877e-03, -1.46591096e-03,  4.96862494e-03,  1.15098624e-02,\n",
       "        0.00000000e+00,  2.03652902e-03,  2.80600019e-03, -9.82109694e-04,\n",
       "        0.00000000e+00,  1.41958615e-02, -1.10875563e-02, -9.02520031e-04,\n",
       "       -0.00000000e+00, -0.00000000e+00,  2.08716121e-03, -0.00000000e+00,\n",
       "       -3.24000944e-03, -1.93932368e-03,  0.00000000e+00,  2.10969590e-03,\n",
       "        0.00000000e+00,  0.00000000e+00, -0.00000000e+00,  0.00000000e+00,\n",
       "        2.43680307e-03,  6.50164566e-03, -2.46273415e-02, -2.92899083e-03,\n",
       "       -0.00000000e+00, -1.11145589e-03,  0.00000000e+00, -0.00000000e+00,\n",
       "        0.00000000e+00, -1.83611410e-03,  1.08445412e-02, -1.31109803e-03,\n",
       "        2.69142248e-03, -9.22816997e-03,  5.07118824e-03, -4.14936315e-03,\n",
       "       -0.00000000e+00,  4.89858719e-03, -1.57316556e-02, -0.00000000e+00,\n",
       "        0.00000000e+00,  0.00000000e+00,  9.37065862e-03,  1.05444496e-03,\n",
       "       -1.64979113e-02, -1.18444122e-02,  0.00000000e+00, -0.00000000e+00,\n",
       "        0.00000000e+00,  9.61722331e-03, -0.00000000e+00,  0.00000000e+00,\n",
       "        6.10775689e-03,  0.00000000e+00, -4.67693377e-02, -0.00000000e+00,\n",
       "       -0.00000000e+00,  5.67036746e-03, -0.00000000e+00,  1.41297717e-02,\n",
       "       -2.29147199e-02,  2.87660398e-04,  0.00000000e+00,  0.00000000e+00,\n",
       "       -1.20659699e-02,  1.62927031e-02, -0.00000000e+00, -5.95273675e-03,\n",
       "       -0.00000000e+00, -6.30504215e-04, -4.29656968e-02,  6.62715818e-03,\n",
       "        8.84799661e-03,  1.33545502e-02, -0.00000000e+00,  8.22495441e-03,\n",
       "       -5.32959216e-03,  4.38899239e-02,  5.29628188e-02,  1.55355838e-02,\n",
       "        1.12103298e-02])"
      ]
     },
     "execution_count": 226,
     "metadata": {},
     "output_type": "execute_result"
    }
   ],
   "source": [
    "regr = ElasticNetCV(cv=5, random_state=0, max_iter=100000)\n",
    "regr.fit(features_arr_std, scores_arr)\n",
    "regr.coef_"
   ]
  },
  {
   "cell_type": "code",
   "execution_count": 227,
   "metadata": {},
   "outputs": [
    {
     "data": {
      "text/plain": [
       "0.2140052761473561"
      ]
     },
     "execution_count": 227,
     "metadata": {},
     "output_type": "execute_result"
    }
   ],
   "source": [
    "# R^2\n",
    "regr.score(features_arr_std, scores_arr)"
   ]
  },
  {
   "cell_type": "code",
   "execution_count": 228,
   "metadata": {},
   "outputs": [
    {
     "data": {
      "text/plain": [
       "0.4626070429072131"
      ]
     },
     "execution_count": 228,
     "metadata": {},
     "output_type": "execute_result"
    }
   ],
   "source": [
    "# R\n",
    "np.sqrt(regr.score(features_arr_std, scores_arr))"
   ]
  },
  {
   "cell_type": "code",
   "execution_count": 229,
   "metadata": {},
   "outputs": [],
   "source": [
    "preds = regr.predict(features_arr_std)"
   ]
  },
  {
   "cell_type": "code",
   "execution_count": 230,
   "metadata": {},
   "outputs": [
    {
     "data": {
      "text/plain": [
       "<matplotlib.collections.PathCollection at 0x15e1b9250>"
      ]
     },
     "execution_count": 230,
     "metadata": {},
     "output_type": "execute_result"
    },
    {
     "data": {
      "image/png": "[encoded data removed]",
      "text/plain": [
       "<Figure size 432x288 with 1 Axes>"
      ]
     },
     "metadata": {
      "needs_background": "light"
     },
     "output_type": "display_data"
    }
   ],
   "source": [
    "plt.scatter(preds, scores_arr)"
   ]
  },
  {
   "cell_type": "code",
   "execution_count": 231,
   "metadata": {},
   "outputs": [
    {
     "data": {
      "text/plain": [
       "array([474, 490,   5,  95, 442])"
      ]
     },
     "execution_count": 231,
     "metadata": {},
     "output_type": "execute_result"
    }
   ],
   "source": [
    "mostNeg5 = np.argsort(regr.coef_)[0:5]\n",
    "mostNeg5"
   ]
  },
  {
   "cell_type": "code",
   "execution_count": 232,
   "metadata": {},
   "outputs": [
    {
     "data": {
      "text/plain": [
       "Index(['pos_-5_GC', 'pos_-4_GC', 'longest T', 'pos_-7_G', 'pos_-7_GC'], dtype='object')"
      ]
     },
     "execution_count": 232,
     "metadata": {},
     "output_type": "execute_result"
    }
   ],
   "source": [
    "features_df.columns[mostNeg5]"
   ]
  },
  {
   "cell_type": "code",
   "execution_count": 233,
   "metadata": {},
   "outputs": [
    {
     "data": {
      "text/plain": [
       "array([485, 105,  12, 497, 498])"
      ]
     },
     "execution_count": 233,
     "metadata": {},
     "output_type": "execute_result"
    }
   ],
   "source": [
    "mostPos5 = np.argsort(regr.coef_)[-5:]\n",
    "mostPos5"
   ]
  },
  {
   "cell_type": "code",
   "execution_count": 234,
   "metadata": {},
   "outputs": [
    {
     "data": {
      "text/plain": [
       "Index(['pos_-4_CA', 'pos_-4_A', 'AG', 'dist prim 3'', 'dist prim 5''], dtype='object')"
      ]
     },
     "execution_count": 234,
     "metadata": {},
     "output_type": "execute_result"
    }
   ],
   "source": [
    "features_df.columns[mostPos5]"
   ]
  },
  {
   "cell_type": "code",
   "execution_count": 235,
   "metadata": {},
   "outputs": [],
   "source": [
    "preds_bin = preds > 0.75\n",
    "scores_bin = scores_arr > 0.75"
   ]
  },
  {
   "cell_type": "code",
   "execution_count": 236,
   "metadata": {},
   "outputs": [
    {
     "data": {
      "text/plain": [
       "0.24575339117683"
      ]
     },
     "execution_count": 236,
     "metadata": {},
     "output_type": "execute_result"
    }
   ],
   "source": [
    "np.sum(abs(preds_bin ^ scores_bin)) / len(preds_bin)"
   ]
  },
  {
   "cell_type": "code",
   "execution_count": 237,
   "metadata": {},
   "outputs": [],
   "source": [
    "fpr, tpr, thresholds = metrics.roc_curve(scores_bin, preds)"
   ]
  },
  {
   "cell_type": "code",
   "execution_count": 238,
   "metadata": {},
   "outputs": [
    {
     "data": {
      "image/png": "[encoded data removed]",
      "text/plain": [
       "<Figure size 432x288 with 1 Axes>"
      ]
     },
     "metadata": {
      "needs_background": "light"
     },
     "output_type": "display_data"
    }
   ],
   "source": [
    "fig = plt.figure()\n",
    "ax1 = fig.add_subplot(111)\n",
    "ax1.scatter(fpr, tpr)\n",
    "ax1.scatter(np.arange(0,1,0.01), np.arange(0,1,0.01))\n",
    "plt.show()"
   ]
  },
  {
   "cell_type": "code",
   "execution_count": 239,
   "metadata": {},
   "outputs": [
    {
     "data": {
      "text/plain": [
       "0.7532327570975244"
      ]
     },
     "execution_count": 239,
     "metadata": {},
     "output_type": "execute_result"
    }
   ],
   "source": [
    "roc_auc_score(scores_bin, preds)"
   ]
  },
  {
   "cell_type": "markdown",
   "metadata": {},
   "source": [
    "Save coefficients as Numpy array for quick load in other notebooks."
   ]
  },
  {
   "cell_type": "code",
   "execution_count": 240,
   "metadata": {},
   "outputs": [],
   "source": [
    "with open(\"coef_elastic.npy\", \"wb\") as f:\n",
    "    np.save(f, regr.coef_)"
   ]
  },
  {
   "cell_type": "code",
   "execution_count": null,
   "metadata": {},
   "outputs": [],
   "source": []
  }
 ],
 "metadata": {
  "kernelspec": {
   "display_name": "Python 3",
   "language": "python",
   "name": "python3"
  },
  "language_info": {
   "codemirror_mode": {
    "name": "ipython",
    "version": 3
   },
   "file_extension": ".py",
   "mimetype": "text/x-python",
   "name": "python",
   "nbconvert_exporter": "python",
   "pygments_lexer": "ipython3",
   "version": "3.8.3"
  }
 },
 "nbformat": 4,
 "nbformat_minor": 4
}
