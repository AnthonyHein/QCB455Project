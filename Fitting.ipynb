{
 "cells": [
  {
   "cell_type": "markdown",
   "metadata": {},
   "source": [
    "* Neural Network\n",
    "\n",
    "* SVM\n",
    "\n",
    "* Logisitc Regress\n",
    "\n",
    "* Elastic Net Linear Regression"
   ]
  },
  {
   "cell_type": "code",
   "execution_count": 135,
   "metadata": {},
   "outputs": [],
   "source": [
    "import numpy as np\n",
    "import pandas as pd\n",
    "\n",
    "import matplotlib.pyplot as plt\n",
    "from matplotlib import cm\n",
    "\n",
    "from sklearn import linear_model\n",
    "from sklearn.metrics import mean_squared_error, r2_score\n",
    "from sklearn.datasets import make_regression\n",
    "from sklearn.model_selection import KFold\n",
    "from sklearn.linear_model import ElasticNetCV\n",
    "from sklearn.preprocessing import StandardScaler\n",
    "from sklearn import metrics\n",
    "from sklearn.metrics import roc_auc_score"
   ]
  },
  {
   "cell_type": "code",
   "execution_count": 33,
   "metadata": {},
   "outputs": [],
   "source": [
    "np.random.seed(0)"
   ]
  },
  {
   "cell_type": "code",
   "execution_count": 18,
   "metadata": {},
   "outputs": [
    {
     "data": {
      "text/html": [
       "<div>\n",
       "<style scoped>\n",
       "    .dataframe tbody tr th:only-of-type {\n",
       "        vertical-align: middle;\n",
       "    }\n",
       "\n",
       "    .dataframe tbody tr th {\n",
       "        vertical-align: top;\n",
       "    }\n",
       "\n",
       "    .dataframe thead th {\n",
       "        text-align: right;\n",
       "    }\n",
       "</style>\n",
       "<table border=\"1\" class=\"dataframe\">\n",
       "  <thead>\n",
       "    <tr style=\"text-align: right;\">\n",
       "      <th></th>\n",
       "      <th>Unnamed: 0</th>\n",
       "      <th>score</th>\n",
       "      <th>+ve strand</th>\n",
       "      <th>length</th>\n",
       "      <th>longest A</th>\n",
       "      <th>longest C</th>\n",
       "      <th>longest G</th>\n",
       "      <th>longest T</th>\n",
       "      <th>As</th>\n",
       "      <th>Cs</th>\n",
       "      <th>...</th>\n",
       "      <th>pos_23_GC</th>\n",
       "      <th>pos_23_GG</th>\n",
       "      <th>pos_23_GT</th>\n",
       "      <th>pos_23_TA</th>\n",
       "      <th>pos_23_TC</th>\n",
       "      <th>pos_23_TG</th>\n",
       "      <th>dist prim 3'</th>\n",
       "      <th>dist prim 5'</th>\n",
       "      <th>dist snd 3'</th>\n",
       "      <th>dist snd 5'</th>\n",
       "    </tr>\n",
       "  </thead>\n",
       "  <tbody>\n",
       "    <tr>\n",
       "      <th>0</th>\n",
       "      <td>0</td>\n",
       "      <td>0.019320</td>\n",
       "      <td>1</td>\n",
       "      <td>24</td>\n",
       "      <td>1</td>\n",
       "      <td>1</td>\n",
       "      <td>2</td>\n",
       "      <td>2</td>\n",
       "      <td>0.142857</td>\n",
       "      <td>0.238095</td>\n",
       "      <td>...</td>\n",
       "      <td>0</td>\n",
       "      <td>0</td>\n",
       "      <td>0</td>\n",
       "      <td>0</td>\n",
       "      <td>0</td>\n",
       "      <td>0</td>\n",
       "      <td>0.469256</td>\n",
       "      <td>0.502084</td>\n",
       "      <td>0.462242</td>\n",
       "      <td>0.460538</td>\n",
       "    </tr>\n",
       "    <tr>\n",
       "      <th>1</th>\n",
       "      <td>1</td>\n",
       "      <td>0.348892</td>\n",
       "      <td>1</td>\n",
       "      <td>24</td>\n",
       "      <td>1</td>\n",
       "      <td>4</td>\n",
       "      <td>2</td>\n",
       "      <td>1</td>\n",
       "      <td>0.142857</td>\n",
       "      <td>0.476190</td>\n",
       "      <td>...</td>\n",
       "      <td>0</td>\n",
       "      <td>0</td>\n",
       "      <td>0</td>\n",
       "      <td>0</td>\n",
       "      <td>0</td>\n",
       "      <td>0</td>\n",
       "      <td>0.252601</td>\n",
       "      <td>0.282746</td>\n",
       "      <td>0.280839</td>\n",
       "      <td>0.280037</td>\n",
       "    </tr>\n",
       "    <tr>\n",
       "      <th>2</th>\n",
       "      <td>2</td>\n",
       "      <td>0.912409</td>\n",
       "      <td>1</td>\n",
       "      <td>24</td>\n",
       "      <td>1</td>\n",
       "      <td>3</td>\n",
       "      <td>2</td>\n",
       "      <td>1</td>\n",
       "      <td>0.095238</td>\n",
       "      <td>0.380952</td>\n",
       "      <td>...</td>\n",
       "      <td>0</td>\n",
       "      <td>0</td>\n",
       "      <td>0</td>\n",
       "      <td>0</td>\n",
       "      <td>0</td>\n",
       "      <td>1</td>\n",
       "      <td>0.291071</td>\n",
       "      <td>0.260337</td>\n",
       "      <td>0.282698</td>\n",
       "      <td>0.290886</td>\n",
       "    </tr>\n",
       "    <tr>\n",
       "      <th>3</th>\n",
       "      <td>3</td>\n",
       "      <td>0.997242</td>\n",
       "      <td>1</td>\n",
       "      <td>24</td>\n",
       "      <td>1</td>\n",
       "      <td>3</td>\n",
       "      <td>2</td>\n",
       "      <td>1</td>\n",
       "      <td>0.238095</td>\n",
       "      <td>0.238095</td>\n",
       "      <td>...</td>\n",
       "      <td>0</td>\n",
       "      <td>0</td>\n",
       "      <td>1</td>\n",
       "      <td>0</td>\n",
       "      <td>0</td>\n",
       "      <td>0</td>\n",
       "      <td>0.357970</td>\n",
       "      <td>0.314729</td>\n",
       "      <td>0.305851</td>\n",
       "      <td>0.315995</td>\n",
       "    </tr>\n",
       "    <tr>\n",
       "      <th>4</th>\n",
       "      <td>4</td>\n",
       "      <td>0.962154</td>\n",
       "      <td>1</td>\n",
       "      <td>24</td>\n",
       "      <td>1</td>\n",
       "      <td>3</td>\n",
       "      <td>3</td>\n",
       "      <td>2</td>\n",
       "      <td>0.047619</td>\n",
       "      <td>0.285714</td>\n",
       "      <td>...</td>\n",
       "      <td>0</td>\n",
       "      <td>1</td>\n",
       "      <td>0</td>\n",
       "      <td>0</td>\n",
       "      <td>0</td>\n",
       "      <td>0</td>\n",
       "      <td>0.494522</td>\n",
       "      <td>0.457831</td>\n",
       "      <td>0.375218</td>\n",
       "      <td>0.385287</td>\n",
       "    </tr>\n",
       "  </tbody>\n",
       "</table>\n",
       "<p>5 rows × 503 columns</p>\n",
       "</div>"
      ],
      "text/plain": [
       "   Unnamed: 0     score  +ve strand  length  longest A  longest C  longest G  \\\n",
       "0           0  0.019320           1      24          1          1          2   \n",
       "1           1  0.348892           1      24          1          4          2   \n",
       "2           2  0.912409           1      24          1          3          2   \n",
       "3           3  0.997242           1      24          1          3          2   \n",
       "4           4  0.962154           1      24          1          3          3   \n",
       "\n",
       "   longest T        As        Cs  ...  pos_23_GC  pos_23_GG  pos_23_GT  \\\n",
       "0          2  0.142857  0.238095  ...          0          0          0   \n",
       "1          1  0.142857  0.476190  ...          0          0          0   \n",
       "2          1  0.095238  0.380952  ...          0          0          0   \n",
       "3          1  0.238095  0.238095  ...          0          0          1   \n",
       "4          2  0.047619  0.285714  ...          0          1          0   \n",
       "\n",
       "   pos_23_TA  pos_23_TC  pos_23_TG  dist prim 3'  dist prim 5'  dist snd 3'  \\\n",
       "0          0          0          0      0.469256      0.502084     0.462242   \n",
       "1          0          0          0      0.252601      0.282746     0.280839   \n",
       "2          0          0          1      0.291071      0.260337     0.282698   \n",
       "3          0          0          0      0.357970      0.314729     0.305851   \n",
       "4          0          0          0      0.494522      0.457831     0.375218   \n",
       "\n",
       "   dist snd 5'  \n",
       "0     0.460538  \n",
       "1     0.280037  \n",
       "2     0.290886  \n",
       "3     0.315995  \n",
       "4     0.385287  \n",
       "\n",
       "[5 rows x 503 columns]"
      ]
     },
     "execution_count": 18,
     "metadata": {},
     "output_type": "execute_result"
    }
   ],
   "source": [
    "features_raw = pd.read_csv('features.csv')\n",
    "features_raw.head()"
   ]
  },
  {
   "cell_type": "code",
   "execution_count": 19,
   "metadata": {},
   "outputs": [
    {
     "data": {
      "text/plain": [
       "array([0.01932036, 0.34889211, 0.91240883, 0.99724205, 0.96215413])"
      ]
     },
     "execution_count": 19,
     "metadata": {},
     "output_type": "execute_result"
    }
   ],
   "source": [
    "scores_arr = features_raw['score'].to_numpy()\n",
    "scores_arr[0:5]"
   ]
  },
  {
   "cell_type": "code",
   "execution_count": 92,
   "metadata": {},
   "outputs": [
    {
     "data": {
      "text/plain": [
       "array([[ 1., 24.,  1.,  1.,  2.],\n",
       "       [ 1., 24.,  1.,  4.,  2.],\n",
       "       [ 1., 24.,  1.,  3.,  2.],\n",
       "       [ 1., 24.,  1.,  3.,  2.],\n",
       "       [ 1., 24.,  1.,  3.,  3.]])"
      ]
     },
     "execution_count": 92,
     "metadata": {},
     "output_type": "execute_result"
    }
   ],
   "source": [
    "features_df = features_raw.drop(columns=['score', 'Unnamed: 0'])\n",
    "features_arr = features_df.to_numpy()\n",
    "features_arr[0:5, 0:5]"
   ]
  },
  {
   "cell_type": "code",
   "execution_count": 50,
   "metadata": {},
   "outputs": [],
   "source": [
    "# standardize the data to N(0,1)\n",
    "scaler = StandardScaler()\n",
    "scaler.fit(features_arr)\n",
    "features_arr_std = scaler.transform(features_arr)"
   ]
  },
  {
   "cell_type": "code",
   "execution_count": 52,
   "metadata": {},
   "outputs": [
    {
     "name": "stdout",
     "output_type": "stream",
     "text": [
      "TRAIN: [    0     1     2 ... 17247 17248 17249] TEST: [    6    11    13 ... 17243 17244 17246]\n",
      "TRAIN: [    0     1     2 ... 17246 17247 17248] TEST: [    7    10    31 ... 17238 17239 17249]\n",
      "TRAIN: [    0     1     2 ... 17246 17248 17249] TEST: [    3     4    15 ... 17237 17241 17247]\n",
      "TRAIN: [    1     2     3 ... 17247 17248 17249] TEST: [    0     5     8 ... 17232 17235 17245]\n",
      "TRAIN: [    0     3     4 ... 17246 17247 17249] TEST: [    1     2     9 ... 17221 17242 17248]\n"
     ]
    }
   ],
   "source": [
    "Xs_train = []\n",
    "Ys_train = []\n",
    "\n",
    "Xs_test = []\n",
    "Ys_test = []\n",
    "\n",
    "folds = KFold(n_splits=5, shuffle = True)\n",
    "\n",
    "for train_index, test_index in folds.split(features_arr_std):\n",
    "    Xs_train.append(features_arr_std[train_index])\n",
    "    Ys_train.append(features_arr_std[train_index])\n",
    "    \n",
    "    Xs_train.append(features_arr_std[test_index])\n",
    "    Ys_train.append(features_arr_std[test_index])\n",
    "    \n",
    "    print(\"TRAIN:\", train_index, \"TEST:\", test_index)"
   ]
  },
  {
   "cell_type": "code",
   "execution_count": 46,
   "metadata": {},
   "outputs": [
    {
     "ename": "AssertionError",
     "evalue": "",
     "output_type": "error",
     "traceback": [
      "\u001b[0;31m---------------------------------------------------------------------------\u001b[0m",
      "\u001b[0;31mAssertionError\u001b[0m                            Traceback (most recent call last)",
      "\u001b[0;32m<ipython-input-46-3ab1c18b4ae4>\u001b[0m in \u001b[0;36m<module>\u001b[0;34m\u001b[0m\n\u001b[1;32m      1\u001b[0m \u001b[0;31m### CHECK STANDARDIZATION\u001b[0m\u001b[0;34m\u001b[0m\u001b[0;34m\u001b[0m\u001b[0;34m\u001b[0m\u001b[0m\n\u001b[0;32m----> 2\u001b[0;31m \u001b[0;32massert\u001b[0m \u001b[0;32mFalse\u001b[0m\u001b[0;34m\u001b[0m\u001b[0;34m\u001b[0m\u001b[0m\n\u001b[0m\u001b[1;32m      3\u001b[0m \u001b[0;31m###\u001b[0m\u001b[0;34m\u001b[0m\u001b[0;34m\u001b[0m\u001b[0;34m\u001b[0m\u001b[0m\n",
      "\u001b[0;31mAssertionError\u001b[0m: "
     ]
    }
   ],
   "source": [
    "### CHECK STANDARDIZATION\n",
    "\n",
    "# TODO\n",
    "\n",
    "###"
   ]
  },
  {
   "cell_type": "code",
   "execution_count": 105,
   "metadata": {
    "scrolled": false
   },
   "outputs": [
    {
     "data": {
      "text/plain": [
       "array([ 0.00342922, -0.00667328, -0.00868971, -0.        , -0.00362185])"
      ]
     },
     "execution_count": 105,
     "metadata": {},
     "output_type": "execute_result"
    }
   ],
   "source": [
    "regr = ElasticNetCV(cv=5, random_state=0, max_iter=100000)\n",
    "regr.fit(features_arr_std, scores_arr)\n",
    "regr.coef_[0:5]"
   ]
  },
  {
   "cell_type": "code",
   "execution_count": 106,
   "metadata": {},
   "outputs": [
    {
     "data": {
      "text/plain": [
       "0.4216200682583188"
      ]
     },
     "execution_count": 106,
     "metadata": {},
     "output_type": "execute_result"
    }
   ],
   "source": [
    "regr.intercept_"
   ]
  },
  {
   "cell_type": "code",
   "execution_count": 107,
   "metadata": {},
   "outputs": [
    {
     "data": {
      "text/plain": [
       "0.22657522040311207"
      ]
     },
     "execution_count": 107,
     "metadata": {},
     "output_type": "execute_result"
    }
   ],
   "source": [
    "regr.score(features_arr_std, scores_arr)"
   ]
  },
  {
   "cell_type": "code",
   "execution_count": 108,
   "metadata": {},
   "outputs": [],
   "source": [
    "preds = regr.predict(features_arr_std)"
   ]
  },
  {
   "cell_type": "code",
   "execution_count": 109,
   "metadata": {},
   "outputs": [
    {
     "data": {
      "text/plain": [
       "<matplotlib.collections.PathCollection at 0x1526906a0>"
      ]
     },
     "execution_count": 109,
     "metadata": {},
     "output_type": "execute_result"
    },
    {
     "data": {
      "image/png": "[encoded data removed]",
      "text/plain": [
       "<Figure size 432x288 with 1 Axes>"
      ]
     },
     "metadata": {
      "needs_background": "light"
     },
     "output_type": "display_data"
    }
   ],
   "source": [
    "plt.scatter(preds, scores_arr)"
   ]
  },
  {
   "cell_type": "code",
   "execution_count": 110,
   "metadata": {},
   "outputs": [
    {
     "data": {
      "text/plain": [
       "array([475, 491,   5,  96,   9])"
      ]
     },
     "execution_count": 110,
     "metadata": {},
     "output_type": "execute_result"
    }
   ],
   "source": [
    "mostNeg5 = np.argsort(regr.coef_)[0:5]\n",
    "mostNeg5"
   ]
  },
  {
   "cell_type": "code",
   "execution_count": 111,
   "metadata": {},
   "outputs": [
    {
     "data": {
      "text/plain": [
       "Index(['pos_22_GC', 'pos_23_GC', 'longest T', 'pos_20_G', 'Ts'], dtype='object')"
      ]
     },
     "execution_count": 111,
     "metadata": {},
     "output_type": "execute_result"
    }
   ],
   "source": [
    "features_df.columns[mostNeg5]"
   ]
  },
  {
   "cell_type": "code",
   "execution_count": 112,
   "metadata": {},
   "outputs": [
    {
     "data": {
      "text/plain": [
       "array([106, 499,  12, 497, 498])"
      ]
     },
     "execution_count": 112,
     "metadata": {},
     "output_type": "execute_result"
    }
   ],
   "source": [
    "mostPos5 = np.argsort(regr.coef_)[-5:]\n",
    "mostPos5"
   ]
  },
  {
   "cell_type": "code",
   "execution_count": 113,
   "metadata": {},
   "outputs": [
    {
     "data": {
      "text/plain": [
       "Index(['pos_23_A', 'dist snd 3'', 'AG', 'dist prim 3'', 'dist prim 5''], dtype='object')"
      ]
     },
     "execution_count": 113,
     "metadata": {},
     "output_type": "execute_result"
    }
   ],
   "source": [
    "features_df.columns[mostPos5]"
   ]
  },
  {
   "cell_type": "code",
   "execution_count": 118,
   "metadata": {},
   "outputs": [],
   "source": [
    "preds_bin = preds > 0.75\n",
    "scores_bin = scores_arr > 0.75"
   ]
  },
  {
   "cell_type": "code",
   "execution_count": 121,
   "metadata": {},
   "outputs": [
    {
     "data": {
      "text/plain": [
       "0.23559420289855074"
      ]
     },
     "execution_count": 121,
     "metadata": {},
     "output_type": "execute_result"
    }
   ],
   "source": [
    "np.sum(abs(preds_bin ^ scores_bin)) / len(preds_bin)"
   ]
  },
  {
   "cell_type": "code",
   "execution_count": 126,
   "metadata": {},
   "outputs": [],
   "source": [
    "fpr, tpr, thresholds = metrics.roc_curve(scores_bin, preds)"
   ]
  },
  {
   "cell_type": "code",
   "execution_count": 134,
   "metadata": {},
   "outputs": [
    {
     "data": {
      "image/png": "[encoded data removed]",
      "text/plain": [
       "<Figure size 432x288 with 1 Axes>"
      ]
     },
     "metadata": {
      "needs_background": "light"
     },
     "output_type": "display_data"
    }
   ],
   "source": [
    "fig = plt.figure()\n",
    "ax1 = fig.add_subplot(111)\n",
    "ax1.scatter(fpr, tpr)\n",
    "ax1.scatter(np.arange(0,1,0.01), np.arange(0,1,0.01))\n",
    "plt.show()"
   ]
  },
  {
   "cell_type": "code",
   "execution_count": 136,
   "metadata": {},
   "outputs": [
    {
     "data": {
      "text/plain": [
       "0.7613146258027335"
      ]
     },
     "execution_count": 136,
     "metadata": {},
     "output_type": "execute_result"
    }
   ],
   "source": [
    "roc_auc_score(scores_bin, preds)"
   ]
  },
  {
   "cell_type": "code",
   "execution_count": null,
   "metadata": {},
   "outputs": [],
   "source": []
  }
 ],
 "metadata": {
  "kernelspec": {
   "display_name": "Python 3",
   "language": "python",
   "name": "python3"
  },
  "language_info": {
   "codemirror_mode": {
    "name": "ipython",
    "version": 3
   },
   "file_extension": ".py",
   "mimetype": "text/x-python",
   "name": "python",
   "nbconvert_exporter": "python",
   "pygments_lexer": "ipython3",
   "version": "3.8.3"
  }
 },
 "nbformat": 4,
 "nbformat_minor": 4
}
