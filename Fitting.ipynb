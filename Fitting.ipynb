{
 "cells": [
  {
   "cell_type": "markdown",
   "metadata": {},
   "source": [
    "# Fitting\n",
    "\n",
    "This notebook is intended to fit the data associated with human CRISPRi activity scores to train a linear regression model to.\n",
    "\n",
    "The data used is that from the following paper:\n",
    "\n",
    "[Compact and highly active next-generation libraries for CRISPR-mediated gene repression and activation](https://elifesciences.org/articles/19760)\n",
    "\n",
    "__Authors__: Anthony Hein, Briana Macedo\n",
    "\n",
    "---"
   ]
  },
  {
   "cell_type": "markdown",
   "metadata": {},
   "source": [
    "We will attempt to build the following models:\n",
    "* Fully Connected Neural Network\n",
    "* Support Vector Machine\n",
    "* Logisitc Regression\n",
    "* Elastic Net Linear Regression\n",
    "\n",
    "_NOTE_ : The paper only creates an Elastic Net Linear Regression model."
   ]
  },
  {
   "cell_type": "markdown",
   "metadata": {},
   "source": [
    "---"
   ]
  },
  {
   "cell_type": "markdown",
   "metadata": {},
   "source": [
    "## Imports and Configuration"
   ]
  },
  {
   "cell_type": "code",
   "execution_count": 1,
   "metadata": {},
   "outputs": [],
   "source": [
    "import numpy as np\n",
    "import pandas as pd\n",
    "\n",
    "import matplotlib.pyplot as plt\n",
    "from matplotlib import cm\n",
    "\n",
    "from sklearn import linear_model\n",
    "from sklearn.metrics import mean_squared_error, r2_score\n",
    "from sklearn.datasets import make_regression\n",
    "from sklearn.model_selection import KFold\n",
    "from sklearn.linear_model import ElasticNetCV, ElasticNet\n",
    "from sklearn.preprocessing import StandardScaler\n",
    "from sklearn import metrics\n",
    "from sklearn.metrics import roc_auc_score\n",
    "\n",
    "import re"
   ]
  },
  {
   "cell_type": "code",
   "execution_count": 2,
   "metadata": {},
   "outputs": [],
   "source": [
    "np.random.seed(0)\n",
    "plt.rcParams.update({'font.size': 18})"
   ]
  },
  {
   "cell_type": "markdown",
   "metadata": {},
   "source": [
    "---"
   ]
  },
  {
   "cell_type": "markdown",
   "metadata": {},
   "source": [
    "## Dataframe to Array"
   ]
  },
  {
   "cell_type": "code",
   "execution_count": 3,
   "metadata": {},
   "outputs": [
    {
     "data": {
      "text/html": [
       "<div>\n",
       "<style scoped>\n",
       "    .dataframe tbody tr th:only-of-type {\n",
       "        vertical-align: middle;\n",
       "    }\n",
       "\n",
       "    .dataframe tbody tr th {\n",
       "        vertical-align: top;\n",
       "    }\n",
       "\n",
       "    .dataframe thead th {\n",
       "        text-align: right;\n",
       "    }\n",
       "</style>\n",
       "<table border=\"1\" class=\"dataframe\">\n",
       "  <thead>\n",
       "    <tr style=\"text-align: right;\">\n",
       "      <th></th>\n",
       "      <th>Unnamed: 0</th>\n",
       "      <th>+ve strand</th>\n",
       "      <th>pos_-27_A</th>\n",
       "      <th>pos_-27_C</th>\n",
       "      <th>pos_-27_G</th>\n",
       "      <th>pos_-27_T</th>\n",
       "      <th>pos_-26_A</th>\n",
       "      <th>pos_-26_C</th>\n",
       "      <th>pos_-26_G</th>\n",
       "      <th>pos_-26_T</th>\n",
       "      <th>...</th>\n",
       "      <th>AG_comp_0.9</th>\n",
       "      <th>AG_comp_1.0</th>\n",
       "      <th>length_18</th>\n",
       "      <th>length_19</th>\n",
       "      <th>length_20</th>\n",
       "      <th>length_21</th>\n",
       "      <th>length_22</th>\n",
       "      <th>length_23</th>\n",
       "      <th>length_24</th>\n",
       "      <th>length_25</th>\n",
       "    </tr>\n",
       "  </thead>\n",
       "  <tbody>\n",
       "    <tr>\n",
       "      <th>0</th>\n",
       "      <td>0</td>\n",
       "      <td>1</td>\n",
       "      <td>0</td>\n",
       "      <td>0</td>\n",
       "      <td>0</td>\n",
       "      <td>0</td>\n",
       "      <td>0</td>\n",
       "      <td>0</td>\n",
       "      <td>0</td>\n",
       "      <td>0</td>\n",
       "      <td>...</td>\n",
       "      <td>False</td>\n",
       "      <td>False</td>\n",
       "      <td>False</td>\n",
       "      <td>False</td>\n",
       "      <td>False</td>\n",
       "      <td>True</td>\n",
       "      <td>False</td>\n",
       "      <td>False</td>\n",
       "      <td>False</td>\n",
       "      <td>False</td>\n",
       "    </tr>\n",
       "    <tr>\n",
       "      <th>1</th>\n",
       "      <td>1</td>\n",
       "      <td>1</td>\n",
       "      <td>0</td>\n",
       "      <td>0</td>\n",
       "      <td>0</td>\n",
       "      <td>0</td>\n",
       "      <td>0</td>\n",
       "      <td>0</td>\n",
       "      <td>0</td>\n",
       "      <td>0</td>\n",
       "      <td>...</td>\n",
       "      <td>False</td>\n",
       "      <td>False</td>\n",
       "      <td>False</td>\n",
       "      <td>False</td>\n",
       "      <td>False</td>\n",
       "      <td>True</td>\n",
       "      <td>False</td>\n",
       "      <td>False</td>\n",
       "      <td>False</td>\n",
       "      <td>False</td>\n",
       "    </tr>\n",
       "    <tr>\n",
       "      <th>2</th>\n",
       "      <td>2</td>\n",
       "      <td>1</td>\n",
       "      <td>0</td>\n",
       "      <td>0</td>\n",
       "      <td>0</td>\n",
       "      <td>0</td>\n",
       "      <td>0</td>\n",
       "      <td>0</td>\n",
       "      <td>0</td>\n",
       "      <td>0</td>\n",
       "      <td>...</td>\n",
       "      <td>False</td>\n",
       "      <td>False</td>\n",
       "      <td>False</td>\n",
       "      <td>False</td>\n",
       "      <td>False</td>\n",
       "      <td>True</td>\n",
       "      <td>False</td>\n",
       "      <td>False</td>\n",
       "      <td>False</td>\n",
       "      <td>False</td>\n",
       "    </tr>\n",
       "    <tr>\n",
       "      <th>3</th>\n",
       "      <td>3</td>\n",
       "      <td>1</td>\n",
       "      <td>0</td>\n",
       "      <td>0</td>\n",
       "      <td>0</td>\n",
       "      <td>0</td>\n",
       "      <td>0</td>\n",
       "      <td>0</td>\n",
       "      <td>0</td>\n",
       "      <td>0</td>\n",
       "      <td>...</td>\n",
       "      <td>False</td>\n",
       "      <td>False</td>\n",
       "      <td>False</td>\n",
       "      <td>False</td>\n",
       "      <td>False</td>\n",
       "      <td>True</td>\n",
       "      <td>False</td>\n",
       "      <td>False</td>\n",
       "      <td>False</td>\n",
       "      <td>False</td>\n",
       "    </tr>\n",
       "    <tr>\n",
       "      <th>4</th>\n",
       "      <td>4</td>\n",
       "      <td>1</td>\n",
       "      <td>0</td>\n",
       "      <td>0</td>\n",
       "      <td>0</td>\n",
       "      <td>0</td>\n",
       "      <td>0</td>\n",
       "      <td>0</td>\n",
       "      <td>0</td>\n",
       "      <td>0</td>\n",
       "      <td>...</td>\n",
       "      <td>False</td>\n",
       "      <td>False</td>\n",
       "      <td>False</td>\n",
       "      <td>False</td>\n",
       "      <td>False</td>\n",
       "      <td>True</td>\n",
       "      <td>False</td>\n",
       "      <td>False</td>\n",
       "      <td>False</td>\n",
       "      <td>False</td>\n",
       "    </tr>\n",
       "  </tbody>\n",
       "</table>\n",
       "<p>5 rows × 602 columns</p>\n",
       "</div>"
      ],
      "text/plain": [
       "   Unnamed: 0  +ve strand  pos_-27_A  pos_-27_C  pos_-27_G  pos_-27_T  \\\n",
       "0           0           1          0          0          0          0   \n",
       "1           1           1          0          0          0          0   \n",
       "2           2           1          0          0          0          0   \n",
       "3           3           1          0          0          0          0   \n",
       "4           4           1          0          0          0          0   \n",
       "\n",
       "   pos_-26_A  pos_-26_C  pos_-26_G  pos_-26_T  ...  AG_comp_0.9  AG_comp_1.0  \\\n",
       "0          0          0          0          0  ...        False        False   \n",
       "1          0          0          0          0  ...        False        False   \n",
       "2          0          0          0          0  ...        False        False   \n",
       "3          0          0          0          0  ...        False        False   \n",
       "4          0          0          0          0  ...        False        False   \n",
       "\n",
       "   length_18  length_19  length_20  length_21  length_22  length_23  \\\n",
       "0      False      False      False       True      False      False   \n",
       "1      False      False      False       True      False      False   \n",
       "2      False      False      False       True      False      False   \n",
       "3      False      False      False       True      False      False   \n",
       "4      False      False      False       True      False      False   \n",
       "\n",
       "   length_24  length_25  \n",
       "0      False      False  \n",
       "1      False      False  \n",
       "2      False      False  \n",
       "3      False      False  \n",
       "4      False      False  \n",
       "\n",
       "[5 rows x 602 columns]"
      ]
     },
     "execution_count": 3,
     "metadata": {},
     "output_type": "execute_result"
    }
   ],
   "source": [
    "features_raw = pd.read_csv('features_binned.csv')\n",
    "features_raw.head()"
   ]
  },
  {
   "cell_type": "code",
   "execution_count": 4,
   "metadata": {},
   "outputs": [
    {
     "data": {
      "text/plain": [
       "array([0.01932036, 0.34889211, 0.91240883, ..., 0.215028  , 1.17072619,\n",
       "       0.57770586])"
      ]
     },
     "execution_count": 4,
     "metadata": {},
     "output_type": "execute_result"
    }
   ],
   "source": [
    "scores_arr = np.array(pd.read_csv('features.csv')['score'])\n",
    "scores_arr"
   ]
  },
  {
   "cell_type": "code",
   "execution_count": 5,
   "metadata": {},
   "outputs": [
    {
     "data": {
      "text/plain": [
       "array([[1, 0, 0, ..., False, False, False],\n",
       "       [1, 0, 0, ..., False, False, False],\n",
       "       [1, 0, 0, ..., False, False, False],\n",
       "       ...,\n",
       "       [0, 0, 0, ..., False, False, False],\n",
       "       [0, 0, 0, ..., False, False, False],\n",
       "       [0, 0, 0, ..., False, False, False]], dtype=object)"
      ]
     },
     "execution_count": 5,
     "metadata": {},
     "output_type": "execute_result"
    }
   ],
   "source": [
    "features_df = features_raw.drop(columns=['Unnamed: 0'])\n",
    "features_arr = np.array(features_df)\n",
    "features_arr"
   ]
  },
  {
   "cell_type": "markdown",
   "metadata": {},
   "source": [
    "---"
   ]
  },
  {
   "cell_type": "markdown",
   "metadata": {},
   "source": [
    "## Standardize Data to N(0, 1)"
   ]
  },
  {
   "cell_type": "code",
   "execution_count": 6,
   "metadata": {},
   "outputs": [],
   "source": [
    "scaler = StandardScaler()\n",
    "scaler.fit(features_arr)\n",
    "features_arr_std = scaler.transform(features_arr)"
   ]
  },
  {
   "cell_type": "code",
   "execution_count": 7,
   "metadata": {},
   "outputs": [],
   "source": [
    "### CHECK ###\n",
    "idxs = np.random.choice(features_arr_std.shape[1], size=5)\n",
    "for idx in idxs:\n",
    "    assert abs(np.mean(features_arr_std[:, idx])) < 1e-2\n",
    "    assert abs(np.std(features_arr_std[:, idx]) - 1) < 1e-2"
   ]
  },
  {
   "cell_type": "markdown",
   "metadata": {},
   "source": [
    "---"
   ]
  },
  {
   "cell_type": "markdown",
   "metadata": {},
   "source": [
    "## Create K=5 Folds"
   ]
  },
  {
   "cell_type": "code",
   "execution_count": 8,
   "metadata": {},
   "outputs": [],
   "source": [
    "Xs_train = []\n",
    "Ys_train = []\n",
    "\n",
    "Xs_test = []\n",
    "Ys_test = []\n",
    "\n",
    "splits = []\n",
    "\n",
    "folds = KFold(n_splits=5, shuffle = True)\n",
    "\n",
    "for train_index, test_index in folds.split(features_arr_std):\n",
    "\n",
    "    Xs_train.append(features_arr_std[train_index])\n",
    "    Ys_train.append(scores_arr[train_index])\n",
    "    \n",
    "    Xs_test.append(features_arr_std[test_index])\n",
    "    Ys_test.append(scores_arr[test_index])\n",
    "    \n",
    "    splits.append( (train_index, test_index) )"
   ]
  },
  {
   "cell_type": "markdown",
   "metadata": {},
   "source": [
    "---"
   ]
  },
  {
   "cell_type": "markdown",
   "metadata": {},
   "source": [
    "## Elastic Net"
   ]
  },
  {
   "cell_type": "code",
   "execution_count": 9,
   "metadata": {},
   "outputs": [],
   "source": [
    "models = []\n",
    "coefs = []"
   ]
  },
  {
   "cell_type": "code",
   "execution_count": 10,
   "metadata": {},
   "outputs": [],
   "source": [
    "# train K=5 models\n",
    "for i in range(len(splits)):\n",
    "    model = ElasticNetCV(cv=splits[i:i+1], random_state=0, max_iter=100000)\n",
    "    model.fit(features_arr_std, scores_arr)\n",
    "    \n",
    "    coefs.append(model.coef_)\n",
    "    models.append(model)"
   ]
  },
  {
   "cell_type": "code",
   "execution_count": 11,
   "metadata": {},
   "outputs": [],
   "source": [
    "# performance metrics\n",
    "rs_squared = []\n",
    "rs = []\n",
    "accuracies = []\n",
    "roc_aucs = []\n",
    "\n",
    "for model in models:\n",
    "    \n",
    "    r_squared = model.score(features_arr_std, scores_arr)\n",
    "    r = np.sqrt(r_squared)\n",
    "\n",
    "    preds_arr = model.predict(features_arr_std)\n",
    "    preds_bin = preds_arr > 0.75\n",
    "    scores_bin = scores_arr > 0.75\n",
    "    incorrect = np.logical_xor(preds_bin, scores_bin)\n",
    "    accuracy = np.mean(np.logical_not(incorrect))\n",
    "    \n",
    "    roc_auc = roc_auc_score(scores_bin, preds_arr)\n",
    "    \n",
    "    rs_squared.append(r_squared)\n",
    "    rs.append(r)\n",
    "    accuracies.append(accuracy)\n",
    "    roc_aucs.append(roc_auc_score(scores_bin, preds_arr))"
   ]
  },
  {
   "cell_type": "code",
   "execution_count": 12,
   "metadata": {},
   "outputs": [],
   "source": [
    "# save performance to csv\n",
    "data = {\n",
    "    'R Squared':rs_squared,\n",
    "    'R': rs,\n",
    "    'Accuracy': accuracies,\n",
    "    'ROC AUC': roc_aucs\n",
    "} \n",
    "   \n",
    "df = pd.DataFrame(data) \n",
    "df.to_csv(\"elastic_net_performance.csv\")"
   ]
  },
  {
   "cell_type": "code",
   "execution_count": 13,
   "metadata": {},
   "outputs": [],
   "source": [
    "# find coefficients\n",
    "\n",
    "mean_arr = np.mean(np.array(coefs), axis=0)\n",
    "min_arr = np.min(np.array(coefs), axis=0)\n",
    "max_arr = np.max(np.array(coefs), axis=0)\n",
    "\n",
    "tpl_arr = np.stack([mean_arr, min_arr, max_arr])"
   ]
  },
  {
   "cell_type": "code",
   "execution_count": 14,
   "metadata": {},
   "outputs": [],
   "source": [
    "# save coefficients to numpy object\n",
    "np.save(\"coef_elastic.npy\", tpl_arr)"
   ]
  },
  {
   "cell_type": "markdown",
   "metadata": {},
   "source": [
    "---"
   ]
  },
  {
   "cell_type": "markdown",
   "metadata": {},
   "source": [
    "## Figure 1B"
   ]
  },
  {
   "cell_type": "code",
   "execution_count": 15,
   "metadata": {},
   "outputs": [
    {
     "data": {
      "text/plain": [
       "(0.7557628979682545, 0.7598199891317748)"
      ]
     },
     "execution_count": 15,
     "metadata": {},
     "output_type": "execute_result"
    }
   ],
   "source": [
    "min(roc_aucs), max(roc_aucs)"
   ]
  },
  {
   "cell_type": "code",
   "execution_count": 16,
   "metadata": {
    "scrolled": false
   },
   "outputs": [
    {
     "data": {
      "image/png": "[encoded data removed]",
      "text/plain": [
       "<Figure size 576x576 with 1 Axes>"
      ]
     },
     "metadata": {
      "needs_background": "light"
     },
     "output_type": "display_data"
    }
   ],
   "source": [
    "fig = plt.figure(figsize=(8,8))\n",
    "ax1 = fig.add_subplot(111)\n",
    "\n",
    "for i in range(len(models)):\n",
    "    \n",
    "    test_idxs = splits[i][1]\n",
    "\n",
    "    preds_arr = models[i].predict(features_arr_std[test_idxs])\n",
    "    scores_bin = scores_arr[test_idxs] > 0.75\n",
    "    \n",
    "    fpr, tpr, thresholds = metrics.roc_curve(scores_bin, preds_arr)\n",
    "    ax1.plot(fpr, tpr, lw=0.75, color=\"#2aa782\", label='5-fold cross validation\\nAUC = 0.756-0.760')\n",
    "    \n",
    "    if i == 0:\n",
    "        ax1.legend()\n",
    "    \n",
    "ax1.plot(np.array([0,1]), np.array([0,1]), color=\"gray\")\n",
    "ax1.set_xlabel(\"False positive rate\")\n",
    "ax1.set_ylabel(\"True positive rate\")\n",
    "ax1.set_xticks(np.array([0, 0.5, 1]))\n",
    "ax1.set_yticks(np.array([0, 0.5, 1]))\n",
    "ax1.set_title(\"CRISPRi prediction ROC\")\n",
    "plt.show()"
   ]
  },
  {
   "cell_type": "markdown",
   "metadata": {},
   "source": [
    "---"
   ]
  },
  {
   "cell_type": "markdown",
   "metadata": {},
   "source": [
    "## TODO: Figure 1C"
   ]
  },
  {
   "cell_type": "code",
   "execution_count": 29,
   "metadata": {},
   "outputs": [],
   "source": [
    "cols = features_df.columns\n",
    "\n",
    "def find_comp(string, nucl):\n",
    "    prog = re.compile('^' + nucl + '_comp')\n",
    "    result = prog.match(string)\n",
    "    return bool(result)\n",
    "\n",
    "def find_dimer_pos(string):\n",
    "    prog = re.compile('pos_-[0-9]+_[A-Z][A-Z]$')\n",
    "    result = prog.match(string)\n",
    "    return bool(result)\n",
    "\n",
    "def find_nucl_pos(string):\n",
    "    prog = re.compile('pos_-[0-9]+_[A-Z]$')\n",
    "    result = prog.match(string)\n",
    "    return bool(result)"
   ]
  },
  {
   "cell_type": "code",
   "execution_count": 46,
   "metadata": {},
   "outputs": [],
   "source": [
    "def find_contribution(idxs):\n",
    "    contr = np.sum(features_arr_std[:, idxs] * models[0].coef_[idxs], axis=1)\n",
    "    ile_sub_contr = np.percentile(contr, 95) - np.percentile(contr, 5)\n",
    "    return ile_sub_contr"
   ]
  },
  {
   "cell_type": "code",
   "execution_count": 47,
   "metadata": {},
   "outputs": [
    {
     "data": {
      "text/plain": [
       "0.0877221948939991"
      ]
     },
     "execution_count": 47,
     "metadata": {},
     "output_type": "execute_result"
    }
   ],
   "source": [
    "# Nucleotide composition\n",
    "comp_contr = 0\n",
    "for nucl in ['A', 'C', 'G', 'T']:\n",
    "    dist_indices = [find_comp(colname, nucl) for colname in cols]\n",
    "    comp_contr += find_contribution(dist_indices)\n",
    "comp_contr"
   ]
  },
  {
   "cell_type": "code",
   "execution_count": 48,
   "metadata": {},
   "outputs": [
    {
     "data": {
      "text/plain": [
       "0.3325243685749277"
      ]
     },
     "execution_count": 48,
     "metadata": {},
     "output_type": "execute_result"
    }
   ],
   "source": [
    "# Distance from TSS\n",
    "dist_indices = ['dist' in colname for colname in cols]\n",
    "TSS_contr = find_contribution(dist_indices)\n",
    "TSS_contr"
   ]
  },
  {
   "cell_type": "code",
   "execution_count": 49,
   "metadata": {},
   "outputs": [
    {
     "data": {
      "text/plain": [
       "0.17870815067325166"
      ]
     },
     "execution_count": 49,
     "metadata": {},
     "output_type": "execute_result"
    }
   ],
   "source": [
    "# Homopolymer / Longest Run\n",
    "run_contr = 0\n",
    "for nucl in ['A', 'C', 'G', 'T']:\n",
    "    dist_indices = ['longest_' + nucl in colname for colname in cols]\n",
    "    run_contr += find_contribution(dist_indices)\n",
    "run_contr"
   ]
  },
  {
   "cell_type": "code",
   "execution_count": 50,
   "metadata": {},
   "outputs": [
    {
     "data": {
      "text/plain": [
       "0.009500704361054602"
      ]
     },
     "execution_count": 50,
     "metadata": {},
     "output_type": "execute_result"
    }
   ],
   "source": [
    "# Strand sense\n",
    "dist_indices = ['+ve' in colname for index, colname in enumerate(cols)]\n",
    "strand_contr = find_contribution(dist_indices)\n",
    "strand_contr"
   ]
  },
  {
   "cell_type": "code",
   "execution_count": 51,
   "metadata": {},
   "outputs": [
    {
     "data": {
      "text/plain": [
       "0.0790043974381745"
      ]
     },
     "execution_count": 51,
     "metadata": {},
     "output_type": "execute_result"
    }
   ],
   "source": [
    "# Length of sgRNA\n",
    "dist_indices = ['length' in colname for index, colname in enumerate(cols)]\n",
    "len_contr = find_contribution(dist_indices)\n",
    "len_contr"
   ]
  },
  {
   "cell_type": "code",
   "execution_count": 52,
   "metadata": {},
   "outputs": [
    {
     "data": {
      "text/plain": [
       "0.16650641104660477"
      ]
     },
     "execution_count": 52,
     "metadata": {},
     "output_type": "execute_result"
    }
   ],
   "source": [
    "nucl_pos_bool = [find_nucl_pos(colname) for colname in cols]\n",
    "nucl_contr = find_contribution(nucl_pos_bool)\n",
    "nucl_contr"
   ]
  },
  {
   "cell_type": "code",
   "execution_count": 53,
   "metadata": {},
   "outputs": [
    {
     "name": "stdout",
     "output_type": "stream",
     "text": [
      "384\n"
     ]
    },
    {
     "data": {
      "text/plain": [
       "0.41029811460335625"
      ]
     },
     "execution_count": 53,
     "metadata": {},
     "output_type": "execute_result"
    }
   ],
   "source": [
    "dimer_pos_bool = [find_dimer_pos(colname) for colname in cols]\n",
    "print(np.sum(dimer_pos_bool))\n",
    "dimer_contr = find_contribution(dimer_pos_bool)\n",
    "dimer_contr"
   ]
  },
  {
   "cell_type": "code",
   "execution_count": 54,
   "metadata": {},
   "outputs": [
    {
     "data": {
      "text/plain": [
       "Text(0.5, 1.0, 'Score contribution \\n(95th %ile - 5th %ile)')"
      ]
     },
     "execution_count": 54,
     "metadata": {},
     "output_type": "execute_result"
    },
    {
     "data": {
      "image/png": "[encoded data removed]",
      "text/plain": [
       "<Figure size 432x288 with 1 Axes>"
      ]
     },
     "metadata": {
      "needs_background": "light"
     },
     "output_type": "display_data"
    }
   ],
   "source": [
    "contr = [comp_contr, TSS_contr, run_contr, strand_contr, len_contr, nucl_contr, dimer_contr]\n",
    "sorted_indices = np.argsort(contr)\n",
    "contr = np.sort(contr)\n",
    "labels = np.array([\"Overall nucleotide composition\",\n",
    "          \"Target site position relative to TSS\", \n",
    "          \"sgRNA nucelotide homopolymers\",\n",
    "          \"DNA Strand Targeted\",\n",
    "          \"sgRNA length\",\n",
    "          \"Nucleotides at each position\",\n",
    "          \"Nucleotide dimers at each position\"])[sorted_indices]\n",
    "plt.barh(labels, contr, color = 'aliceblue',  edgecolor='k')\n",
    "plt.title('Score contribution \\n(95th %ile - 5th %ile)')"
   ]
  },
  {
   "cell_type": "markdown",
   "metadata": {},
   "source": [
    "---"
   ]
  },
  {
   "cell_type": "markdown",
   "metadata": {},
   "source": [
    "## TODO: Figure 1D"
   ]
  },
  {
   "cell_type": "code",
   "execution_count": 28,
   "metadata": {},
   "outputs": [
    {
     "ename": "NameError",
     "evalue": "name 'preds' is not defined",
     "output_type": "error",
     "traceback": [
      "\u001b[0;31m---------------------------------------------------------------------------\u001b[0m",
      "\u001b[0;31mNameError\u001b[0m                                 Traceback (most recent call last)",
      "\u001b[0;32m<ipython-input-28-c339392a34dc>\u001b[0m in \u001b[0;36m<module>\u001b[0;34m\u001b[0m\n\u001b[0;32m----> 1\u001b[0;31m \u001b[0mplt\u001b[0m\u001b[0;34m.\u001b[0m\u001b[0mscatter\u001b[0m\u001b[0;34m(\u001b[0m\u001b[0mpreds\u001b[0m\u001b[0;34m,\u001b[0m \u001b[0mscores_arr\u001b[0m\u001b[0;34m)\u001b[0m\u001b[0;34m\u001b[0m\u001b[0;34m\u001b[0m\u001b[0m\n\u001b[0m",
      "\u001b[0;31mNameError\u001b[0m: name 'preds' is not defined"
     ]
    }
   ],
   "source": [
    "plt.scatter(preds, scores_arr)"
   ]
  },
  {
   "cell_type": "markdown",
   "metadata": {},
   "source": [
    "## TODO: Other Models"
   ]
  },
  {
   "cell_type": "code",
   "execution_count": null,
   "metadata": {},
   "outputs": [],
   "source": []
  }
 ],
 "metadata": {
  "kernelspec": {
   "display_name": "Python 3",
   "language": "python",
   "name": "python3"
  },
  "language_info": {
   "codemirror_mode": {
    "name": "ipython",
    "version": 3
   },
   "file_extension": ".py",
   "mimetype": "text/x-python",
   "name": "python",
   "nbconvert_exporter": "python",
   "pygments_lexer": "ipython3",
   "version": "3.8.3"
  }
 },
 "nbformat": 4,
 "nbformat_minor": 4
}
