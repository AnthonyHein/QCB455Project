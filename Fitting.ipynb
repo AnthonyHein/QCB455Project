{
 "cells": [
  {
   "cell_type": "markdown",
   "metadata": {},
   "source": [
    "# Fitting\n",
    "\n",
    "This notebook is intended to fit the data associated with human CRISPRi activity scores to train a linear regression model to.\n",
    "\n",
    "The data used is that from the following paper:\n",
    "\n",
    "[Compact and highly active next-generation libraries for CRISPR-mediated gene repression and activation](https://elifesciences.org/articles/19760)\n",
    "\n",
    "__Primary Author__: Anthony Hein\n",
    "    \n",
    "__Contributors__: The featurization that makes this fitting possible is achieved jointly by Anthony Hein and Briana Macedo.\n",
    "\n",
    "---"
   ]
  },
  {
   "cell_type": "markdown",
   "metadata": {},
   "source": [
    "## Imports and Configuration"
   ]
  },
  {
   "cell_type": "code",
   "execution_count": 1,
   "metadata": {},
   "outputs": [],
   "source": [
    "import numpy as np\n",
    "import pandas as pd\n",
    "\n",
    "import matplotlib.pyplot as plt\n",
    "from matplotlib.ticker import FuncFormatter\n",
    "from matplotlib import cm\n",
    "import matplotlib.gridspec as gridspec\n",
    "\n",
    "from sklearn import linear_model\n",
    "from sklearn.metrics import mean_squared_error, r2_score\n",
    "from sklearn.datasets import make_regression\n",
    "from sklearn.model_selection import KFold\n",
    "from sklearn.linear_model import ElasticNetCV, ElasticNet\n",
    "from sklearn.preprocessing import StandardScaler\n",
    "from sklearn import metrics\n",
    "from sklearn.metrics import roc_auc_score, confusion_matrix\n",
    "\n",
    "from scipy.stats import pearsonr\n",
    "\n",
    "import re"
   ]
  },
  {
   "cell_type": "code",
   "execution_count": 2,
   "metadata": {},
   "outputs": [],
   "source": [
    "np.random.seed(0)\n",
    "plt.rcParams.update({'font.size': 16})"
   ]
  },
  {
   "cell_type": "markdown",
   "metadata": {},
   "source": [
    "---"
   ]
  },
  {
   "cell_type": "markdown",
   "metadata": {},
   "source": [
    "## Dataframe to Array"
   ]
  },
  {
   "cell_type": "code",
   "execution_count": 3,
   "metadata": {},
   "outputs": [
    {
     "data": {
      "text/html": [
       "<div>\n",
       "<style scoped>\n",
       "    .dataframe tbody tr th:only-of-type {\n",
       "        vertical-align: middle;\n",
       "    }\n",
       "\n",
       "    .dataframe tbody tr th {\n",
       "        vertical-align: top;\n",
       "    }\n",
       "\n",
       "    .dataframe thead th {\n",
       "        text-align: right;\n",
       "    }\n",
       "</style>\n",
       "<table border=\"1\" class=\"dataframe\">\n",
       "  <thead>\n",
       "    <tr style=\"text-align: right;\">\n",
       "      <th></th>\n",
       "      <th>Unnamed: 0</th>\n",
       "      <th>+ve strand</th>\n",
       "      <th>pos_-27_A</th>\n",
       "      <th>pos_-27_C</th>\n",
       "      <th>pos_-27_G</th>\n",
       "      <th>pos_-27_T</th>\n",
       "      <th>pos_-26_A</th>\n",
       "      <th>pos_-26_C</th>\n",
       "      <th>pos_-26_G</th>\n",
       "      <th>pos_-26_T</th>\n",
       "      <th>...</th>\n",
       "      <th>AG_comp_0.9</th>\n",
       "      <th>AG_comp_1.0</th>\n",
       "      <th>length_18</th>\n",
       "      <th>length_19</th>\n",
       "      <th>length_20</th>\n",
       "      <th>length_21</th>\n",
       "      <th>length_22</th>\n",
       "      <th>length_23</th>\n",
       "      <th>length_24</th>\n",
       "      <th>length_25</th>\n",
       "    </tr>\n",
       "  </thead>\n",
       "  <tbody>\n",
       "    <tr>\n",
       "      <th>0</th>\n",
       "      <td>0</td>\n",
       "      <td>1</td>\n",
       "      <td>0</td>\n",
       "      <td>0</td>\n",
       "      <td>0</td>\n",
       "      <td>0</td>\n",
       "      <td>0</td>\n",
       "      <td>0</td>\n",
       "      <td>0</td>\n",
       "      <td>0</td>\n",
       "      <td>...</td>\n",
       "      <td>False</td>\n",
       "      <td>False</td>\n",
       "      <td>False</td>\n",
       "      <td>False</td>\n",
       "      <td>False</td>\n",
       "      <td>True</td>\n",
       "      <td>False</td>\n",
       "      <td>False</td>\n",
       "      <td>False</td>\n",
       "      <td>False</td>\n",
       "    </tr>\n",
       "    <tr>\n",
       "      <th>1</th>\n",
       "      <td>1</td>\n",
       "      <td>1</td>\n",
       "      <td>0</td>\n",
       "      <td>0</td>\n",
       "      <td>0</td>\n",
       "      <td>0</td>\n",
       "      <td>0</td>\n",
       "      <td>0</td>\n",
       "      <td>0</td>\n",
       "      <td>0</td>\n",
       "      <td>...</td>\n",
       "      <td>False</td>\n",
       "      <td>False</td>\n",
       "      <td>False</td>\n",
       "      <td>False</td>\n",
       "      <td>False</td>\n",
       "      <td>True</td>\n",
       "      <td>False</td>\n",
       "      <td>False</td>\n",
       "      <td>False</td>\n",
       "      <td>False</td>\n",
       "    </tr>\n",
       "    <tr>\n",
       "      <th>2</th>\n",
       "      <td>2</td>\n",
       "      <td>1</td>\n",
       "      <td>0</td>\n",
       "      <td>0</td>\n",
       "      <td>0</td>\n",
       "      <td>0</td>\n",
       "      <td>0</td>\n",
       "      <td>0</td>\n",
       "      <td>0</td>\n",
       "      <td>0</td>\n",
       "      <td>...</td>\n",
       "      <td>False</td>\n",
       "      <td>False</td>\n",
       "      <td>False</td>\n",
       "      <td>False</td>\n",
       "      <td>False</td>\n",
       "      <td>True</td>\n",
       "      <td>False</td>\n",
       "      <td>False</td>\n",
       "      <td>False</td>\n",
       "      <td>False</td>\n",
       "    </tr>\n",
       "    <tr>\n",
       "      <th>3</th>\n",
       "      <td>3</td>\n",
       "      <td>1</td>\n",
       "      <td>0</td>\n",
       "      <td>0</td>\n",
       "      <td>0</td>\n",
       "      <td>0</td>\n",
       "      <td>0</td>\n",
       "      <td>0</td>\n",
       "      <td>0</td>\n",
       "      <td>0</td>\n",
       "      <td>...</td>\n",
       "      <td>False</td>\n",
       "      <td>False</td>\n",
       "      <td>False</td>\n",
       "      <td>False</td>\n",
       "      <td>False</td>\n",
       "      <td>True</td>\n",
       "      <td>False</td>\n",
       "      <td>False</td>\n",
       "      <td>False</td>\n",
       "      <td>False</td>\n",
       "    </tr>\n",
       "    <tr>\n",
       "      <th>4</th>\n",
       "      <td>4</td>\n",
       "      <td>1</td>\n",
       "      <td>0</td>\n",
       "      <td>0</td>\n",
       "      <td>0</td>\n",
       "      <td>0</td>\n",
       "      <td>0</td>\n",
       "      <td>0</td>\n",
       "      <td>0</td>\n",
       "      <td>0</td>\n",
       "      <td>...</td>\n",
       "      <td>False</td>\n",
       "      <td>False</td>\n",
       "      <td>False</td>\n",
       "      <td>False</td>\n",
       "      <td>False</td>\n",
       "      <td>True</td>\n",
       "      <td>False</td>\n",
       "      <td>False</td>\n",
       "      <td>False</td>\n",
       "      <td>False</td>\n",
       "    </tr>\n",
       "  </tbody>\n",
       "</table>\n",
       "<p>5 rows × 606 columns</p>\n",
       "</div>"
      ],
      "text/plain": [
       "   Unnamed: 0  +ve strand  pos_-27_A  pos_-27_C  pos_-27_G  pos_-27_T  \\\n",
       "0           0           1          0          0          0          0   \n",
       "1           1           1          0          0          0          0   \n",
       "2           2           1          0          0          0          0   \n",
       "3           3           1          0          0          0          0   \n",
       "4           4           1          0          0          0          0   \n",
       "\n",
       "   pos_-26_A  pos_-26_C  pos_-26_G  pos_-26_T  ...  AG_comp_0.9  AG_comp_1.0  \\\n",
       "0          0          0          0          0  ...        False        False   \n",
       "1          0          0          0          0  ...        False        False   \n",
       "2          0          0          0          0  ...        False        False   \n",
       "3          0          0          0          0  ...        False        False   \n",
       "4          0          0          0          0  ...        False        False   \n",
       "\n",
       "   length_18  length_19  length_20  length_21  length_22  length_23  \\\n",
       "0      False      False      False       True      False      False   \n",
       "1      False      False      False       True      False      False   \n",
       "2      False      False      False       True      False      False   \n",
       "3      False      False      False       True      False      False   \n",
       "4      False      False      False       True      False      False   \n",
       "\n",
       "   length_24  length_25  \n",
       "0      False      False  \n",
       "1      False      False  \n",
       "2      False      False  \n",
       "3      False      False  \n",
       "4      False      False  \n",
       "\n",
       "[5 rows x 606 columns]"
      ]
     },
     "execution_count": 3,
     "metadata": {},
     "output_type": "execute_result"
    }
   ],
   "source": [
    "features_raw = pd.read_csv('features_binned.csv')\n",
    "features_raw.head()"
   ]
  },
  {
   "cell_type": "code",
   "execution_count": 4,
   "metadata": {},
   "outputs": [
    {
     "data": {
      "text/plain": [
       "array([0.01932036, 0.34889211, 0.91240883, ..., 0.215028  , 1.17072619,\n",
       "       0.57770586])"
      ]
     },
     "execution_count": 4,
     "metadata": {},
     "output_type": "execute_result"
    }
   ],
   "source": [
    "scores_arr = np.array(pd.read_csv('features.csv')['score'])\n",
    "scores_arr"
   ]
  },
  {
   "cell_type": "code",
   "execution_count": 5,
   "metadata": {},
   "outputs": [
    {
     "data": {
      "text/plain": [
       "array([[1, 0, 0, ..., False, False, False],\n",
       "       [1, 0, 0, ..., False, False, False],\n",
       "       [1, 0, 0, ..., False, False, False],\n",
       "       ...,\n",
       "       [0, 0, 0, ..., False, False, False],\n",
       "       [0, 0, 0, ..., False, False, False],\n",
       "       [0, 0, 0, ..., False, False, False]], dtype=object)"
      ]
     },
     "execution_count": 5,
     "metadata": {},
     "output_type": "execute_result"
    }
   ],
   "source": [
    "features_df = features_raw.drop(columns=['Unnamed: 0'])\n",
    "features_arr = np.array(features_df)\n",
    "features_arr"
   ]
  },
  {
   "cell_type": "markdown",
   "metadata": {},
   "source": [
    "---"
   ]
  },
  {
   "cell_type": "markdown",
   "metadata": {},
   "source": [
    "## Standardize Data to N(0, 1)"
   ]
  },
  {
   "cell_type": "code",
   "execution_count": 6,
   "metadata": {},
   "outputs": [],
   "source": [
    "scaler = StandardScaler()\n",
    "scaler.fit(features_arr)\n",
    "features_arr_std = scaler.transform(features_arr)"
   ]
  },
  {
   "cell_type": "code",
   "execution_count": 7,
   "metadata": {},
   "outputs": [],
   "source": [
    "### CHECK ###\n",
    "idxs = np.random.choice(features_arr_std.shape[1], size=5)\n",
    "for idx in idxs:\n",
    "    assert abs(np.mean(features_arr_std[:, idx])) < 1e-2\n",
    "    assert abs(np.std(features_arr_std[:, idx]) - 1) < 1e-2"
   ]
  },
  {
   "cell_type": "markdown",
   "metadata": {},
   "source": [
    "---"
   ]
  },
  {
   "cell_type": "markdown",
   "metadata": {},
   "source": [
    "## Create K=5 Folds"
   ]
  },
  {
   "cell_type": "code",
   "execution_count": 8,
   "metadata": {},
   "outputs": [],
   "source": [
    "Xs_train = []\n",
    "Ys_train = []\n",
    "\n",
    "Xs_test = []\n",
    "Ys_test = []\n",
    "\n",
    "splits = []\n",
    "\n",
    "folds = KFold(n_splits=5, shuffle = True)\n",
    "\n",
    "for train_index, test_index in folds.split(features_arr_std):\n",
    "\n",
    "    Xs_train.append(features_arr_std[train_index])\n",
    "    Ys_train.append(scores_arr[train_index])\n",
    "    \n",
    "    Xs_test.append(features_arr_std[test_index])\n",
    "    Ys_test.append(scores_arr[test_index])\n",
    "    \n",
    "    splits.append( (train_index, test_index) )"
   ]
  },
  {
   "cell_type": "markdown",
   "metadata": {},
   "source": [
    "---"
   ]
  },
  {
   "cell_type": "markdown",
   "metadata": {},
   "source": [
    "## Elastic Net"
   ]
  },
  {
   "cell_type": "code",
   "execution_count": 9,
   "metadata": {},
   "outputs": [],
   "source": [
    "models = []\n",
    "coefs = []"
   ]
  },
  {
   "cell_type": "code",
   "execution_count": 10,
   "metadata": {},
   "outputs": [],
   "source": [
    "# train K=5 models\n",
    "for i in range(len(splits)):\n",
    "    model = ElasticNetCV(cv=splits[i:i+1], random_state=0, max_iter=100000)\n",
    "    model.fit(features_arr_std, scores_arr)\n",
    "    \n",
    "    coefs.append(model.coef_)\n",
    "    models.append(model)"
   ]
  },
  {
   "cell_type": "code",
   "execution_count": 11,
   "metadata": {},
   "outputs": [],
   "source": [
    "# performance metrics\n",
    "rs_squared = []\n",
    "rs = []\n",
    "accuracies = []\n",
    "roc_aucs = []\n",
    "\n",
    "for i in range(len(models)):\n",
    "    \n",
    "    test_idxs = splits[i][1]\n",
    "    \n",
    "    r_squared = model.score(features_arr_std[test_idxs], scores_arr[test_idxs])\n",
    "    r = np.sqrt(r_squared)\n",
    "\n",
    "    preds_arr = model.predict(features_arr_std[test_idxs])\n",
    "    preds_bin = preds_arr > 0.75\n",
    "    scores_bin = scores_arr[test_idxs] > 0.75\n",
    "    incorrect = np.logical_xor(preds_bin, scores_bin)\n",
    "    accuracy = np.mean(np.logical_not(incorrect))\n",
    "    \n",
    "    roc_auc = roc_auc_score(scores_bin, preds_arr)\n",
    "    \n",
    "    rs_squared.append(r_squared)\n",
    "    rs.append(r)\n",
    "    accuracies.append(accuracy)\n",
    "    roc_aucs.append(roc_auc_score(scores_bin, preds_arr))"
   ]
  },
  {
   "cell_type": "code",
   "execution_count": 12,
   "metadata": {},
   "outputs": [],
   "source": [
    "preds_scores_cfm = []\n",
    "actuals_scores_cfm = []\n",
    "\n",
    "for i in range(len(models)):\n",
    "    \n",
    "    test_idxs = splits[i][1]\n",
    "\n",
    "    preds_arr_cfm = models[i].predict(features_arr_std[test_idxs])\n",
    "    preds_scores_cfm.extend(preds_arr_cfm)\n",
    "    actuals_scores_cfm.extend(scores_arr[test_idxs])\n",
    "    \n",
    "preds_bin_cfm = np.array(preds_scores_cfm) > 0.75\n",
    "scores_bin_cfm = np.array(actuals_scores_cfm) > 0.75"
   ]
  },
  {
   "cell_type": "code",
   "execution_count": 13,
   "metadata": {},
   "outputs": [
    {
     "data": {
      "text/plain": [
       "(11874, 312, 3666, 514)"
      ]
     },
     "execution_count": 13,
     "metadata": {},
     "output_type": "execute_result"
    }
   ],
   "source": [
    "tn, fp, fn, tp = confusion_matrix(scores_bin_cfm, preds_bin_cfm).ravel()\n",
    "(tn, fp, fn, tp)"
   ]
  },
  {
   "cell_type": "code",
   "execution_count": 14,
   "metadata": {},
   "outputs": [
    {
     "data": {
      "text/plain": [
       "0.7445924477575462"
      ]
     },
     "execution_count": 14,
     "metadata": {},
     "output_type": "execute_result"
    }
   ],
   "source": [
    "no_info = max(np.mean(scores_arr > 0.75), np.mean(scores_arr < 0.75))\n",
    "no_info"
   ]
  },
  {
   "cell_type": "code",
   "execution_count": 15,
   "metadata": {},
   "outputs": [],
   "source": [
    "# save performance to csv\n",
    "data = {\n",
    "    'R Squared':rs_squared,\n",
    "    'R': rs,\n",
    "    'Accuracy': accuracies,\n",
    "    'ROC AUC': roc_aucs\n",
    "} \n",
    "   \n",
    "df = pd.DataFrame(data) \n",
    "df.to_csv(\"elastic_net_performance.csv\")"
   ]
  },
  {
   "cell_type": "code",
   "execution_count": 16,
   "metadata": {},
   "outputs": [],
   "source": [
    "# find coefficients\n",
    "\n",
    "mean_arr = np.mean(np.array(coefs), axis=0)\n",
    "min_arr = np.min(np.array(coefs), axis=0)\n",
    "max_arr = np.max(np.array(coefs), axis=0)\n",
    "\n",
    "tpl_arr = np.stack([mean_arr, min_arr, max_arr])"
   ]
  },
  {
   "cell_type": "code",
   "execution_count": 17,
   "metadata": {},
   "outputs": [],
   "source": [
    "# save coefficients to numpy object\n",
    "np.save(\"coef_elastic.npy\", tpl_arr)"
   ]
  },
  {
   "cell_type": "markdown",
   "metadata": {},
   "source": [
    "---"
   ]
  },
  {
   "cell_type": "markdown",
   "metadata": {},
   "source": [
    "## Figure 1B"
   ]
  },
  {
   "cell_type": "code",
   "execution_count": 18,
   "metadata": {},
   "outputs": [
    {
     "data": {
      "text/plain": [
       "(0.7533618150507684, 0.7663779492037714)"
      ]
     },
     "execution_count": 18,
     "metadata": {},
     "output_type": "execute_result"
    }
   ],
   "source": [
    "min(roc_aucs), max(roc_aucs)"
   ]
  },
  {
   "cell_type": "code",
   "execution_count": 19,
   "metadata": {
    "scrolled": false
   },
   "outputs": [
    {
     "data": {
      "image/png": "[encoded data removed]",
      "text/plain": [
       "<Figure size 576x576 with 1 Axes>"
      ]
     },
     "metadata": {
      "needs_background": "light"
     },
     "output_type": "display_data"
    }
   ],
   "source": [
    "fig = plt.figure(figsize=(8,8))\n",
    "ax1 = fig.add_subplot(111)\n",
    "\n",
    "for i in range(len(models)):\n",
    "    \n",
    "    test_idxs = splits[i][1]\n",
    "\n",
    "    preds_arr = models[i].predict(features_arr_std[test_idxs])\n",
    "    scores_bin = scores_arr[test_idxs] > 0.75\n",
    "    \n",
    "    fpr, tpr, thresholds = metrics.roc_curve(scores_bin, preds_arr)\n",
    "    ax1.plot(fpr, tpr, lw=0.75, color=\"#2AA782\", label='5-fold cross validation\\nAUC = 0.753-0.766')\n",
    "    \n",
    "    if i == 0:\n",
    "        ax1.legend()\n",
    "    \n",
    "ax1.plot(np.array([0,1]), np.array([0,1]), color=\"gray\")\n",
    "ax1.set_xlabel(\"False positive rate\")\n",
    "ax1.set_ylabel(\"True positive rate\")\n",
    "ax1.set_xticks(np.array([0, 0.5, 1]))\n",
    "ax1.set_yticks(np.array([0, 0.5, 1]))\n",
    "ax1.set_title(\"CRISPRi prediction ROC\")\n",
    "plt.show()"
   ]
  },
  {
   "cell_type": "markdown",
   "metadata": {},
   "source": [
    "---"
   ]
  },
  {
   "cell_type": "markdown",
   "metadata": {},
   "source": [
    "## Figure 1C"
   ]
  },
  {
   "cell_type": "code",
   "execution_count": 20,
   "metadata": {},
   "outputs": [],
   "source": [
    "cols = features_df.columns\n",
    "\n",
    "def find_comp(string, nucl):\n",
    "    prog = re.compile('^' + nucl + '_comp')\n",
    "    result = prog.match(string)\n",
    "    return bool(result)\n",
    "\n",
    "def find_dimer_pos(string):\n",
    "    prog = re.compile('pos_-[0-9]+_[A-Z][A-Z]$')\n",
    "    result = prog.match(string)\n",
    "    return bool(result)\n",
    "\n",
    "def find_nucl_pos(string):\n",
    "    prog = re.compile('pos_-[0-9]+_[A-Z]$')\n",
    "    result = prog.match(string)\n",
    "    return bool(result)\n",
    "\n",
    "def find_contribution(model, grp_idxs, i):\n",
    "    test_idxs = splits[i][1]\n",
    "    datapoints = features_arr_std[test_idxs]\n",
    "    contr = np.sum(datapoints[:, grp_idxs] * model.coef_[grp_idxs], axis=1)\n",
    "    ile_sub_contr = np.percentile(contr, 95) - np.percentile(contr, 5)\n",
    "    return ile_sub_contr"
   ]
  },
  {
   "cell_type": "code",
   "execution_count": 21,
   "metadata": {},
   "outputs": [],
   "source": [
    "nucls = ['A', 'C', 'G', 'T']\n",
    "contrs = []\n",
    "    \n",
    "for i in range(len(models)):\n",
    "    \n",
    "    comp_contr = np.sum([\n",
    "        find_contribution(models[i], [find_comp(col, nucl) for col in cols], i) for nucl in nucls\n",
    "    ])\n",
    "    \n",
    "    TSS_contr = find_contribution(models[i], ['dist' in col for col in cols], i)\n",
    "        \n",
    "    run_contr = np.sum([\n",
    "        find_contribution(models[i], ['longest_' + nucl in col for col in cols], i) for nucl in nucls\n",
    "    ])\n",
    "    \n",
    "    strand_contr = find_contribution(models[i], ['+ve' in col for col in cols], i)\n",
    "\n",
    "    len_contr = find_contribution(models[i], ['length' in col for col in cols], i)\n",
    "    \n",
    "    nucl_contr = find_contribution(models[i], [find_nucl_pos(col) for col in cols], i)\n",
    "    \n",
    "    dimer_contr = find_contribution(models[i], [find_dimer_pos(col) for col in cols], i)\n",
    "    \n",
    "    contr = [\n",
    "        comp_contr, TSS_contr, run_contr, strand_contr, \n",
    "        len_contr, nucl_contr, dimer_contr\n",
    "    ]\n",
    "    \n",
    "    contrs.append(contr)"
   ]
  },
  {
   "cell_type": "code",
   "execution_count": 22,
   "metadata": {},
   "outputs": [],
   "source": [
    "avg_contrs = np.mean(contrs, axis=0)\n",
    "sorted_indices = np.argsort(avg_contrs)\n",
    "\n",
    "avg_contrs = avg_contrs[sorted_indices]\n",
    "\n",
    "for i in range(len(contrs)):\n",
    "    contrs[i] = np.array(contrs[i])[sorted_indices]\n",
    "    \n",
    "labels = np.array([\n",
    "    \"Overall nucleotide composition\",\n",
    "    \"Target site position relative to TSS\", \n",
    "    \"sgRNA nucelotide homopolymers\",\n",
    "    \"DNA Strand Targeted\",\n",
    "    \"sgRNA length\",\n",
    "    \"Nucleotides at each position\",\n",
    "    \"Nucleotide dimers at each position\"\n",
    "])[sorted_indices]"
   ]
  },
  {
   "cell_type": "code",
   "execution_count": 23,
   "metadata": {},
   "outputs": [
    {
     "data": {
      "image/png": "[encoded data removed]",
      "text/plain": [
       "<Figure size 576x576 with 1 Axes>"
      ]
     },
     "metadata": {
      "needs_background": "light"
     },
     "output_type": "display_data"
    }
   ],
   "source": [
    "fig = plt.figure(figsize=(8,8))\n",
    "ax1 = fig.add_subplot(111)\n",
    "\n",
    "for i in range(len(contrs)):\n",
    "    ax1.scatter(contrs[i], np.arange(0, len(labels)), facecolors='none', edgecolors='#2AA782')\n",
    "\n",
    "ax1.barh(labels, avg_contrs, color=(1, 1, 1, 0), edgecolor='k')\n",
    "ax1.set_xlim(0, 0.5)\n",
    "\n",
    "ax1.set_title('Score contribution \\n(95th %ile - 5th %ile)', fontsize=20)\n",
    "plt.show()"
   ]
  },
  {
   "cell_type": "markdown",
   "metadata": {},
   "source": [
    "---"
   ]
  },
  {
   "cell_type": "markdown",
   "metadata": {},
   "source": [
    "## TODO: Figure 1D"
   ]
  },
  {
   "cell_type": "markdown",
   "metadata": {},
   "source": [
    "### (Top)"
   ]
  },
  {
   "cell_type": "code",
   "execution_count": 24,
   "metadata": {
    "scrolled": true
   },
   "outputs": [],
   "source": [
    "preds_scores = []\n",
    "actuals_scores = []\n",
    "\n",
    "for i in range(len(models)):\n",
    "    \n",
    "    test_idxs = splits[i][1]\n",
    "\n",
    "    preds_arr = models[i].predict(features_arr_std[test_idxs])\n",
    "    preds_scores.extend(preds_arr)\n",
    "    actuals_scores.extend(scores_arr[test_idxs])\n",
    "    \n",
    "# preds_scores = np.mean(preds_ls, axis=0)"
   ]
  },
  {
   "cell_type": "code",
   "execution_count": 25,
   "metadata": {},
   "outputs": [],
   "source": [
    "sorted_indices = np.argsort(preds_scores)\n",
    "\n",
    "sorted_preds_scores = np.array(preds_scores)[sorted_indices]\n",
    "sorted_actual_scores = np.array(actuals_scores)[sorted_indices]"
   ]
  },
  {
   "cell_type": "code",
   "execution_count": 26,
   "metadata": {},
   "outputs": [],
   "source": [
    "intervals = []\n",
    "for prediction in sorted_preds_scores:\n",
    "    intervals.append((prediction - 0.25, prediction + 0.25))\n",
    "\n",
    "intervals = np.array(intervals)"
   ]
  },
  {
   "cell_type": "code",
   "execution_count": 27,
   "metadata": {},
   "outputs": [],
   "source": [
    "intervals_idxs = []\n",
    "for interval in intervals:\n",
    "    intervals_idxs.append(\n",
    "        np.logical_and(sorted_preds_scores > interval[0], sorted_preds_scores < interval[1])\n",
    "    )\n",
    "    \n",
    "intervals_idxs = np.array(intervals_idxs)"
   ]
  },
  {
   "cell_type": "code",
   "execution_count": 28,
   "metadata": {},
   "outputs": [],
   "source": [
    "ile10 = []\n",
    "ile25 = []\n",
    "ile50 = []\n",
    "ile75 = []\n",
    "ile90 = []\n",
    "\n",
    "for idxs in intervals_idxs:\n",
    "    ls = sorted_actual_scores[idxs]\n",
    "    ile10.append(np.percentile(ls, 10))\n",
    "    ile25.append(np.percentile(ls, 25))\n",
    "    ile50.append(np.percentile(ls, 50))\n",
    "    ile75.append(np.percentile(ls, 75))\n",
    "    ile90.append(np.percentile(ls, 90))"
   ]
  },
  {
   "cell_type": "code",
   "execution_count": 29,
   "metadata": {},
   "outputs": [
    {
     "data": {
      "image/png": "[encoded data removed]",
      "text/plain": [
       "<Figure size 576x288 with 1 Axes>"
      ]
     },
     "metadata": {
      "needs_background": "light"
     },
     "output_type": "display_data"
    }
   ],
   "source": [
    "fig = plt.figure(figsize=(8,4))\n",
    "ax = fig.add_subplot(111)\n",
    "\n",
    "ax.set_xlabel(\"Predicted activity score\")\n",
    "ax.set_ylabel(\"sgRNA activity score\")\n",
    "\n",
    "ax.set_xticks(np.array([-0.4, 0.0, 0.4, 0.8, 1.2]))\n",
    "ax.set_xlim(-0.4, 1.2)\n",
    "\n",
    "ax.plot(sorted_preds_scores, ile50, color=\"#279b73\")\n",
    "ax.fill_between(sorted_preds_scores, ile10, ile90, color=\"#c9e0d3\")\n",
    "ax.fill_between(sorted_preds_scores, ile25, ile75, color=\"#82baa2\")\n",
    "\n",
    "ax.text(1.07, 1.5, '90%ile', fontsize=10)\n",
    "ax.text(1.07, 1.2, '75%ile', fontsize=10)\n",
    "ax.text(1.07, 0.9, '50%ile', fontsize=10)\n",
    "ax.text(1.07, 0.6, '25%ile', fontsize=10)\n",
    "ax.text(1.07, 0.1, '10%ile', fontsize=10)\n",
    "\n",
    "plt.show()"
   ]
  },
  {
   "cell_type": "code",
   "execution_count": 30,
   "metadata": {},
   "outputs": [
    {
     "data": {
      "text/plain": [
       "(0.47767333966304215, 0.0)"
      ]
     },
     "execution_count": 30,
     "metadata": {},
     "output_type": "execute_result"
    }
   ],
   "source": [
    "corr, p = pearsonr(sorted_preds_scores, sorted_actual_scores)\n",
    "(corr, p)"
   ]
  },
  {
   "cell_type": "code",
   "execution_count": 31,
   "metadata": {},
   "outputs": [
    {
     "data": {
      "text/plain": [
       "(0.9837347979037663, 0.0)"
      ]
     },
     "execution_count": 31,
     "metadata": {},
     "output_type": "execute_result"
    }
   ],
   "source": [
    "corr, p = pearsonr(sorted_preds_scores, ile50)\n",
    "(corr, p)"
   ]
  },
  {
   "cell_type": "markdown",
   "metadata": {},
   "source": [
    "### (Bottom)"
   ]
  },
  {
   "cell_type": "markdown",
   "metadata": {},
   "source": [
    "Despite our model greatly resembling that in the paper as far as we can tell from the reported statistics and above plots, there is inconsistency with Figure 1D. In particular, when we featurize CRISPRi v1, hCRISPRi v2, and hCRISPRi v2.1 libraries and predict the activity score with our model, there is no discernible difference in the distributions of the three libraries.\n",
    "\n",
    "We provide two plots: one uses their predicted scores for v2 and v2.1 alongside our predicted scores for v1 (upon which our model was trained on) and the other uses our predicted scores for all three libraries. You will find that the former more closely resembles what is found in the paper. More explanation is provided in our writeup."
   ]
  },
  {
   "cell_type": "markdown",
   "metadata": {},
   "source": [
    "#### Part 1"
   ]
  },
  {
   "cell_type": "code",
   "execution_count": 32,
   "metadata": {},
   "outputs": [],
   "source": [
    "v1_preds_ls = []\n",
    "\n",
    "for i in range(len(models)):\n",
    "\n",
    "    v1_preds_arr = models[i].predict(features_arr_std)\n",
    "    v1_preds_ls.append(v1_preds_arr)\n",
    "    \n",
    "v1_scores = np.mean(v1_preds_ls, axis=0)"
   ]
  },
  {
   "cell_type": "code",
   "execution_count": 33,
   "metadata": {},
   "outputs": [
    {
     "data": {
      "text/html": [
       "<div>\n",
       "<style scoped>\n",
       "    .dataframe tbody tr th:only-of-type {\n",
       "        vertical-align: middle;\n",
       "    }\n",
       "\n",
       "    .dataframe tbody tr th {\n",
       "        vertical-align: top;\n",
       "    }\n",
       "\n",
       "    .dataframe thead th {\n",
       "        text-align: right;\n",
       "    }\n",
       "</style>\n",
       "<table border=\"1\" class=\"dataframe\">\n",
       "  <thead>\n",
       "    <tr style=\"text-align: right;\">\n",
       "      <th></th>\n",
       "      <th>sgID</th>\n",
       "      <th>gene</th>\n",
       "      <th>transcript</th>\n",
       "      <th>protospacer sequence</th>\n",
       "      <th>selection rank</th>\n",
       "      <th>predicted score</th>\n",
       "      <th>empirical score</th>\n",
       "      <th>off-target stringency</th>\n",
       "      <th>CRISPRi-v2.1 predicted score</th>\n",
       "      <th>Sublibrary</th>\n",
       "      <th>Sublibrary half</th>\n",
       "    </tr>\n",
       "  </thead>\n",
       "  <tbody>\n",
       "    <tr>\n",
       "      <th>0</th>\n",
       "      <td>A1BG_-_58858617.23-P1</td>\n",
       "      <td>A1BG</td>\n",
       "      <td>P1</td>\n",
       "      <td>GGAGACCCAGCGCTAACCAG</td>\n",
       "      <td>1.0</td>\n",
       "      <td>1.008816</td>\n",
       "      <td>NaN</td>\n",
       "      <td>0</td>\n",
       "      <td>0.685071</td>\n",
       "      <td>h3</td>\n",
       "      <td>Top5</td>\n",
       "    </tr>\n",
       "    <tr>\n",
       "      <th>1</th>\n",
       "      <td>A1BG_-_58858788.23-P1</td>\n",
       "      <td>A1BG</td>\n",
       "      <td>P1</td>\n",
       "      <td>GGGGCACCCAGGAGCGGTAG</td>\n",
       "      <td>2.0</td>\n",
       "      <td>0.901176</td>\n",
       "      <td>NaN</td>\n",
       "      <td>0</td>\n",
       "      <td>0.782793</td>\n",
       "      <td>h3</td>\n",
       "      <td>Top5</td>\n",
       "    </tr>\n",
       "    <tr>\n",
       "      <th>2</th>\n",
       "      <td>A1BG_+_58858964.23-P1</td>\n",
       "      <td>A1BG</td>\n",
       "      <td>P1</td>\n",
       "      <td>GCTCCGGGCGACGTGGAGTG</td>\n",
       "      <td>3.0</td>\n",
       "      <td>0.836188</td>\n",
       "      <td>NaN</td>\n",
       "      <td>0</td>\n",
       "      <td>0.870837</td>\n",
       "      <td>h3</td>\n",
       "      <td>Top5</td>\n",
       "    </tr>\n",
       "    <tr>\n",
       "      <th>3</th>\n",
       "      <td>A1BG_-_58858630.23-P1</td>\n",
       "      <td>A1BG</td>\n",
       "      <td>P1</td>\n",
       "      <td>GAACCAGGGGTGCCCAAGGG</td>\n",
       "      <td>4.0</td>\n",
       "      <td>0.827551</td>\n",
       "      <td>NaN</td>\n",
       "      <td>0</td>\n",
       "      <td>0.590668</td>\n",
       "      <td>h3</td>\n",
       "      <td>Top5</td>\n",
       "    </tr>\n",
       "    <tr>\n",
       "      <th>4</th>\n",
       "      <td>A1BG_+_58858549.23-P1</td>\n",
       "      <td>A1BG</td>\n",
       "      <td>P1</td>\n",
       "      <td>GGCGAGGAACCGCCCAGCAA</td>\n",
       "      <td>5.0</td>\n",
       "      <td>0.775395</td>\n",
       "      <td>NaN</td>\n",
       "      <td>0</td>\n",
       "      <td>0.492280</td>\n",
       "      <td>h3</td>\n",
       "      <td>Top5</td>\n",
       "    </tr>\n",
       "  </tbody>\n",
       "</table>\n",
       "</div>"
      ],
      "text/plain": [
       "                    sgID  gene transcript  protospacer sequence  \\\n",
       "0  A1BG_-_58858617.23-P1  A1BG         P1  GGAGACCCAGCGCTAACCAG   \n",
       "1  A1BG_-_58858788.23-P1  A1BG         P1  GGGGCACCCAGGAGCGGTAG   \n",
       "2  A1BG_+_58858964.23-P1  A1BG         P1  GCTCCGGGCGACGTGGAGTG   \n",
       "3  A1BG_-_58858630.23-P1  A1BG         P1  GAACCAGGGGTGCCCAAGGG   \n",
       "4  A1BG_+_58858549.23-P1  A1BG         P1  GGCGAGGAACCGCCCAGCAA   \n",
       "\n",
       "   selection rank  predicted score  empirical score  off-target stringency  \\\n",
       "0             1.0         1.008816              NaN                      0   \n",
       "1             2.0         0.901176              NaN                      0   \n",
       "2             3.0         0.836188              NaN                      0   \n",
       "3             4.0         0.827551              NaN                      0   \n",
       "4             5.0         0.775395              NaN                      0   \n",
       "\n",
       "   CRISPRi-v2.1 predicted score Sublibrary Sublibrary half  \n",
       "0                      0.685071         h3            Top5  \n",
       "1                      0.782793         h3            Top5  \n",
       "2                      0.870837         h3            Top5  \n",
       "3                      0.590668         h3            Top5  \n",
       "4                      0.492280         h3            Top5  "
      ]
     },
     "execution_count": 33,
     "metadata": {},
     "output_type": "execute_result"
    }
   ],
   "source": [
    "v2_df = pd.read_csv('hCRISPRi_Library_v2.csv')\n",
    "v2_df.head()"
   ]
  },
  {
   "cell_type": "code",
   "execution_count": 34,
   "metadata": {},
   "outputs": [
    {
     "data": {
      "text/plain": [
       "0    0.685071\n",
       "1    0.782793\n",
       "2    0.870837\n",
       "3    0.590668\n",
       "4    0.492280\n",
       "Name: CRISPRi-v2.1 predicted score, dtype: float64"
      ]
     },
     "execution_count": 34,
     "metadata": {},
     "output_type": "execute_result"
    }
   ],
   "source": [
    "v2_scores = v2_df['CRISPRi-v2.1 predicted score']\n",
    "v2_scores.head()"
   ]
  },
  {
   "cell_type": "code",
   "execution_count": 35,
   "metadata": {},
   "outputs": [
    {
     "data": {
      "text/plain": [
       "(209070,)"
      ]
     },
     "execution_count": 35,
     "metadata": {},
     "output_type": "execute_result"
    }
   ],
   "source": [
    "v2_scores.shape"
   ]
  },
  {
   "cell_type": "code",
   "execution_count": 36,
   "metadata": {},
   "outputs": [
    {
     "data": {
      "text/plain": [
       "(205280,)"
      ]
     },
     "execution_count": 36,
     "metadata": {},
     "output_type": "execute_result"
    }
   ],
   "source": [
    "v2_scores = v2_scores.dropna()\n",
    "v2_scores.shape"
   ]
  },
  {
   "cell_type": "code",
   "execution_count": 37,
   "metadata": {},
   "outputs": [
    {
     "data": {
      "text/html": [
       "<div>\n",
       "<style scoped>\n",
       "    .dataframe tbody tr th:only-of-type {\n",
       "        vertical-align: middle;\n",
       "    }\n",
       "\n",
       "    .dataframe tbody tr th {\n",
       "        vertical-align: top;\n",
       "    }\n",
       "\n",
       "    .dataframe thead th {\n",
       "        text-align: right;\n",
       "    }\n",
       "</style>\n",
       "<table border=\"1\" class=\"dataframe\">\n",
       "  <thead>\n",
       "    <tr style=\"text-align: right;\">\n",
       "      <th></th>\n",
       "      <th>sgID</th>\n",
       "      <th>gene</th>\n",
       "      <th>transcript</th>\n",
       "      <th>protospacer sequence</th>\n",
       "      <th>selection rank</th>\n",
       "      <th>predicted score</th>\n",
       "      <th>empirical score</th>\n",
       "      <th>off-target stringency</th>\n",
       "      <th>Sublibrary half</th>\n",
       "    </tr>\n",
       "  </thead>\n",
       "  <tbody>\n",
       "    <tr>\n",
       "      <th>0</th>\n",
       "      <td>A1BG_+_58858964.23-P1</td>\n",
       "      <td>A1BG</td>\n",
       "      <td>P1</td>\n",
       "      <td>GCTCCGGGCGACGTGGAGTG</td>\n",
       "      <td>1</td>\n",
       "      <td>0.870837</td>\n",
       "      <td>NaN</td>\n",
       "      <td>0</td>\n",
       "      <td>Top5</td>\n",
       "    </tr>\n",
       "    <tr>\n",
       "      <th>1</th>\n",
       "      <td>A1BG_-_58858788.23-P1</td>\n",
       "      <td>A1BG</td>\n",
       "      <td>P1</td>\n",
       "      <td>GGGGCACCCAGGAGCGGTAG</td>\n",
       "      <td>2</td>\n",
       "      <td>0.782793</td>\n",
       "      <td>NaN</td>\n",
       "      <td>0</td>\n",
       "      <td>Top5</td>\n",
       "    </tr>\n",
       "    <tr>\n",
       "      <th>2</th>\n",
       "      <td>A1BG_-_58858991.23-P1</td>\n",
       "      <td>A1BG</td>\n",
       "      <td>P1</td>\n",
       "      <td>GTCCACGTCGCCCGGAGCTG</td>\n",
       "      <td>3</td>\n",
       "      <td>0.722963</td>\n",
       "      <td>NaN</td>\n",
       "      <td>0</td>\n",
       "      <td>Top5</td>\n",
       "    </tr>\n",
       "    <tr>\n",
       "      <th>3</th>\n",
       "      <td>A1BG_-_58858950.23-P1</td>\n",
       "      <td>A1BG</td>\n",
       "      <td>P1</td>\n",
       "      <td>GGCAGCGCAGGACGGCATCT</td>\n",
       "      <td>4</td>\n",
       "      <td>0.706643</td>\n",
       "      <td>NaN</td>\n",
       "      <td>0</td>\n",
       "      <td>Top5</td>\n",
       "    </tr>\n",
       "    <tr>\n",
       "      <th>4</th>\n",
       "      <td>A1BG_-_58858915.23-P1</td>\n",
       "      <td>A1BG</td>\n",
       "      <td>P1</td>\n",
       "      <td>GAGCAGCTCGAAGGTGACGT</td>\n",
       "      <td>5</td>\n",
       "      <td>0.700359</td>\n",
       "      <td>NaN</td>\n",
       "      <td>0</td>\n",
       "      <td>Top5</td>\n",
       "    </tr>\n",
       "  </tbody>\n",
       "</table>\n",
       "</div>"
      ],
      "text/plain": [
       "                    sgID  gene transcript  protospacer sequence  \\\n",
       "0  A1BG_+_58858964.23-P1  A1BG         P1  GCTCCGGGCGACGTGGAGTG   \n",
       "1  A1BG_-_58858788.23-P1  A1BG         P1  GGGGCACCCAGGAGCGGTAG   \n",
       "2  A1BG_-_58858991.23-P1  A1BG         P1  GTCCACGTCGCCCGGAGCTG   \n",
       "3  A1BG_-_58858950.23-P1  A1BG         P1  GGCAGCGCAGGACGGCATCT   \n",
       "4  A1BG_-_58858915.23-P1  A1BG         P1  GAGCAGCTCGAAGGTGACGT   \n",
       "\n",
       "   selection rank  predicted score  empirical score  off-target stringency  \\\n",
       "0               1         0.870837              NaN                      0   \n",
       "1               2         0.782793              NaN                      0   \n",
       "2               3         0.722963              NaN                      0   \n",
       "3               4         0.706643              NaN                      0   \n",
       "4               5         0.700359              NaN                      0   \n",
       "\n",
       "  Sublibrary half  \n",
       "0            Top5  \n",
       "1            Top5  \n",
       "2            Top5  \n",
       "3            Top5  \n",
       "4            Top5  "
      ]
     },
     "execution_count": 37,
     "metadata": {},
     "output_type": "execute_result"
    }
   ],
   "source": [
    "v2p1_df = pd.read_csv('hCRISPRi_Library_v2.1.csv')\n",
    "v2p1_df.head()"
   ]
  },
  {
   "cell_type": "code",
   "execution_count": 38,
   "metadata": {},
   "outputs": [
    {
     "data": {
      "text/plain": [
       "0    0.870837\n",
       "1    0.782793\n",
       "2    0.722963\n",
       "3    0.706643\n",
       "4    0.700359\n",
       "Name: predicted score, dtype: float64"
      ]
     },
     "execution_count": 38,
     "metadata": {},
     "output_type": "execute_result"
    }
   ],
   "source": [
    "v2p1_scores = v2p1_df['predicted score']\n",
    "v2p1_scores.head()"
   ]
  },
  {
   "cell_type": "code",
   "execution_count": 39,
   "metadata": {},
   "outputs": [
    {
     "data": {
      "text/plain": [
       "(205280,)"
      ]
     },
     "execution_count": 39,
     "metadata": {},
     "output_type": "execute_result"
    }
   ],
   "source": [
    "v2p1_scores.shape"
   ]
  },
  {
   "cell_type": "code",
   "execution_count": 40,
   "metadata": {},
   "outputs": [
    {
     "data": {
      "text/plain": [
       "(199339,)"
      ]
     },
     "execution_count": 40,
     "metadata": {},
     "output_type": "execute_result"
    }
   ],
   "source": [
    "v2p1_scores = v2p1_scores.dropna()\n",
    "v2p1_scores.shape"
   ]
  },
  {
   "cell_type": "code",
   "execution_count": 41,
   "metadata": {},
   "outputs": [],
   "source": [
    "# the tick marks will be in thousands\n",
    "def thousands(x, pos):\n",
    "    return int(x / 1e3)\n",
    "\n",
    "formatter = FuncFormatter(thousands)"
   ]
  },
  {
   "cell_type": "code",
   "execution_count": 42,
   "metadata": {},
   "outputs": [],
   "source": [
    "preds_ls = []\n",
    "\n",
    "for i in range(len(models)):\n",
    "\n",
    "    preds_arr = models[i].predict(features_arr_std)\n",
    "    preds_ls.append(preds_arr)\n",
    "    \n",
    "library_v1_scores = np.mean(preds_ls, axis=0)"
   ]
  },
  {
   "cell_type": "code",
   "execution_count": 43,
   "metadata": {},
   "outputs": [
    {
     "data": {
      "image/png": "[encoded data removed]",
      "text/plain": [
       "<Figure size 720x288 with 1 Axes>"
      ]
     },
     "metadata": {
      "needs_background": "light"
     },
     "output_type": "display_data"
    }
   ],
   "source": [
    "fig = plt.figure(figsize=(10,4))\n",
    "ax = fig.add_subplot(111)\n",
    "\n",
    "ax.set_xlabel(\"Predicted activity score\")\n",
    "ax.set_ylabel(\"Relative Frequency sgRNAs\")\n",
    "\n",
    "# ax.yaxis.set_major_formatter(formatter)\n",
    "# ax.set_yticks(np.array([0, 0., 10e3]))\n",
    "\n",
    "ax.set_xticks(np.array([-0.4, 0.0, 0.4, 0.8, 1.2]))\n",
    "ax.set_xlim(-0.4, 1.2)\n",
    "\n",
    "ax.hist(v2p1_scores, bins=100, color='#f7f29d', alpha=0.7, \n",
    "        weights=np.zeros_like(v2p1_scores) + 1. / v2p1_scores.size,\n",
    "        label=\"hCRISPRi v2.1\")\n",
    "\n",
    "ax.hist(v2_scores, bins=100, color='#94add6', alpha=0.7, \n",
    "        weights=np.zeros_like(v2_scores) + 1. / v2_scores.size, \n",
    "        label=\"hCRISPRi v2\")\n",
    "\n",
    "ax.hist(v1_scores, bins=100, color='#e9a982', alpha=0.7, \n",
    "        weights=np.zeros_like(v1_scores) + 1. / v1_scores.size, \n",
    "        label=\"CRISPRi v1\")\n",
    "\n",
    "ax.legend()\n",
    "\n",
    "plt.show()"
   ]
  },
  {
   "cell_type": "markdown",
   "metadata": {},
   "source": [
    "---"
   ]
  },
  {
   "cell_type": "markdown",
   "metadata": {},
   "source": [
    "#### Part 2"
   ]
  },
  {
   "cell_type": "code",
   "execution_count": 44,
   "metadata": {},
   "outputs": [
    {
     "data": {
      "text/html": [
       "<div>\n",
       "<style scoped>\n",
       "    .dataframe tbody tr th:only-of-type {\n",
       "        vertical-align: middle;\n",
       "    }\n",
       "\n",
       "    .dataframe tbody tr th {\n",
       "        vertical-align: top;\n",
       "    }\n",
       "\n",
       "    .dataframe thead th {\n",
       "        text-align: right;\n",
       "    }\n",
       "</style>\n",
       "<table border=\"1\" class=\"dataframe\">\n",
       "  <thead>\n",
       "    <tr style=\"text-align: right;\">\n",
       "      <th></th>\n",
       "      <th>+ve strand</th>\n",
       "      <th>pos_-27_A</th>\n",
       "      <th>pos_-27_C</th>\n",
       "      <th>pos_-27_G</th>\n",
       "      <th>pos_-27_T</th>\n",
       "      <th>pos_-26_A</th>\n",
       "      <th>pos_-26_C</th>\n",
       "      <th>pos_-26_G</th>\n",
       "      <th>pos_-26_T</th>\n",
       "      <th>pos_-25_A</th>\n",
       "      <th>...</th>\n",
       "      <th>AG_comp_0.9</th>\n",
       "      <th>AG_comp_1.0</th>\n",
       "      <th>length_18</th>\n",
       "      <th>length_19</th>\n",
       "      <th>length_20</th>\n",
       "      <th>length_21</th>\n",
       "      <th>length_22</th>\n",
       "      <th>length_23</th>\n",
       "      <th>length_24</th>\n",
       "      <th>length_25</th>\n",
       "    </tr>\n",
       "  </thead>\n",
       "  <tbody>\n",
       "    <tr>\n",
       "      <th>0</th>\n",
       "      <td>0</td>\n",
       "      <td>0</td>\n",
       "      <td>0</td>\n",
       "      <td>0</td>\n",
       "      <td>0</td>\n",
       "      <td>0</td>\n",
       "      <td>0</td>\n",
       "      <td>0</td>\n",
       "      <td>0</td>\n",
       "      <td>0</td>\n",
       "      <td>...</td>\n",
       "      <td>False</td>\n",
       "      <td>False</td>\n",
       "      <td>False</td>\n",
       "      <td>False</td>\n",
       "      <td>True</td>\n",
       "      <td>False</td>\n",
       "      <td>False</td>\n",
       "      <td>False</td>\n",
       "      <td>False</td>\n",
       "      <td>False</td>\n",
       "    </tr>\n",
       "    <tr>\n",
       "      <th>1</th>\n",
       "      <td>1</td>\n",
       "      <td>0</td>\n",
       "      <td>0</td>\n",
       "      <td>0</td>\n",
       "      <td>0</td>\n",
       "      <td>0</td>\n",
       "      <td>0</td>\n",
       "      <td>0</td>\n",
       "      <td>0</td>\n",
       "      <td>0</td>\n",
       "      <td>...</td>\n",
       "      <td>False</td>\n",
       "      <td>False</td>\n",
       "      <td>False</td>\n",
       "      <td>False</td>\n",
       "      <td>True</td>\n",
       "      <td>False</td>\n",
       "      <td>False</td>\n",
       "      <td>False</td>\n",
       "      <td>False</td>\n",
       "      <td>False</td>\n",
       "    </tr>\n",
       "    <tr>\n",
       "      <th>2</th>\n",
       "      <td>1</td>\n",
       "      <td>0</td>\n",
       "      <td>0</td>\n",
       "      <td>0</td>\n",
       "      <td>0</td>\n",
       "      <td>0</td>\n",
       "      <td>0</td>\n",
       "      <td>0</td>\n",
       "      <td>0</td>\n",
       "      <td>0</td>\n",
       "      <td>...</td>\n",
       "      <td>False</td>\n",
       "      <td>False</td>\n",
       "      <td>False</td>\n",
       "      <td>False</td>\n",
       "      <td>True</td>\n",
       "      <td>False</td>\n",
       "      <td>False</td>\n",
       "      <td>False</td>\n",
       "      <td>False</td>\n",
       "      <td>False</td>\n",
       "    </tr>\n",
       "    <tr>\n",
       "      <th>3</th>\n",
       "      <td>1</td>\n",
       "      <td>0</td>\n",
       "      <td>0</td>\n",
       "      <td>0</td>\n",
       "      <td>0</td>\n",
       "      <td>0</td>\n",
       "      <td>0</td>\n",
       "      <td>0</td>\n",
       "      <td>0</td>\n",
       "      <td>0</td>\n",
       "      <td>...</td>\n",
       "      <td>False</td>\n",
       "      <td>False</td>\n",
       "      <td>False</td>\n",
       "      <td>False</td>\n",
       "      <td>True</td>\n",
       "      <td>False</td>\n",
       "      <td>False</td>\n",
       "      <td>False</td>\n",
       "      <td>False</td>\n",
       "      <td>False</td>\n",
       "    </tr>\n",
       "    <tr>\n",
       "      <th>4</th>\n",
       "      <td>0</td>\n",
       "      <td>0</td>\n",
       "      <td>0</td>\n",
       "      <td>0</td>\n",
       "      <td>0</td>\n",
       "      <td>0</td>\n",
       "      <td>0</td>\n",
       "      <td>0</td>\n",
       "      <td>0</td>\n",
       "      <td>0</td>\n",
       "      <td>...</td>\n",
       "      <td>False</td>\n",
       "      <td>False</td>\n",
       "      <td>False</td>\n",
       "      <td>False</td>\n",
       "      <td>True</td>\n",
       "      <td>False</td>\n",
       "      <td>False</td>\n",
       "      <td>False</td>\n",
       "      <td>False</td>\n",
       "      <td>False</td>\n",
       "    </tr>\n",
       "    <tr>\n",
       "      <th>...</th>\n",
       "      <td>...</td>\n",
       "      <td>...</td>\n",
       "      <td>...</td>\n",
       "      <td>...</td>\n",
       "      <td>...</td>\n",
       "      <td>...</td>\n",
       "      <td>...</td>\n",
       "      <td>...</td>\n",
       "      <td>...</td>\n",
       "      <td>...</td>\n",
       "      <td>...</td>\n",
       "      <td>...</td>\n",
       "      <td>...</td>\n",
       "      <td>...</td>\n",
       "      <td>...</td>\n",
       "      <td>...</td>\n",
       "      <td>...</td>\n",
       "      <td>...</td>\n",
       "      <td>...</td>\n",
       "      <td>...</td>\n",
       "      <td>...</td>\n",
       "    </tr>\n",
       "    <tr>\n",
       "      <th>155909</th>\n",
       "      <td>1</td>\n",
       "      <td>0</td>\n",
       "      <td>0</td>\n",
       "      <td>0</td>\n",
       "      <td>0</td>\n",
       "      <td>0</td>\n",
       "      <td>0</td>\n",
       "      <td>0</td>\n",
       "      <td>0</td>\n",
       "      <td>0</td>\n",
       "      <td>...</td>\n",
       "      <td>False</td>\n",
       "      <td>False</td>\n",
       "      <td>False</td>\n",
       "      <td>False</td>\n",
       "      <td>True</td>\n",
       "      <td>False</td>\n",
       "      <td>False</td>\n",
       "      <td>False</td>\n",
       "      <td>False</td>\n",
       "      <td>False</td>\n",
       "    </tr>\n",
       "    <tr>\n",
       "      <th>155910</th>\n",
       "      <td>0</td>\n",
       "      <td>0</td>\n",
       "      <td>0</td>\n",
       "      <td>0</td>\n",
       "      <td>0</td>\n",
       "      <td>0</td>\n",
       "      <td>0</td>\n",
       "      <td>0</td>\n",
       "      <td>0</td>\n",
       "      <td>0</td>\n",
       "      <td>...</td>\n",
       "      <td>False</td>\n",
       "      <td>False</td>\n",
       "      <td>False</td>\n",
       "      <td>False</td>\n",
       "      <td>True</td>\n",
       "      <td>False</td>\n",
       "      <td>False</td>\n",
       "      <td>False</td>\n",
       "      <td>False</td>\n",
       "      <td>False</td>\n",
       "    </tr>\n",
       "    <tr>\n",
       "      <th>155911</th>\n",
       "      <td>1</td>\n",
       "      <td>0</td>\n",
       "      <td>0</td>\n",
       "      <td>0</td>\n",
       "      <td>0</td>\n",
       "      <td>0</td>\n",
       "      <td>0</td>\n",
       "      <td>0</td>\n",
       "      <td>0</td>\n",
       "      <td>0</td>\n",
       "      <td>...</td>\n",
       "      <td>False</td>\n",
       "      <td>False</td>\n",
       "      <td>False</td>\n",
       "      <td>False</td>\n",
       "      <td>True</td>\n",
       "      <td>False</td>\n",
       "      <td>False</td>\n",
       "      <td>False</td>\n",
       "      <td>False</td>\n",
       "      <td>False</td>\n",
       "    </tr>\n",
       "    <tr>\n",
       "      <th>155912</th>\n",
       "      <td>1</td>\n",
       "      <td>0</td>\n",
       "      <td>0</td>\n",
       "      <td>0</td>\n",
       "      <td>0</td>\n",
       "      <td>0</td>\n",
       "      <td>0</td>\n",
       "      <td>0</td>\n",
       "      <td>0</td>\n",
       "      <td>0</td>\n",
       "      <td>...</td>\n",
       "      <td>False</td>\n",
       "      <td>False</td>\n",
       "      <td>False</td>\n",
       "      <td>False</td>\n",
       "      <td>True</td>\n",
       "      <td>False</td>\n",
       "      <td>False</td>\n",
       "      <td>False</td>\n",
       "      <td>False</td>\n",
       "      <td>False</td>\n",
       "    </tr>\n",
       "    <tr>\n",
       "      <th>155913</th>\n",
       "      <td>1</td>\n",
       "      <td>0</td>\n",
       "      <td>0</td>\n",
       "      <td>0</td>\n",
       "      <td>0</td>\n",
       "      <td>0</td>\n",
       "      <td>0</td>\n",
       "      <td>0</td>\n",
       "      <td>0</td>\n",
       "      <td>0</td>\n",
       "      <td>...</td>\n",
       "      <td>False</td>\n",
       "      <td>False</td>\n",
       "      <td>False</td>\n",
       "      <td>False</td>\n",
       "      <td>True</td>\n",
       "      <td>False</td>\n",
       "      <td>False</td>\n",
       "      <td>False</td>\n",
       "      <td>False</td>\n",
       "      <td>False</td>\n",
       "    </tr>\n",
       "  </tbody>\n",
       "</table>\n",
       "<p>155914 rows × 605 columns</p>\n",
       "</div>"
      ],
      "text/plain": [
       "        +ve strand  pos_-27_A  pos_-27_C  pos_-27_G  pos_-27_T  pos_-26_A  \\\n",
       "0                0          0          0          0          0          0   \n",
       "1                1          0          0          0          0          0   \n",
       "2                1          0          0          0          0          0   \n",
       "3                1          0          0          0          0          0   \n",
       "4                0          0          0          0          0          0   \n",
       "...            ...        ...        ...        ...        ...        ...   \n",
       "155909           1          0          0          0          0          0   \n",
       "155910           0          0          0          0          0          0   \n",
       "155911           1          0          0          0          0          0   \n",
       "155912           1          0          0          0          0          0   \n",
       "155913           1          0          0          0          0          0   \n",
       "\n",
       "        pos_-26_C  pos_-26_G  pos_-26_T  pos_-25_A  ...  AG_comp_0.9  \\\n",
       "0               0          0          0          0  ...        False   \n",
       "1               0          0          0          0  ...        False   \n",
       "2               0          0          0          0  ...        False   \n",
       "3               0          0          0          0  ...        False   \n",
       "4               0          0          0          0  ...        False   \n",
       "...           ...        ...        ...        ...  ...          ...   \n",
       "155909          0          0          0          0  ...        False   \n",
       "155910          0          0          0          0  ...        False   \n",
       "155911          0          0          0          0  ...        False   \n",
       "155912          0          0          0          0  ...        False   \n",
       "155913          0          0          0          0  ...        False   \n",
       "\n",
       "        AG_comp_1.0  length_18  length_19  length_20  length_21  length_22  \\\n",
       "0             False      False      False       True      False      False   \n",
       "1             False      False      False       True      False      False   \n",
       "2             False      False      False       True      False      False   \n",
       "3             False      False      False       True      False      False   \n",
       "4             False      False      False       True      False      False   \n",
       "...             ...        ...        ...        ...        ...        ...   \n",
       "155909        False      False      False       True      False      False   \n",
       "155910        False      False      False       True      False      False   \n",
       "155911        False      False      False       True      False      False   \n",
       "155912        False      False      False       True      False      False   \n",
       "155913        False      False      False       True      False      False   \n",
       "\n",
       "        length_23  length_24  length_25  \n",
       "0           False      False      False  \n",
       "1           False      False      False  \n",
       "2           False      False      False  \n",
       "3           False      False      False  \n",
       "4           False      False      False  \n",
       "...           ...        ...        ...  \n",
       "155909      False      False      False  \n",
       "155910      False      False      False  \n",
       "155911      False      False      False  \n",
       "155912      False      False      False  \n",
       "155913      False      False      False  \n",
       "\n",
       "[155914 rows x 605 columns]"
      ]
     },
     "execution_count": 44,
     "metadata": {},
     "output_type": "execute_result"
    }
   ],
   "source": [
    "v2_df = pd.read_csv(\"features_hCRISPRi_v2_binned.csv\").drop(columns=['Unnamed: 0'])\n",
    "v2_df"
   ]
  },
  {
   "cell_type": "code",
   "execution_count": 45,
   "metadata": {},
   "outputs": [
    {
     "data": {
      "text/plain": [
       "array([[0, 0, 0, ..., False, False, False],\n",
       "       [1, 0, 0, ..., False, False, False],\n",
       "       [1, 0, 0, ..., False, False, False],\n",
       "       ...,\n",
       "       [1, 0, 0, ..., False, False, False],\n",
       "       [1, 0, 0, ..., False, False, False],\n",
       "       [1, 0, 0, ..., False, False, False]], dtype=object)"
      ]
     },
     "execution_count": 45,
     "metadata": {},
     "output_type": "execute_result"
    }
   ],
   "source": [
    "v2_arr = np.array(v2_df)\n",
    "v2_arr"
   ]
  },
  {
   "cell_type": "code",
   "execution_count": 46,
   "metadata": {},
   "outputs": [],
   "source": [
    "scaler = StandardScaler()\n",
    "scaler.fit(v2_arr)\n",
    "v2_arr_std = scaler.transform(v2_arr)"
   ]
  },
  {
   "cell_type": "code",
   "execution_count": 47,
   "metadata": {},
   "outputs": [],
   "source": [
    "v2_preds_ls = []\n",
    "\n",
    "for i in range(len(models)):\n",
    "\n",
    "    v2_preds_arr = models[i].predict(v2_arr_std)\n",
    "    v2_preds_ls.append(v2_preds_arr)\n",
    "    \n",
    "v2_scores_1 = np.mean(v2_preds_ls, axis=0)"
   ]
  },
  {
   "cell_type": "code",
   "execution_count": 48,
   "metadata": {},
   "outputs": [
    {
     "data": {
      "text/html": [
       "<div>\n",
       "<style scoped>\n",
       "    .dataframe tbody tr th:only-of-type {\n",
       "        vertical-align: middle;\n",
       "    }\n",
       "\n",
       "    .dataframe tbody tr th {\n",
       "        vertical-align: top;\n",
       "    }\n",
       "\n",
       "    .dataframe thead th {\n",
       "        text-align: right;\n",
       "    }\n",
       "</style>\n",
       "<table border=\"1\" class=\"dataframe\">\n",
       "  <thead>\n",
       "    <tr style=\"text-align: right;\">\n",
       "      <th></th>\n",
       "      <th>+ve strand</th>\n",
       "      <th>pos_-27_A</th>\n",
       "      <th>pos_-27_C</th>\n",
       "      <th>pos_-27_G</th>\n",
       "      <th>pos_-27_T</th>\n",
       "      <th>pos_-26_A</th>\n",
       "      <th>pos_-26_C</th>\n",
       "      <th>pos_-26_G</th>\n",
       "      <th>pos_-26_T</th>\n",
       "      <th>pos_-25_A</th>\n",
       "      <th>...</th>\n",
       "      <th>AG_comp_0.9</th>\n",
       "      <th>AG_comp_1.0</th>\n",
       "      <th>length_18</th>\n",
       "      <th>length_19</th>\n",
       "      <th>length_20</th>\n",
       "      <th>length_21</th>\n",
       "      <th>length_22</th>\n",
       "      <th>length_23</th>\n",
       "      <th>length_24</th>\n",
       "      <th>length_25</th>\n",
       "    </tr>\n",
       "  </thead>\n",
       "  <tbody>\n",
       "    <tr>\n",
       "      <th>0</th>\n",
       "      <td>1</td>\n",
       "      <td>0</td>\n",
       "      <td>0</td>\n",
       "      <td>0</td>\n",
       "      <td>0</td>\n",
       "      <td>0</td>\n",
       "      <td>0</td>\n",
       "      <td>0</td>\n",
       "      <td>0</td>\n",
       "      <td>0</td>\n",
       "      <td>...</td>\n",
       "      <td>False</td>\n",
       "      <td>False</td>\n",
       "      <td>False</td>\n",
       "      <td>False</td>\n",
       "      <td>True</td>\n",
       "      <td>False</td>\n",
       "      <td>False</td>\n",
       "      <td>False</td>\n",
       "      <td>False</td>\n",
       "      <td>False</td>\n",
       "    </tr>\n",
       "    <tr>\n",
       "      <th>1</th>\n",
       "      <td>0</td>\n",
       "      <td>0</td>\n",
       "      <td>0</td>\n",
       "      <td>0</td>\n",
       "      <td>0</td>\n",
       "      <td>0</td>\n",
       "      <td>0</td>\n",
       "      <td>0</td>\n",
       "      <td>0</td>\n",
       "      <td>0</td>\n",
       "      <td>...</td>\n",
       "      <td>False</td>\n",
       "      <td>False</td>\n",
       "      <td>False</td>\n",
       "      <td>False</td>\n",
       "      <td>True</td>\n",
       "      <td>False</td>\n",
       "      <td>False</td>\n",
       "      <td>False</td>\n",
       "      <td>False</td>\n",
       "      <td>False</td>\n",
       "    </tr>\n",
       "    <tr>\n",
       "      <th>2</th>\n",
       "      <td>1</td>\n",
       "      <td>0</td>\n",
       "      <td>0</td>\n",
       "      <td>0</td>\n",
       "      <td>0</td>\n",
       "      <td>0</td>\n",
       "      <td>0</td>\n",
       "      <td>0</td>\n",
       "      <td>0</td>\n",
       "      <td>0</td>\n",
       "      <td>...</td>\n",
       "      <td>False</td>\n",
       "      <td>False</td>\n",
       "      <td>False</td>\n",
       "      <td>False</td>\n",
       "      <td>True</td>\n",
       "      <td>False</td>\n",
       "      <td>False</td>\n",
       "      <td>False</td>\n",
       "      <td>False</td>\n",
       "      <td>False</td>\n",
       "    </tr>\n",
       "    <tr>\n",
       "      <th>3</th>\n",
       "      <td>1</td>\n",
       "      <td>0</td>\n",
       "      <td>0</td>\n",
       "      <td>0</td>\n",
       "      <td>0</td>\n",
       "      <td>0</td>\n",
       "      <td>0</td>\n",
       "      <td>0</td>\n",
       "      <td>0</td>\n",
       "      <td>0</td>\n",
       "      <td>...</td>\n",
       "      <td>False</td>\n",
       "      <td>False</td>\n",
       "      <td>False</td>\n",
       "      <td>False</td>\n",
       "      <td>True</td>\n",
       "      <td>False</td>\n",
       "      <td>False</td>\n",
       "      <td>False</td>\n",
       "      <td>False</td>\n",
       "      <td>False</td>\n",
       "    </tr>\n",
       "    <tr>\n",
       "      <th>4</th>\n",
       "      <td>1</td>\n",
       "      <td>0</td>\n",
       "      <td>0</td>\n",
       "      <td>0</td>\n",
       "      <td>0</td>\n",
       "      <td>0</td>\n",
       "      <td>0</td>\n",
       "      <td>0</td>\n",
       "      <td>0</td>\n",
       "      <td>0</td>\n",
       "      <td>...</td>\n",
       "      <td>False</td>\n",
       "      <td>False</td>\n",
       "      <td>False</td>\n",
       "      <td>False</td>\n",
       "      <td>True</td>\n",
       "      <td>False</td>\n",
       "      <td>False</td>\n",
       "      <td>False</td>\n",
       "      <td>False</td>\n",
       "      <td>False</td>\n",
       "    </tr>\n",
       "    <tr>\n",
       "      <th>...</th>\n",
       "      <td>...</td>\n",
       "      <td>...</td>\n",
       "      <td>...</td>\n",
       "      <td>...</td>\n",
       "      <td>...</td>\n",
       "      <td>...</td>\n",
       "      <td>...</td>\n",
       "      <td>...</td>\n",
       "      <td>...</td>\n",
       "      <td>...</td>\n",
       "      <td>...</td>\n",
       "      <td>...</td>\n",
       "      <td>...</td>\n",
       "      <td>...</td>\n",
       "      <td>...</td>\n",
       "      <td>...</td>\n",
       "      <td>...</td>\n",
       "      <td>...</td>\n",
       "      <td>...</td>\n",
       "      <td>...</td>\n",
       "      <td>...</td>\n",
       "    </tr>\n",
       "    <tr>\n",
       "      <th>152316</th>\n",
       "      <td>0</td>\n",
       "      <td>0</td>\n",
       "      <td>0</td>\n",
       "      <td>0</td>\n",
       "      <td>0</td>\n",
       "      <td>0</td>\n",
       "      <td>0</td>\n",
       "      <td>0</td>\n",
       "      <td>0</td>\n",
       "      <td>0</td>\n",
       "      <td>...</td>\n",
       "      <td>False</td>\n",
       "      <td>False</td>\n",
       "      <td>False</td>\n",
       "      <td>False</td>\n",
       "      <td>True</td>\n",
       "      <td>False</td>\n",
       "      <td>False</td>\n",
       "      <td>False</td>\n",
       "      <td>False</td>\n",
       "      <td>False</td>\n",
       "    </tr>\n",
       "    <tr>\n",
       "      <th>152317</th>\n",
       "      <td>1</td>\n",
       "      <td>0</td>\n",
       "      <td>0</td>\n",
       "      <td>0</td>\n",
       "      <td>0</td>\n",
       "      <td>0</td>\n",
       "      <td>0</td>\n",
       "      <td>0</td>\n",
       "      <td>0</td>\n",
       "      <td>0</td>\n",
       "      <td>...</td>\n",
       "      <td>False</td>\n",
       "      <td>False</td>\n",
       "      <td>False</td>\n",
       "      <td>False</td>\n",
       "      <td>True</td>\n",
       "      <td>False</td>\n",
       "      <td>False</td>\n",
       "      <td>False</td>\n",
       "      <td>False</td>\n",
       "      <td>False</td>\n",
       "    </tr>\n",
       "    <tr>\n",
       "      <th>152318</th>\n",
       "      <td>1</td>\n",
       "      <td>0</td>\n",
       "      <td>0</td>\n",
       "      <td>0</td>\n",
       "      <td>0</td>\n",
       "      <td>0</td>\n",
       "      <td>0</td>\n",
       "      <td>0</td>\n",
       "      <td>0</td>\n",
       "      <td>0</td>\n",
       "      <td>...</td>\n",
       "      <td>False</td>\n",
       "      <td>False</td>\n",
       "      <td>False</td>\n",
       "      <td>False</td>\n",
       "      <td>True</td>\n",
       "      <td>False</td>\n",
       "      <td>False</td>\n",
       "      <td>False</td>\n",
       "      <td>False</td>\n",
       "      <td>False</td>\n",
       "    </tr>\n",
       "    <tr>\n",
       "      <th>152319</th>\n",
       "      <td>1</td>\n",
       "      <td>0</td>\n",
       "      <td>0</td>\n",
       "      <td>0</td>\n",
       "      <td>0</td>\n",
       "      <td>0</td>\n",
       "      <td>0</td>\n",
       "      <td>0</td>\n",
       "      <td>0</td>\n",
       "      <td>0</td>\n",
       "      <td>...</td>\n",
       "      <td>False</td>\n",
       "      <td>False</td>\n",
       "      <td>False</td>\n",
       "      <td>False</td>\n",
       "      <td>True</td>\n",
       "      <td>False</td>\n",
       "      <td>False</td>\n",
       "      <td>False</td>\n",
       "      <td>False</td>\n",
       "      <td>False</td>\n",
       "    </tr>\n",
       "    <tr>\n",
       "      <th>152320</th>\n",
       "      <td>0</td>\n",
       "      <td>0</td>\n",
       "      <td>0</td>\n",
       "      <td>0</td>\n",
       "      <td>0</td>\n",
       "      <td>0</td>\n",
       "      <td>0</td>\n",
       "      <td>0</td>\n",
       "      <td>0</td>\n",
       "      <td>0</td>\n",
       "      <td>...</td>\n",
       "      <td>False</td>\n",
       "      <td>False</td>\n",
       "      <td>False</td>\n",
       "      <td>False</td>\n",
       "      <td>True</td>\n",
       "      <td>False</td>\n",
       "      <td>False</td>\n",
       "      <td>False</td>\n",
       "      <td>False</td>\n",
       "      <td>False</td>\n",
       "    </tr>\n",
       "  </tbody>\n",
       "</table>\n",
       "<p>152321 rows × 605 columns</p>\n",
       "</div>"
      ],
      "text/plain": [
       "        +ve strand  pos_-27_A  pos_-27_C  pos_-27_G  pos_-27_T  pos_-26_A  \\\n",
       "0                1          0          0          0          0          0   \n",
       "1                0          0          0          0          0          0   \n",
       "2                1          0          0          0          0          0   \n",
       "3                1          0          0          0          0          0   \n",
       "4                1          0          0          0          0          0   \n",
       "...            ...        ...        ...        ...        ...        ...   \n",
       "152316           0          0          0          0          0          0   \n",
       "152317           1          0          0          0          0          0   \n",
       "152318           1          0          0          0          0          0   \n",
       "152319           1          0          0          0          0          0   \n",
       "152320           0          0          0          0          0          0   \n",
       "\n",
       "        pos_-26_C  pos_-26_G  pos_-26_T  pos_-25_A  ...  AG_comp_0.9  \\\n",
       "0               0          0          0          0  ...        False   \n",
       "1               0          0          0          0  ...        False   \n",
       "2               0          0          0          0  ...        False   \n",
       "3               0          0          0          0  ...        False   \n",
       "4               0          0          0          0  ...        False   \n",
       "...           ...        ...        ...        ...  ...          ...   \n",
       "152316          0          0          0          0  ...        False   \n",
       "152317          0          0          0          0  ...        False   \n",
       "152318          0          0          0          0  ...        False   \n",
       "152319          0          0          0          0  ...        False   \n",
       "152320          0          0          0          0  ...        False   \n",
       "\n",
       "        AG_comp_1.0  length_18  length_19  length_20  length_21  length_22  \\\n",
       "0             False      False      False       True      False      False   \n",
       "1             False      False      False       True      False      False   \n",
       "2             False      False      False       True      False      False   \n",
       "3             False      False      False       True      False      False   \n",
       "4             False      False      False       True      False      False   \n",
       "...             ...        ...        ...        ...        ...        ...   \n",
       "152316        False      False      False       True      False      False   \n",
       "152317        False      False      False       True      False      False   \n",
       "152318        False      False      False       True      False      False   \n",
       "152319        False      False      False       True      False      False   \n",
       "152320        False      False      False       True      False      False   \n",
       "\n",
       "        length_23  length_24  length_25  \n",
       "0           False      False      False  \n",
       "1           False      False      False  \n",
       "2           False      False      False  \n",
       "3           False      False      False  \n",
       "4           False      False      False  \n",
       "...           ...        ...        ...  \n",
       "152316      False      False      False  \n",
       "152317      False      False      False  \n",
       "152318      False      False      False  \n",
       "152319      False      False      False  \n",
       "152320      False      False      False  \n",
       "\n",
       "[152321 rows x 605 columns]"
      ]
     },
     "execution_count": 48,
     "metadata": {},
     "output_type": "execute_result"
    }
   ],
   "source": [
    "v2p1_df = pd.read_csv(\"features_hCRISPRi_v2.1_binned.csv\").drop(columns=['Unnamed: 0'])\n",
    "v2p1_df"
   ]
  },
  {
   "cell_type": "code",
   "execution_count": 49,
   "metadata": {},
   "outputs": [
    {
     "data": {
      "text/plain": [
       "array([[1, 0, 0, ..., False, False, False],\n",
       "       [0, 0, 0, ..., False, False, False],\n",
       "       [1, 0, 0, ..., False, False, False],\n",
       "       ...,\n",
       "       [1, 0, 0, ..., False, False, False],\n",
       "       [1, 0, 0, ..., False, False, False],\n",
       "       [0, 0, 0, ..., False, False, False]], dtype=object)"
      ]
     },
     "execution_count": 49,
     "metadata": {},
     "output_type": "execute_result"
    }
   ],
   "source": [
    "v2p1_arr = np.array(v2p1_df)\n",
    "v2p1_arr"
   ]
  },
  {
   "cell_type": "code",
   "execution_count": 50,
   "metadata": {},
   "outputs": [],
   "source": [
    "scaler = StandardScaler()\n",
    "scaler.fit(v2p1_arr)\n",
    "v2p1_arr_std = scaler.transform(v2p1_arr)"
   ]
  },
  {
   "cell_type": "code",
   "execution_count": 51,
   "metadata": {},
   "outputs": [],
   "source": [
    "v2p1_preds_ls = []\n",
    "\n",
    "for i in range(len(models)):\n",
    "\n",
    "    v2p1_preds_arr = models[i].predict(v2p1_arr_std)\n",
    "    v2p1_preds_ls.append(v2p1_preds_arr)\n",
    "    \n",
    "v2p1_scores_1 = np.mean(v2p1_preds_ls, axis=0)"
   ]
  },
  {
   "cell_type": "code",
   "execution_count": 52,
   "metadata": {},
   "outputs": [
    {
     "data": {
      "image/png": "[encoded data removed]",
      "text/plain": [
       "<Figure size 720x288 with 1 Axes>"
      ]
     },
     "metadata": {
      "needs_background": "light"
     },
     "output_type": "display_data"
    }
   ],
   "source": [
    "fig = plt.figure(figsize=(10,4))\n",
    "ax = fig.add_subplot(111)\n",
    "\n",
    "ax.set_xlabel(\"Predicted activity score\")\n",
    "ax.set_ylabel(\"Relative Frequency sgRNAs\")\n",
    "\n",
    "# ax.yaxis.set_major_formatter(formatter)\n",
    "# ax.set_yticks(np.array([0, 5e3, 10e3]))\n",
    "\n",
    "ax.set_xticks(np.array([-0.4, 0.0, 0.4, 0.8, 1.2]))\n",
    "ax.set_xlim(-0.4, 1.2)\n",
    "\n",
    "ax.hist(v2p1_scores_1, bins=100, color='#f7f29d', alpha=0.7, \n",
    "        weights=np.zeros_like(v2p1_scores_1) + 1. / v2p1_scores_1.size, \n",
    "        label=\"hCRISPRi v2.1\")\n",
    "\n",
    "ax.hist(v2_scores_1, bins=100, color='#94add6', alpha=0.7, \n",
    "        weights=np.zeros_like(v2_scores_1) + 1. / v2_scores_1.size, \n",
    "        label=\"hCRISPRi v2\")\n",
    "\n",
    "ax.hist(v1_scores, bins=100, color='#e9a982', alpha=0.7, \n",
    "        weights=np.zeros_like(v1_scores) + 1. / v1_scores.size, \n",
    "        label=\"CRISPRi v1\")\n",
    "\n",
    "ax.legend()\n",
    "\n",
    "plt.show()"
   ]
  },
  {
   "cell_type": "markdown",
   "metadata": {},
   "source": [
    "---"
   ]
  },
  {
   "cell_type": "markdown",
   "metadata": {},
   "source": [
    "# Grouped plot"
   ]
  },
  {
   "cell_type": "code",
   "execution_count": 69,
   "metadata": {},
   "outputs": [
    {
     "data": {
      "image/png": "[encoded data removed]",
      "text/plain": [
       "<Figure size 1440x1080 with 5 Axes>"
      ]
     },
     "metadata": {
      "needs_background": "light"
     },
     "output_type": "display_data"
    }
   ],
   "source": [
    "fig = plt.figure(figsize=(20,15))\n",
    "gs = fig.add_gridspec(4, 4)\n",
    "\n",
    "# ROC \n",
    "ROC_ax = fig.add_subplot(gs[0:2, 0:2])\n",
    "for i in range(len(models)): \n",
    "    test_idxs = splits[i][1]\n",
    "    preds_arr = models[i].predict(features_arr_std[test_idxs])\n",
    "    scores_bin = scores_arr[test_idxs] > 0.75\n",
    "    fpr, tpr, thresholds = metrics.roc_curve(scores_bin, preds_arr)\n",
    "    ROC_ax.plot(fpr, tpr, lw=0.75, color=\"#2AA782\", label='5-fold cross validation\\nAUC = 0.753-0.766')\n",
    "    if i == 0:\n",
    "        ROC_ax.legend(frameon=False)\n",
    "    \n",
    "ROC_ax.plot(np.array([0,1]), np.array([0,1]), color=\"gray\")\n",
    "ROC_ax.set_xlabel(\"False positive rate\")\n",
    "ROC_ax.set_ylabel(\"True positive rate\")\n",
    "ROC_ax.set_xticks(np.array([0, 0.5, 1]))\n",
    "ROC_ax.set_yticks(np.array([0, 0.5, 1]))\n",
    "ROC_ax.set_title(\"CRISPRi prediction ROC\", fontsize=20)\n",
    "\n",
    "ROC_ax.spines['top'].set_visible(False)\n",
    "ROC_ax.spines['right'].set_visible(False)\n",
    "\n",
    "\n",
    "# Feature contribution \n",
    "contr_ax = fig.add_subplot(gs[0:2, 2:4])\n",
    "\n",
    "for i in range(len(contrs)):\n",
    "    contr_ax.scatter(contrs[i], np.arange(0, len(labels)), lw=2, facecolors='none', edgecolors='#2AA782')\n",
    "\n",
    "contr_ax.barh(labels, avg_contrs, color=(1, 1, 1, 0), edgecolor='k')\n",
    "contr_ax.set_xlim(0, 0.5)\n",
    "contr_ax.set_title('Score contribution', fontsize=20)\n",
    "contr_ax.set_xlabel(\"95th %ile - 5th %ile\")\n",
    "# contr_ax.yaxis.tick_right()\n",
    "\n",
    "contr_ax.spines['top'].set_visible(False)\n",
    "contr_ax.spines['right'].set_visible(False)\n",
    "\n",
    "# Histogram\n",
    "their_hist_ax = fig.add_subplot(gs[3:4, 0:2])\n",
    "\n",
    "their_hist_ax.set_xlabel(\"Predicted activity score\")\n",
    "their_hist_ax.set_ylabel(\"Relative Frequency sgRNAs (%)\")\n",
    "\n",
    "their_hist_ax.set_xticks(np.array([-0.4, 0.0, 0.4, 0.8, 1.2]))\n",
    "their_hist_ax.set_xlim(-0.4, 1.2)\n",
    "\n",
    "their_hist_ax.hist(v2p1_scores, bins=100, color='#f7f29d', alpha=0.7, \n",
    "        weights=(np.zeros_like(v2p1_scores) + 1. / v2p1_scores.size) * 100,\n",
    "        label=\"hCRISPRi v2.1\")\n",
    "\n",
    "their_hist_ax.hist(v2_scores, bins=100, color='#94add6', alpha=0.7, \n",
    "        weights=(np.zeros_like(v2_scores) + 1. / v2_scores.size) * 100, \n",
    "        label=\"hCRISPRi v2\")\n",
    "\n",
    "their_hist_ax.hist(v1_scores, bins=100, color='#e9a982', alpha=0.7, \n",
    "        weights=(np.zeros_like(v1_scores) + 1. / v1_scores.size) * 100, \n",
    "        label=\"CRISPRi v1\")\n",
    "\n",
    "their_hist_ax.set_yticks(np.array([0.0, 2.5, 5.0]))\n",
    "\n",
    "\n",
    "their_hist_ax.spines['top'].set_visible(False)\n",
    "their_hist_ax.spines['right'].set_visible(False)\n",
    "\n",
    "their_hist_ax.legend(frameon=False)\n",
    "\n",
    "# Histogram \n",
    "our_hist_ax = fig.add_subplot(gs[2:4, 2:4])\n",
    "\n",
    "our_hist_ax.set_xlabel(\"Predicted activity score\")\n",
    "our_hist_ax.set_ylabel(\"Relative Frequency sgRNAs (%)\")\n",
    "our_hist_ax.set_xticks(np.array([-0.4, 0.0, 0.4, 0.8, 1.2]))\n",
    "our_hist_ax.set_xlim(-0.4, 1.2)\n",
    "\n",
    "our_hist_ax.hist(v2p1_scores_1, bins=100, color='#f7f29d', alpha=0.7, \n",
    "        weights=(np.zeros_like(v2p1_scores_1) + 1. / v2p1_scores_1.size) * 100, \n",
    "        label=\"hCRISPRi v2.1\")\n",
    "\n",
    "our_hist_ax.hist(v2_scores_1, bins=100, color='#94add6', alpha=0.7, \n",
    "        weights=(np.zeros_like(v2_scores_1) + 1. / v2_scores_1.size) * 100, \n",
    "        label=\"hCRISPRi v2\")\n",
    "\n",
    "our_hist_ax.hist(v1_scores, bins=100, color='#e9a982', alpha=0.7, \n",
    "        weights=(np.zeros_like(v1_scores) + 1. / v1_scores.size) * 100, \n",
    "        label=\"CRISPRi v1\")\n",
    "\n",
    "our_hist_ax.set_yticks(np.array([0.0, 2.5, 5.0]))\n",
    "\n",
    "our_hist_ax.spines['top'].set_visible(False)\n",
    "our_hist_ax.spines['right'].set_visible(False)\n",
    "\n",
    "our_hist_ax.legend(frameon=False)\n",
    "\n",
    "# Predictions vs. Actual\n",
    "\n",
    "pred_ax = fig.add_subplot(gs[2:3, 0:2])\n",
    "\n",
    "pred_ax.set_xlabel(\"Predicted activity score\")\n",
    "pred_ax.set_ylabel(\"sgRNA activity score\")\n",
    "\n",
    "pred_ax.set_xticks(np.array([-0.4, 0.0, 0.4, 0.8, 1.2]))\n",
    "pred_ax.set_xlim(-0.51, 1.2)\n",
    "\n",
    "pred_ax.set_yticks(np.array([0.0, 0.5, 1.0, 1.5]))\n",
    "\n",
    "pred_ax.plot(sorted_preds_scores, ile50, color=\"#279b73\")\n",
    "pred_ax.fill_between(sorted_preds_scores, ile10, ile90, color=\"#c9e0d3\")\n",
    "pred_ax.fill_between(sorted_preds_scores, ile25, ile75, color=\"#82baa2\")\n",
    "\n",
    "pred_ax.text(1.08, 1.5, '90%ile', fontsize=14)\n",
    "pred_ax.text(1.08, 1.2, '75%ile', fontsize=14)\n",
    "pred_ax.text(1.08, 0.9, '50%ile', fontsize=14)\n",
    "pred_ax.text(1.08, 0.6, '25%ile', fontsize=14)\n",
    "pred_ax.text(1.08, 0.1, '10%ile', fontsize=14)\n",
    "\n",
    "pred_ax.spines['top'].set_visible(False)\n",
    "pred_ax.spines['right'].set_visible(False)\n",
    "\n",
    "\n",
    "fig.tight_layout(h_pad = 3, w_pad = 4)\n",
    "fig.savefig(\"Fig1\")\n",
    "\n",
    "plt.show()\n"
   ]
  },
  {
   "cell_type": "code",
   "execution_count": 62,
   "metadata": {},
   "outputs": [],
   "source": [
    "plt.rcParams.update({'font.size': 17})"
   ]
  },
  {
   "cell_type": "markdown",
   "metadata": {},
   "source": [
    "---"
   ]
  },
  {
   "cell_type": "markdown",
   "metadata": {},
   "source": [
    "## Top 5 sgRNA Per Gene"
   ]
  },
  {
   "cell_type": "code",
   "execution_count": 106,
   "metadata": {},
   "outputs": [
    {
     "data": {
      "text/html": [
       "<div>\n",
       "<style scoped>\n",
       "    .dataframe tbody tr th:only-of-type {\n",
       "        vertical-align: middle;\n",
       "    }\n",
       "\n",
       "    .dataframe tbody tr th {\n",
       "        vertical-align: top;\n",
       "    }\n",
       "\n",
       "    .dataframe thead th {\n",
       "        text-align: right;\n",
       "    }\n",
       "</style>\n",
       "<table border=\"1\" class=\"dataframe\">\n",
       "  <thead>\n",
       "    <tr style=\"text-align: right;\">\n",
       "      <th></th>\n",
       "      <th>gene</th>\n",
       "      <th>sequence</th>\n",
       "    </tr>\n",
       "  </thead>\n",
       "  <tbody>\n",
       "    <tr>\n",
       "      <th>0</th>\n",
       "      <td>AARS</td>\n",
       "      <td>GCGCTCTGATTGGACGGAGCG</td>\n",
       "    </tr>\n",
       "    <tr>\n",
       "      <th>1</th>\n",
       "      <td>AARS</td>\n",
       "      <td>GCCCCAGGATCAGGCCCCGCG</td>\n",
       "    </tr>\n",
       "    <tr>\n",
       "      <th>2</th>\n",
       "      <td>AARS</td>\n",
       "      <td>GGCCGCCCTCGGAGAGCTCTG</td>\n",
       "    </tr>\n",
       "    <tr>\n",
       "      <th>3</th>\n",
       "      <td>AARS</td>\n",
       "      <td>GACGGCGACCCTAGGAGAGGT</td>\n",
       "    </tr>\n",
       "    <tr>\n",
       "      <th>4</th>\n",
       "      <td>AARS</td>\n",
       "      <td>GGTGCAGCGGGCCCTTGGCGG</td>\n",
       "    </tr>\n",
       "    <tr>\n",
       "      <th>...</th>\n",
       "      <td>...</td>\n",
       "      <td>...</td>\n",
       "    </tr>\n",
       "    <tr>\n",
       "      <th>16361</th>\n",
       "      <td>ZWINT</td>\n",
       "      <td>GTAATCTTAGGGATTGTGGGA</td>\n",
       "    </tr>\n",
       "    <tr>\n",
       "      <th>16362</th>\n",
       "      <td>ZWINT</td>\n",
       "      <td>GTGACTTCAAAGTAATCTTA</td>\n",
       "    </tr>\n",
       "    <tr>\n",
       "      <th>16363</th>\n",
       "      <td>ZWINT</td>\n",
       "      <td>GTGGATGTGGGGAGCGGCGAA</td>\n",
       "    </tr>\n",
       "    <tr>\n",
       "      <th>16364</th>\n",
       "      <td>ZWINT</td>\n",
       "      <td>GACACCTCAGGAACCTAAGAC</td>\n",
       "    </tr>\n",
       "    <tr>\n",
       "      <th>16365</th>\n",
       "      <td>ZWINT</td>\n",
       "      <td>GGGCACCAATCATTACACAT</td>\n",
       "    </tr>\n",
       "  </tbody>\n",
       "</table>\n",
       "<p>16366 rows × 2 columns</p>\n",
       "</div>"
      ],
      "text/plain": [
       "        gene               sequence\n",
       "0       AARS  GCGCTCTGATTGGACGGAGCG\n",
       "1       AARS  GCCCCAGGATCAGGCCCCGCG\n",
       "2       AARS  GGCCGCCCTCGGAGAGCTCTG\n",
       "3       AARS  GACGGCGACCCTAGGAGAGGT\n",
       "4       AARS  GGTGCAGCGGGCCCTTGGCGG\n",
       "...      ...                    ...\n",
       "16361  ZWINT  GTAATCTTAGGGATTGTGGGA\n",
       "16362  ZWINT   GTGACTTCAAAGTAATCTTA\n",
       "16363  ZWINT  GTGGATGTGGGGAGCGGCGAA\n",
       "16364  ZWINT  GACACCTCAGGAACCTAAGAC\n",
       "16365  ZWINT   GGGCACCAATCATTACACAT\n",
       "\n",
       "[16366 rows x 2 columns]"
      ]
     },
     "execution_count": 106,
     "metadata": {},
     "output_type": "execute_result"
    }
   ],
   "source": [
    "genes_and_sequences = pd.read_csv(\"features_w_meta.csv\")\n",
    "genes_and_sequences = genes_and_sequences[['gene', 'sequence']]\n",
    "genes_and_sequences"
   ]
  },
  {
   "cell_type": "code",
   "execution_count": 107,
   "metadata": {},
   "outputs": [
    {
     "data": {
      "text/plain": [
       "array([0.43170144, 0.35894592, 0.60319926, ..., 0.33951195, 0.54964239,\n",
       "       0.36641294])"
      ]
     },
     "execution_count": 107,
     "metadata": {},
     "output_type": "execute_result"
    }
   ],
   "source": [
    "preds_ls = []\n",
    "\n",
    "for model in models:\n",
    "    \n",
    "    preds_arr = model.predict(features_arr_std)\n",
    "    preds_ls.append(preds_arr)\n",
    "    \n",
    "preds = np.mean(preds_ls, axis=0)\n",
    "preds"
   ]
  },
  {
   "cell_type": "code",
   "execution_count": 108,
   "metadata": {},
   "outputs": [
    {
     "data": {
      "text/html": [
       "<div>\n",
       "<style scoped>\n",
       "    .dataframe tbody tr th:only-of-type {\n",
       "        vertical-align: middle;\n",
       "    }\n",
       "\n",
       "    .dataframe tbody tr th {\n",
       "        vertical-align: top;\n",
       "    }\n",
       "\n",
       "    .dataframe thead th {\n",
       "        text-align: right;\n",
       "    }\n",
       "</style>\n",
       "<table border=\"1\" class=\"dataframe\">\n",
       "  <thead>\n",
       "    <tr style=\"text-align: right;\">\n",
       "      <th></th>\n",
       "      <th>gene</th>\n",
       "      <th>sequence</th>\n",
       "      <th>score</th>\n",
       "    </tr>\n",
       "  </thead>\n",
       "  <tbody>\n",
       "    <tr>\n",
       "      <th>0</th>\n",
       "      <td>AARS</td>\n",
       "      <td>GCGCTCTGATTGGACGGAGCG</td>\n",
       "      <td>0.431701</td>\n",
       "    </tr>\n",
       "    <tr>\n",
       "      <th>1</th>\n",
       "      <td>AARS</td>\n",
       "      <td>GCCCCAGGATCAGGCCCCGCG</td>\n",
       "      <td>0.358946</td>\n",
       "    </tr>\n",
       "    <tr>\n",
       "      <th>2</th>\n",
       "      <td>AARS</td>\n",
       "      <td>GGCCGCCCTCGGAGAGCTCTG</td>\n",
       "      <td>0.603199</td>\n",
       "    </tr>\n",
       "    <tr>\n",
       "      <th>3</th>\n",
       "      <td>AARS</td>\n",
       "      <td>GACGGCGACCCTAGGAGAGGT</td>\n",
       "      <td>0.679125</td>\n",
       "    </tr>\n",
       "    <tr>\n",
       "      <th>4</th>\n",
       "      <td>AARS</td>\n",
       "      <td>GGTGCAGCGGGCCCTTGGCGG</td>\n",
       "      <td>0.646344</td>\n",
       "    </tr>\n",
       "    <tr>\n",
       "      <th>...</th>\n",
       "      <td>...</td>\n",
       "      <td>...</td>\n",
       "      <td>...</td>\n",
       "    </tr>\n",
       "    <tr>\n",
       "      <th>16361</th>\n",
       "      <td>ZWINT</td>\n",
       "      <td>GTAATCTTAGGGATTGTGGGA</td>\n",
       "      <td>0.581252</td>\n",
       "    </tr>\n",
       "    <tr>\n",
       "      <th>16362</th>\n",
       "      <td>ZWINT</td>\n",
       "      <td>GTGACTTCAAAGTAATCTTA</td>\n",
       "      <td>0.547363</td>\n",
       "    </tr>\n",
       "    <tr>\n",
       "      <th>16363</th>\n",
       "      <td>ZWINT</td>\n",
       "      <td>GTGGATGTGGGGAGCGGCGAA</td>\n",
       "      <td>0.339512</td>\n",
       "    </tr>\n",
       "    <tr>\n",
       "      <th>16364</th>\n",
       "      <td>ZWINT</td>\n",
       "      <td>GACACCTCAGGAACCTAAGAC</td>\n",
       "      <td>0.549642</td>\n",
       "    </tr>\n",
       "    <tr>\n",
       "      <th>16365</th>\n",
       "      <td>ZWINT</td>\n",
       "      <td>GGGCACCAATCATTACACAT</td>\n",
       "      <td>0.366413</td>\n",
       "    </tr>\n",
       "  </tbody>\n",
       "</table>\n",
       "<p>16366 rows × 3 columns</p>\n",
       "</div>"
      ],
      "text/plain": [
       "        gene               sequence     score\n",
       "0       AARS  GCGCTCTGATTGGACGGAGCG  0.431701\n",
       "1       AARS  GCCCCAGGATCAGGCCCCGCG  0.358946\n",
       "2       AARS  GGCCGCCCTCGGAGAGCTCTG  0.603199\n",
       "3       AARS  GACGGCGACCCTAGGAGAGGT  0.679125\n",
       "4       AARS  GGTGCAGCGGGCCCTTGGCGG  0.646344\n",
       "...      ...                    ...       ...\n",
       "16361  ZWINT  GTAATCTTAGGGATTGTGGGA  0.581252\n",
       "16362  ZWINT   GTGACTTCAAAGTAATCTTA  0.547363\n",
       "16363  ZWINT  GTGGATGTGGGGAGCGGCGAA  0.339512\n",
       "16364  ZWINT  GACACCTCAGGAACCTAAGAC  0.549642\n",
       "16365  ZWINT   GGGCACCAATCATTACACAT  0.366413\n",
       "\n",
       "[16366 rows x 3 columns]"
      ]
     },
     "execution_count": 108,
     "metadata": {},
     "output_type": "execute_result"
    }
   ],
   "source": [
    "genes_and_sequences['score'] = preds\n",
    "genes_and_sequences"
   ]
  },
  {
   "cell_type": "code",
   "execution_count": 109,
   "metadata": {},
   "outputs": [
    {
     "data": {
      "text/html": [
       "<div>\n",
       "<style scoped>\n",
       "    .dataframe tbody tr th:only-of-type {\n",
       "        vertical-align: middle;\n",
       "    }\n",
       "\n",
       "    .dataframe tbody tr th {\n",
       "        vertical-align: top;\n",
       "    }\n",
       "\n",
       "    .dataframe thead th {\n",
       "        text-align: right;\n",
       "    }\n",
       "</style>\n",
       "<table border=\"1\" class=\"dataframe\">\n",
       "  <thead>\n",
       "    <tr style=\"text-align: right;\">\n",
       "      <th></th>\n",
       "      <th>gene</th>\n",
       "      <th>sequence</th>\n",
       "      <th>score</th>\n",
       "    </tr>\n",
       "  </thead>\n",
       "  <tbody>\n",
       "    <tr>\n",
       "      <th>12</th>\n",
       "      <td>AARS</td>\n",
       "      <td>GGGGACGGCGACCCTAGGAG</td>\n",
       "      <td>0.731217</td>\n",
       "    </tr>\n",
       "    <tr>\n",
       "      <th>7</th>\n",
       "      <td>AARS</td>\n",
       "      <td>GAGGGCGGCCTACCTCTCCT</td>\n",
       "      <td>0.734518</td>\n",
       "    </tr>\n",
       "    <tr>\n",
       "      <th>3</th>\n",
       "      <td>AARS</td>\n",
       "      <td>GACGGCGACCCTAGGAGAGGT</td>\n",
       "      <td>0.679125</td>\n",
       "    </tr>\n",
       "    <tr>\n",
       "      <th>4</th>\n",
       "      <td>AARS</td>\n",
       "      <td>GGTGCAGCGGGCCCTTGGCGG</td>\n",
       "      <td>0.646344</td>\n",
       "    </tr>\n",
       "    <tr>\n",
       "      <th>13</th>\n",
       "      <td>AARS</td>\n",
       "      <td>GGCCCTTGGCGGGGGACTCTG</td>\n",
       "      <td>0.713997</td>\n",
       "    </tr>\n",
       "    <tr>\n",
       "      <th>...</th>\n",
       "      <td>...</td>\n",
       "      <td>...</td>\n",
       "      <td>...</td>\n",
       "    </tr>\n",
       "    <tr>\n",
       "      <th>16359</th>\n",
       "      <td>ZWINT</td>\n",
       "      <td>GCCGGGCCTGGGAGGACCTTG</td>\n",
       "      <td>0.466656</td>\n",
       "    </tr>\n",
       "    <tr>\n",
       "      <th>16361</th>\n",
       "      <td>ZWINT</td>\n",
       "      <td>GTAATCTTAGGGATTGTGGGA</td>\n",
       "      <td>0.581252</td>\n",
       "    </tr>\n",
       "    <tr>\n",
       "      <th>16362</th>\n",
       "      <td>ZWINT</td>\n",
       "      <td>GTGACTTCAAAGTAATCTTA</td>\n",
       "      <td>0.547363</td>\n",
       "    </tr>\n",
       "    <tr>\n",
       "      <th>16364</th>\n",
       "      <td>ZWINT</td>\n",
       "      <td>GACACCTCAGGAACCTAAGAC</td>\n",
       "      <td>0.549642</td>\n",
       "    </tr>\n",
       "    <tr>\n",
       "      <th>16357</th>\n",
       "      <td>ZWINT</td>\n",
       "      <td>GTCACAGTCGACTTCGCGC</td>\n",
       "      <td>0.397330</td>\n",
       "    </tr>\n",
       "  </tbody>\n",
       "</table>\n",
       "<p>7293 rows × 3 columns</p>\n",
       "</div>"
      ],
      "text/plain": [
       "        gene               sequence     score\n",
       "12      AARS   GGGGACGGCGACCCTAGGAG  0.731217\n",
       "7       AARS   GAGGGCGGCCTACCTCTCCT  0.734518\n",
       "3       AARS  GACGGCGACCCTAGGAGAGGT  0.679125\n",
       "4       AARS  GGTGCAGCGGGCCCTTGGCGG  0.646344\n",
       "13      AARS  GGCCCTTGGCGGGGGACTCTG  0.713997\n",
       "...      ...                    ...       ...\n",
       "16359  ZWINT  GCCGGGCCTGGGAGGACCTTG  0.466656\n",
       "16361  ZWINT  GTAATCTTAGGGATTGTGGGA  0.581252\n",
       "16362  ZWINT   GTGACTTCAAAGTAATCTTA  0.547363\n",
       "16364  ZWINT  GACACCTCAGGAACCTAAGAC  0.549642\n",
       "16357  ZWINT    GTCACAGTCGACTTCGCGC  0.397330\n",
       "\n",
       "[7293 rows x 3 columns]"
      ]
     },
     "execution_count": 109,
     "metadata": {},
     "output_type": "execute_result"
    }
   ],
   "source": [
    "tmp = genes_and_sequences.sort_values('score', ascending=False)\n",
    "tmp = tmp.groupby('gene')\n",
    "tmp = tmp.head(5)\n",
    "tmp = tmp.sort_values('gene')\n",
    "genes_and_sequences = tmp\n",
    "genes_and_sequences"
   ]
  },
  {
   "cell_type": "code",
   "execution_count": 110,
   "metadata": {},
   "outputs": [
    {
     "data": {
      "text/plain": [
       "KARS    3\n",
       "Name: gene, dtype: int64"
      ]
     },
     "execution_count": 110,
     "metadata": {},
     "output_type": "execute_result"
    }
   ],
   "source": [
    "val_count = pd.Series.value_counts(genes_and_sequences['gene'])\n",
    "val_count[val_count < 5]"
   ]
  },
  {
   "cell_type": "code",
   "execution_count": 111,
   "metadata": {
    "scrolled": false
   },
   "outputs": [
    {
     "data": {
      "text/html": [
       "<div>\n",
       "<style scoped>\n",
       "    .dataframe tbody tr th:only-of-type {\n",
       "        vertical-align: middle;\n",
       "    }\n",
       "\n",
       "    .dataframe tbody tr th {\n",
       "        vertical-align: top;\n",
       "    }\n",
       "\n",
       "    .dataframe thead th {\n",
       "        text-align: right;\n",
       "    }\n",
       "</style>\n",
       "<table border=\"1\" class=\"dataframe\">\n",
       "  <thead>\n",
       "    <tr style=\"text-align: right;\">\n",
       "      <th></th>\n",
       "      <th>gene</th>\n",
       "      <th>sequence</th>\n",
       "      <th>score</th>\n",
       "    </tr>\n",
       "  </thead>\n",
       "  <tbody>\n",
       "    <tr>\n",
       "      <th>12</th>\n",
       "      <td>AARS</td>\n",
       "      <td>GGGGACGGCGACCCTAGGAG</td>\n",
       "      <td>0.731217</td>\n",
       "    </tr>\n",
       "    <tr>\n",
       "      <th>7</th>\n",
       "      <td>AARS</td>\n",
       "      <td>GAGGGCGGCCTACCTCTCCT</td>\n",
       "      <td>0.734518</td>\n",
       "    </tr>\n",
       "    <tr>\n",
       "      <th>3</th>\n",
       "      <td>AARS</td>\n",
       "      <td>GACGGCGACCCTAGGAGAGGT</td>\n",
       "      <td>0.679125</td>\n",
       "    </tr>\n",
       "    <tr>\n",
       "      <th>4</th>\n",
       "      <td>AARS</td>\n",
       "      <td>GGTGCAGCGGGCCCTTGGCGG</td>\n",
       "      <td>0.646344</td>\n",
       "    </tr>\n",
       "    <tr>\n",
       "      <th>13</th>\n",
       "      <td>AARS</td>\n",
       "      <td>GGCCCTTGGCGGGGGACTCTG</td>\n",
       "      <td>0.713997</td>\n",
       "    </tr>\n",
       "    <tr>\n",
       "      <th>...</th>\n",
       "      <td>...</td>\n",
       "      <td>...</td>\n",
       "      <td>...</td>\n",
       "    </tr>\n",
       "    <tr>\n",
       "      <th>16359</th>\n",
       "      <td>ZWINT</td>\n",
       "      <td>GCCGGGCCTGGGAGGACCTTG</td>\n",
       "      <td>0.466656</td>\n",
       "    </tr>\n",
       "    <tr>\n",
       "      <th>16361</th>\n",
       "      <td>ZWINT</td>\n",
       "      <td>GTAATCTTAGGGATTGTGGGA</td>\n",
       "      <td>0.581252</td>\n",
       "    </tr>\n",
       "    <tr>\n",
       "      <th>16362</th>\n",
       "      <td>ZWINT</td>\n",
       "      <td>GTGACTTCAAAGTAATCTTA</td>\n",
       "      <td>0.547363</td>\n",
       "    </tr>\n",
       "    <tr>\n",
       "      <th>16364</th>\n",
       "      <td>ZWINT</td>\n",
       "      <td>GACACCTCAGGAACCTAAGAC</td>\n",
       "      <td>0.549642</td>\n",
       "    </tr>\n",
       "    <tr>\n",
       "      <th>16357</th>\n",
       "      <td>ZWINT</td>\n",
       "      <td>GTCACAGTCGACTTCGCGC</td>\n",
       "      <td>0.397330</td>\n",
       "    </tr>\n",
       "  </tbody>\n",
       "</table>\n",
       "<p>7290 rows × 3 columns</p>\n",
       "</div>"
      ],
      "text/plain": [
       "        gene               sequence     score\n",
       "12      AARS   GGGGACGGCGACCCTAGGAG  0.731217\n",
       "7       AARS   GAGGGCGGCCTACCTCTCCT  0.734518\n",
       "3       AARS  GACGGCGACCCTAGGAGAGGT  0.679125\n",
       "4       AARS  GGTGCAGCGGGCCCTTGGCGG  0.646344\n",
       "13      AARS  GGCCCTTGGCGGGGGACTCTG  0.713997\n",
       "...      ...                    ...       ...\n",
       "16359  ZWINT  GCCGGGCCTGGGAGGACCTTG  0.466656\n",
       "16361  ZWINT  GTAATCTTAGGGATTGTGGGA  0.581252\n",
       "16362  ZWINT   GTGACTTCAAAGTAATCTTA  0.547363\n",
       "16364  ZWINT  GACACCTCAGGAACCTAAGAC  0.549642\n",
       "16357  ZWINT    GTCACAGTCGACTTCGCGC  0.397330\n",
       "\n",
       "[7290 rows x 3 columns]"
      ]
     },
     "execution_count": 111,
     "metadata": {},
     "output_type": "execute_result"
    }
   ],
   "source": [
    "genes_and_sequences = genes_and_sequences[genes_and_sequences['gene'] != 'KARS']\n",
    "genes_and_sequences"
   ]
  },
  {
   "cell_type": "code",
   "execution_count": 112,
   "metadata": {},
   "outputs": [],
   "source": [
    "genes_and_sequences.to_csv(\"top5_scores_v1.csv\")"
   ]
  }
 ],
 "metadata": {
  "kernelspec": {
   "display_name": "Python 3",
   "language": "python",
   "name": "python3"
  },
  "language_info": {
   "codemirror_mode": {
    "name": "ipython",
    "version": 3
   },
   "file_extension": ".py",
   "mimetype": "text/x-python",
   "name": "python",
   "nbconvert_exporter": "python",
   "pygments_lexer": "ipython3",
   "version": "3.8.3"
  }
 },
 "nbformat": 4,
 "nbformat_minor": 4
}
