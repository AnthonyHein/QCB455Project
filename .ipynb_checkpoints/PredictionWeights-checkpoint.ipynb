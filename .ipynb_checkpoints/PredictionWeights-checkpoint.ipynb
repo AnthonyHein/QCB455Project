{
 "cells": [
  {
   "cell_type": "code",
   "execution_count": 1,
   "metadata": {},
   "outputs": [],
   "source": [
    "import numpy as np\n",
    "import pandas as pd\n",
    "import matplotlib.pyplot as plt\n",
    "import re"
   ]
  },
  {
   "cell_type": "code",
   "execution_count": 37,
   "metadata": {},
   "outputs": [
    {
     "data": {
      "text/plain": [
       "array([ 0.00381067, -0.01517772, -0.00671036, -0.        , -0.        ])"
      ]
     },
     "execution_count": 37,
     "metadata": {},
     "output_type": "execute_result"
    }
   ],
   "source": [
    "coef = np.load('coef.npy')\n",
    "coef[0:5]"
   ]
  },
  {
   "cell_type": "code",
   "execution_count": 38,
   "metadata": {},
   "outputs": [
    {
     "data": {
      "text/plain": [
       "Index(['+ve strand', 'length', 'longest A', 'longest C', 'longest G',\n",
       "       'longest T', 'As', 'Cs', 'Gs', 'Ts',\n",
       "       ...\n",
       "       'G_comp_0.8', 'G_comp_0.9', 'length_21', 'length_22', 'length_23',\n",
       "       'length_24', 'length_25', 'length_26', 'length_27', 'length_28'],\n",
       "      dtype='object', length=579)"
      ]
     },
     "execution_count": 38,
     "metadata": {},
     "output_type": "execute_result"
    }
   ],
   "source": [
    "features_df = pd.read_csv(\"features_binned.csv\")\n",
    "features_df = features_df.drop(columns=[\"Unnamed: 0\"])\n",
    "cols = features_df.columns\n",
    "cols"
   ]
  },
  {
   "cell_type": "code",
   "execution_count": 40,
   "metadata": {},
   "outputs": [],
   "source": [
    "cols = np.array(cols)\n",
    "cols = cols.reshape(cols.shape[0])"
   ]
  },
  {
   "cell_type": "code",
   "execution_count": 42,
   "metadata": {},
   "outputs": [],
   "source": [
    "def find_cols(keyword, title):\n",
    "    dist_indices = [keyword in colname for index, colname in enumerate(cols)]\n",
    "    dist_name = cols[dist_indices]\n",
    "    dist_coef = coef[dist_indices]\n",
    "    plt.bar(dist_name, dist_coef)\n",
    "    plt.ylim((-0.1, 0.1))\n",
    "    plt.title(title)"
   ]
  },
  {
   "cell_type": "code",
   "execution_count": 44,
   "metadata": {},
   "outputs": [
    {
     "data": {
      "image/png": "[encoded data removed]",
      "text/plain": [
       "<Figure size 432x288 with 1 Axes>"
      ]
     },
     "metadata": {
      "needs_background": "light"
     },
     "output_type": "display_data"
    }
   ],
   "source": [
    "# TODO: add standard deviation error bars \n",
    "# TODO: fix labels\n",
    "find_cols('dist', 'Distance to TSS')"
   ]
  },
  {
   "cell_type": "code",
   "execution_count": 46,
   "metadata": {},
   "outputs": [
    {
     "data": {
      "text/plain": [
       "Text(0.5,1,'Strand Targeted')"
      ]
     },
     "execution_count": 46,
     "metadata": {},
     "output_type": "execute_result"
    },
    {
     "data": {
      "image/png": "[encoded data removed]",
      "text/plain": [
       "<Figure size 432x288 with 1 Axes>"
      ]
     },
     "metadata": {
      "needs_background": "light"
     },
     "output_type": "display_data"
    }
   ],
   "source": [
    "dist_indices = ['+ve' in colname for index, colname in enumerate(cols)]\n",
    "dist_name = cols[dist_indices]\n",
    "dist_coef = coef[dist_indices]\n",
    "plt.bar('sense strand', dist_coef)\n",
    "plt.ylim((-0.1, 0.1))\n",
    "plt.xlim((-5, 5))\n",
    "plt.title('Strand Targeted')"
   ]
  },
  {
   "cell_type": "code",
   "execution_count": 47,
   "metadata": {},
   "outputs": [],
   "source": [
    "# change names to be better on axes \n",
    "# make mini graphs with each color at eahc positions\n",
    "# group, facet "
   ]
  },
  {
   "cell_type": "code",
   "execution_count": 48,
   "metadata": {},
   "outputs": [],
   "source": [
    "# Regular expression which returns a boolean if the column name is for a nucleotide position\n",
    "def find_nucl_pos(string):\n",
    "    prog = re.compile('pos_-[0-9]+_[A-Z]$')\n",
    "    result = prog.match(string)\n",
    "    return bool(result)"
   ]
  },
  {
   "cell_type": "code",
   "execution_count": 49,
   "metadata": {},
   "outputs": [],
   "source": [
    "# Regular expression which returns a boolean if the column name is for a dimer position\n",
    "def find_dimer_pos(string):\n",
    "    prog = re.compile('pos_-[0-9]+_[A-Z][A-Z]$')\n",
    "    result = prog.match(string)\n",
    "    return bool(result)"
   ]
  },
  {
   "cell_type": "code",
   "execution_count": 50,
   "metadata": {},
   "outputs": [],
   "source": [
    "nucl_pos_bool = [find_nucl_pos(name) for name in cols]\n",
    "dimer_pos_bool = [find_dimer_pos(name) for name in cols]"
   ]
  },
  {
   "cell_type": "code",
   "execution_count": 51,
   "metadata": {},
   "outputs": [],
   "source": [
    "def get_pos(string):\n",
    "    return -1 * int(re.findall('[0-9]+', string)[0])"
   ]
  },
  {
   "cell_type": "code",
   "execution_count": 52,
   "metadata": {},
   "outputs": [],
   "source": [
    "# Extract out position elements\n",
    "nucl_pos_names = cols[nucl_pos_bool]\n",
    "nucl_pos = [get_pos(name) for name in nucl_pos_names]\n",
    "\n",
    "dimer_pos_names = cols[dimer_pos_bool]\n",
    "dimer_pos = [get_pos(name) for name in dimer_pos_names]"
   ]
  },
  {
   "cell_type": "code",
   "execution_count": 53,
   "metadata": {},
   "outputs": [],
   "source": [
    "nucl_coef = coef[nucl_pos_bool]\n",
    "dimer_coef = coef[dimer_pos_bool]"
   ]
  },
  {
   "cell_type": "code",
   "execution_count": 54,
   "metadata": {},
   "outputs": [],
   "source": [
    "def specific_nucl_pos(nucleotide):\n",
    "    pos_bool = [nucleotide in name for name in nucl_pos_names]\n",
    "    names = nucl_pos_names[pos_bool]\n",
    "    pos = [get_pos(name) for name in names]\n",
    "    coef = nucl_coef[pos_bool]\n",
    "    return (names, pos, coef)"
   ]
  },
  {
   "cell_type": "code",
   "execution_count": 55,
   "metadata": {},
   "outputs": [],
   "source": [
    "A_pos_names, A_pos, A_coef = specific_nucl_pos('A')\n",
    "C_pos_names, C_pos, C_coef = specific_nucl_pos('C')\n",
    "G_pos_names, G_pos, G_coef = specific_nucl_pos('G')\n",
    "T_pos_names, T_pos, T_coef = specific_nucl_pos('T')"
   ]
  },
  {
   "cell_type": "code",
   "execution_count": 56,
   "metadata": {},
   "outputs": [],
   "source": [
    "A = specific_nucl_pos('A')\n",
    "C = specific_nucl_pos('C')\n",
    "G = specific_nucl_pos('G')\n",
    "T = specific_nucl_pos('T')\n",
    "nucl_pos_plot = [A, C, G, T]"
   ]
  },
  {
   "cell_type": "code",
   "execution_count": 57,
   "metadata": {},
   "outputs": [],
   "source": [
    "from matplotlib.pyplot import figure"
   ]
  },
  {
   "cell_type": "code",
   "execution_count": 58,
   "metadata": {},
   "outputs": [],
   "source": [
    "def pos_plot(plot_info, colors, title, legend):\n",
    "    width = 1/len(plot_info)\n",
    "    figure(figsize=(10,5))\n",
    "    for index, nucl in enumerate(plot_info):\n",
    "        plt.bar(np.array(nucl[1]) + (index - 1)*width, nucl[2] + 0.0003, width, color = colors[index])\n",
    "\n",
    "    plt.legend(legend)\n",
    "    plt.xticks(-1 * np.arange(len(nucl[1]) + 1))\n",
    "    plt.ylim((-0.1, 0.1))\n",
    "    plt.title(title)\n",
    "    plt.show()"
   ]
  },
  {
   "cell_type": "code",
   "execution_count": 59,
   "metadata": {},
   "outputs": [
    {
     "data": {
      "image/png": "[encoded data removed]",
      "text/plain": [
       "<Figure size 720x360 with 1 Axes>"
      ]
     },
     "metadata": {
      "needs_background": "light"
     },
     "output_type": "display_data"
    }
   ],
   "source": [
    "pos_plot(nucl_pos_plot, ['g', 'b', 'k', 'r'], \"Nucleotides at each position\", ('A', 'C', 'G', 'T'))"
   ]
  },
  {
   "cell_type": "code",
   "execution_count": 60,
   "metadata": {},
   "outputs": [],
   "source": [
    "def specific_dimer_pos(dimer):\n",
    "    pos_bool = [dimer in name for name in dimer_pos_names]\n",
    "    names = dimer_pos_names[pos_bool]\n",
    "    pos = [get_pos(name) for name in names]\n",
    "    curr_coef = dimer_coef[pos_bool]\n",
    "    return (names, pos, curr_coef)"
   ]
  },
  {
   "cell_type": "code",
   "execution_count": 61,
   "metadata": {},
   "outputs": [],
   "source": [
    "dimer_encodings = {'AA' : 0, 'AC' : 1, 'AG' : 2, 'AT' : 3, 'CA' : 4, 'CC' : 5, 'CG' : 6, 'CT' : 7,          \n",
    "                   'GA' : 8, 'GC' : 9, 'GG' : 10, 'GT' : 11, 'TA' : 12, 'TC' : 13, 'TG' : 14, 'TT' : 15}\n",
    "dimers = dimer_encodings.keys()\n",
    "dimer_plot = []\n",
    "for dimer in dimers:\n",
    "    dimer_plot.append(specific_dimer_pos(dimer))"
   ]
  },
  {
   "cell_type": "code",
   "execution_count": 62,
   "metadata": {},
   "outputs": [],
   "source": [
    "colors = ['#00FF00', '#66FF66', '#99FF99', '#CCFFCC',\n",
    "         '#000099', '#0000FF', '#3333FF','#6666FF',\n",
    "         '#000000', '#404040', '#808080', '#C0C0C0',\n",
    "         '#CC0000', '#FF6666', '#FF9999', '#FFCCCC']"
   ]
  },
  {
   "cell_type": "code",
   "execution_count": 65,
   "metadata": {},
   "outputs": [
    {
     "data": {
      "image/png": "[encoded data removed]",
      "text/plain": [
       "<Figure size 720x360 with 1 Axes>"
      ]
     },
     "metadata": {
      "needs_background": "light"
     },
     "output_type": "display_data"
    }
   ],
   "source": [
    "# Note: they label the big ones with the dimer name\n",
    "# Program? Adobe? \n",
    "# color blind palette?? \n",
    "pos_plot(dimer_plot, colors,\"Dimers at each position\", dimers)"
   ]
  },
  {
   "cell_type": "code",
   "execution_count": 67,
   "metadata": {},
   "outputs": [
    {
     "name": "stdout",
     "output_type": "stream",
     "text": [
      "['length' 'length.1' 'length.2' 'length_21' 'length_22' 'length_23'\n",
      " 'length_24' 'length_25' 'length_26' 'length_27' 'length_28']\n"
     ]
    },
    {
     "ename": "IndexError",
     "evalue": "list index out of range",
     "output_type": "error",
     "traceback": [
      "\u001b[0;31m---------------------------------------------------------------------------\u001b[0m",
      "\u001b[0;31mIndexError\u001b[0m                                Traceback (most recent call last)",
      "\u001b[0;32m<ipython-input-67-2b95650a3636>\u001b[0m in \u001b[0;36m<module>\u001b[0;34m()\u001b[0m\n\u001b[1;32m      4\u001b[0m \u001b[0mprint\u001b[0m\u001b[0;34m(\u001b[0m\u001b[0mdist_name\u001b[0m\u001b[0;34m)\u001b[0m\u001b[0;34m\u001b[0m\u001b[0;34m\u001b[0m\u001b[0m\n\u001b[1;32m      5\u001b[0m \u001b[0mdist_coef\u001b[0m \u001b[0;34m=\u001b[0m \u001b[0mcoef\u001b[0m\u001b[0;34m[\u001b[0m\u001b[0mdist_indices\u001b[0m\u001b[0;34m]\u001b[0m\u001b[0;34m\u001b[0m\u001b[0;34m\u001b[0m\u001b[0m\n\u001b[0;32m----> 6\u001b[0;31m \u001b[0mdist\u001b[0m \u001b[0;34m=\u001b[0m \u001b[0;34m[\u001b[0m\u001b[0mget_pos\u001b[0m\u001b[0;34m(\u001b[0m\u001b[0mname\u001b[0m\u001b[0;34m)\u001b[0m \u001b[0;32mfor\u001b[0m \u001b[0mname\u001b[0m \u001b[0;32min\u001b[0m \u001b[0mdist_name\u001b[0m\u001b[0;34m]\u001b[0m\u001b[0;34m\u001b[0m\u001b[0;34m\u001b[0m\u001b[0m\n\u001b[0m\u001b[1;32m      7\u001b[0m \u001b[0mprint\u001b[0m\u001b[0;34m(\u001b[0m\u001b[0mdist\u001b[0m\u001b[0;34m)\u001b[0m\u001b[0;34m\u001b[0m\u001b[0;34m\u001b[0m\u001b[0m\n\u001b[1;32m      8\u001b[0m \u001b[0mplt\u001b[0m\u001b[0;34m.\u001b[0m\u001b[0mbar\u001b[0m\u001b[0;34m(\u001b[0m\u001b[0mdist\u001b[0m\u001b[0;34m[\u001b[0m\u001b[0;36m1\u001b[0m\u001b[0;34m:\u001b[0m\u001b[0;34m]\u001b[0m\u001b[0;34m,\u001b[0m \u001b[0mdist_coef\u001b[0m\u001b[0;34m[\u001b[0m\u001b[0;36m1\u001b[0m\u001b[0;34m:\u001b[0m\u001b[0;34m]\u001b[0m\u001b[0;34m)\u001b[0m\u001b[0;34m\u001b[0m\u001b[0;34m\u001b[0m\u001b[0m\n",
      "\u001b[0;32m<ipython-input-67-2b95650a3636>\u001b[0m in \u001b[0;36m<listcomp>\u001b[0;34m(.0)\u001b[0m\n\u001b[1;32m      4\u001b[0m \u001b[0mprint\u001b[0m\u001b[0;34m(\u001b[0m\u001b[0mdist_name\u001b[0m\u001b[0;34m)\u001b[0m\u001b[0;34m\u001b[0m\u001b[0;34m\u001b[0m\u001b[0m\n\u001b[1;32m      5\u001b[0m \u001b[0mdist_coef\u001b[0m \u001b[0;34m=\u001b[0m \u001b[0mcoef\u001b[0m\u001b[0;34m[\u001b[0m\u001b[0mdist_indices\u001b[0m\u001b[0;34m]\u001b[0m\u001b[0;34m\u001b[0m\u001b[0;34m\u001b[0m\u001b[0m\n\u001b[0;32m----> 6\u001b[0;31m \u001b[0mdist\u001b[0m \u001b[0;34m=\u001b[0m \u001b[0;34m[\u001b[0m\u001b[0mget_pos\u001b[0m\u001b[0;34m(\u001b[0m\u001b[0mname\u001b[0m\u001b[0;34m)\u001b[0m \u001b[0;32mfor\u001b[0m \u001b[0mname\u001b[0m \u001b[0;32min\u001b[0m \u001b[0mdist_name\u001b[0m\u001b[0;34m]\u001b[0m\u001b[0;34m\u001b[0m\u001b[0;34m\u001b[0m\u001b[0m\n\u001b[0m\u001b[1;32m      7\u001b[0m \u001b[0mprint\u001b[0m\u001b[0;34m(\u001b[0m\u001b[0mdist\u001b[0m\u001b[0;34m)\u001b[0m\u001b[0;34m\u001b[0m\u001b[0;34m\u001b[0m\u001b[0m\n\u001b[1;32m      8\u001b[0m \u001b[0mplt\u001b[0m\u001b[0;34m.\u001b[0m\u001b[0mbar\u001b[0m\u001b[0;34m(\u001b[0m\u001b[0mdist\u001b[0m\u001b[0;34m[\u001b[0m\u001b[0;36m1\u001b[0m\u001b[0;34m:\u001b[0m\u001b[0;34m]\u001b[0m\u001b[0;34m,\u001b[0m \u001b[0mdist_coef\u001b[0m\u001b[0;34m[\u001b[0m\u001b[0;36m1\u001b[0m\u001b[0;34m:\u001b[0m\u001b[0;34m]\u001b[0m\u001b[0;34m)\u001b[0m\u001b[0;34m\u001b[0m\u001b[0;34m\u001b[0m\u001b[0m\n",
      "\u001b[0;32m<ipython-input-51-42e7ced06cee>\u001b[0m in \u001b[0;36mget_pos\u001b[0;34m(string)\u001b[0m\n\u001b[1;32m      1\u001b[0m \u001b[0;32mdef\u001b[0m \u001b[0mget_pos\u001b[0m\u001b[0;34m(\u001b[0m\u001b[0mstring\u001b[0m\u001b[0;34m)\u001b[0m\u001b[0;34m:\u001b[0m\u001b[0;34m\u001b[0m\u001b[0;34m\u001b[0m\u001b[0m\n\u001b[0;32m----> 2\u001b[0;31m     \u001b[0;32mreturn\u001b[0m \u001b[0;34m-\u001b[0m\u001b[0;36m1\u001b[0m \u001b[0;34m*\u001b[0m \u001b[0mint\u001b[0m\u001b[0;34m(\u001b[0m\u001b[0mre\u001b[0m\u001b[0;34m.\u001b[0m\u001b[0mfindall\u001b[0m\u001b[0;34m(\u001b[0m\u001b[0;34m'[0-9]+'\u001b[0m\u001b[0;34m,\u001b[0m \u001b[0mstring\u001b[0m\u001b[0;34m)\u001b[0m\u001b[0;34m[\u001b[0m\u001b[0;36m0\u001b[0m\u001b[0;34m]\u001b[0m\u001b[0;34m)\u001b[0m\u001b[0;34m\u001b[0m\u001b[0;34m\u001b[0m\u001b[0m\n\u001b[0m",
      "\u001b[0;31mIndexError\u001b[0m: list index out of range"
     ]
    }
   ],
   "source": [
    "# TODO: remove length.1\n",
    "dist_indices = ['length' in colname for index, colname in enumerate(cols)]\n",
    "dist_name = cols[dist_indices]\n",
    "print(dist_name)\n",
    "dist_coef = coef[dist_indices]\n",
    "dist = [get_pos(name) for name in dist_name]\n",
    "print(dist)\n",
    "plt.bar(dist[1:], dist_coef[1:])\n",
    "plt.ylim((-0.1, 0.1))\n",
    "plt.xticks(dist[1:])\n",
    "plt.title('Length of sgRNA')\n",
    "plt.show()\n",
    "# why didnt length.1 drop???"
   ]
  },
  {
   "cell_type": "code",
   "execution_count": null,
   "metadata": {},
   "outputs": [],
   "source": []
  }
 ],
 "metadata": {
  "kernelspec": {
   "display_name": "Python 3",
   "language": "python",
   "name": "python3"
  },
  "language_info": {
   "codemirror_mode": {
    "name": "ipython",
    "version": 3
   },
   "file_extension": ".py",
   "mimetype": "text/x-python",
   "name": "python",
   "nbconvert_exporter": "python",
   "pygments_lexer": "ipython3",
   "version": "3.6.12"
  }
 },
 "nbformat": 4,
 "nbformat_minor": 4
}
