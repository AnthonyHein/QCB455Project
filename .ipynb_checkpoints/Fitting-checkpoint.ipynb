{
 "cells": [
  {
   "cell_type": "markdown",
   "metadata": {},
   "source": [
    "# Fitting\n",
    "\n",
    "This notebook is intended to fit the data associated with human CRISPRi activity scores to train a linear regression model to.\n",
    "\n",
    "The data used is that from the following paper:\n",
    "\n",
    "[Compact and highly active next-generation libraries for CRISPR-mediated gene repression and activation](https://elifesciences.org/articles/19760)\n",
    "\n",
    "__Authors__: Anthony Hein, Briana Macedo\n",
    "\n",
    "---"
   ]
  },
  {
   "cell_type": "markdown",
   "metadata": {},
   "source": [
    "We will attempt to build the following models:\n",
    "* Fully Connected Neural Network\n",
    "* Support Vector Machine\n",
    "* Logisitc Regression\n",
    "* Elastic Net Linear Regression\n",
    "\n",
    "_NOTE_ : The paper only creates an Elastic Net Linear Regression model."
   ]
  },
  {
   "cell_type": "markdown",
   "metadata": {},
   "source": [
    "---"
   ]
  },
  {
   "cell_type": "markdown",
   "metadata": {},
   "source": [
    "## Imports and Configuration"
   ]
  },
  {
   "cell_type": "code",
   "execution_count": 120,
   "metadata": {},
   "outputs": [],
   "source": [
    "import numpy as np\n",
    "import pandas as pd\n",
    "\n",
    "import matplotlib.pyplot as plt\n",
    "from matplotlib import cm\n",
    "\n",
    "from sklearn import linear_model\n",
    "from sklearn.metrics import mean_squared_error, r2_score\n",
    "from sklearn.datasets import make_regression\n",
    "from sklearn.model_selection import KFold\n",
    "from sklearn.linear_model import ElasticNetCV, ElasticNet\n",
    "from sklearn.preprocessing import StandardScaler\n",
    "from sklearn import metrics\n",
    "from sklearn.metrics import roc_auc_score"
   ]
  },
  {
   "cell_type": "code",
   "execution_count": 121,
   "metadata": {},
   "outputs": [],
   "source": [
    "np.random.seed(0)"
   ]
  },
  {
   "cell_type": "markdown",
   "metadata": {},
   "source": [
    "---"
   ]
  },
  {
   "cell_type": "markdown",
   "metadata": {},
   "source": [
    "## Dataframe to Array"
   ]
  },
  {
   "cell_type": "code",
   "execution_count": 122,
   "metadata": {},
   "outputs": [
    {
     "data": {
      "text/html": [
       "<div>\n",
       "<style scoped>\n",
       "    .dataframe tbody tr th:only-of-type {\n",
       "        vertical-align: middle;\n",
       "    }\n",
       "\n",
       "    .dataframe tbody tr th {\n",
       "        vertical-align: top;\n",
       "    }\n",
       "\n",
       "    .dataframe thead th {\n",
       "        text-align: right;\n",
       "    }\n",
       "</style>\n",
       "<table border=\"1\" class=\"dataframe\">\n",
       "  <thead>\n",
       "    <tr style=\"text-align: right;\">\n",
       "      <th></th>\n",
       "      <th>Unnamed: 0</th>\n",
       "      <th>+ve strand</th>\n",
       "      <th>pos_-27_A</th>\n",
       "      <th>pos_-27_C</th>\n",
       "      <th>pos_-27_G</th>\n",
       "      <th>pos_-27_T</th>\n",
       "      <th>pos_-26_A</th>\n",
       "      <th>pos_-26_C</th>\n",
       "      <th>pos_-26_G</th>\n",
       "      <th>pos_-26_T</th>\n",
       "      <th>...</th>\n",
       "      <th>AG_comp_0.9</th>\n",
       "      <th>AG_comp_1.0</th>\n",
       "      <th>length_18</th>\n",
       "      <th>length_19</th>\n",
       "      <th>length_20</th>\n",
       "      <th>length_21</th>\n",
       "      <th>length_22</th>\n",
       "      <th>length_23</th>\n",
       "      <th>length_24</th>\n",
       "      <th>length_25</th>\n",
       "    </tr>\n",
       "  </thead>\n",
       "  <tbody>\n",
       "    <tr>\n",
       "      <th>0</th>\n",
       "      <td>0</td>\n",
       "      <td>1</td>\n",
       "      <td>0</td>\n",
       "      <td>0</td>\n",
       "      <td>0</td>\n",
       "      <td>0</td>\n",
       "      <td>0</td>\n",
       "      <td>0</td>\n",
       "      <td>0</td>\n",
       "      <td>0</td>\n",
       "      <td>...</td>\n",
       "      <td>False</td>\n",
       "      <td>False</td>\n",
       "      <td>False</td>\n",
       "      <td>False</td>\n",
       "      <td>False</td>\n",
       "      <td>True</td>\n",
       "      <td>False</td>\n",
       "      <td>False</td>\n",
       "      <td>False</td>\n",
       "      <td>False</td>\n",
       "    </tr>\n",
       "    <tr>\n",
       "      <th>1</th>\n",
       "      <td>1</td>\n",
       "      <td>1</td>\n",
       "      <td>0</td>\n",
       "      <td>0</td>\n",
       "      <td>0</td>\n",
       "      <td>0</td>\n",
       "      <td>0</td>\n",
       "      <td>0</td>\n",
       "      <td>0</td>\n",
       "      <td>0</td>\n",
       "      <td>...</td>\n",
       "      <td>False</td>\n",
       "      <td>False</td>\n",
       "      <td>False</td>\n",
       "      <td>False</td>\n",
       "      <td>False</td>\n",
       "      <td>True</td>\n",
       "      <td>False</td>\n",
       "      <td>False</td>\n",
       "      <td>False</td>\n",
       "      <td>False</td>\n",
       "    </tr>\n",
       "    <tr>\n",
       "      <th>2</th>\n",
       "      <td>2</td>\n",
       "      <td>1</td>\n",
       "      <td>0</td>\n",
       "      <td>0</td>\n",
       "      <td>0</td>\n",
       "      <td>0</td>\n",
       "      <td>0</td>\n",
       "      <td>0</td>\n",
       "      <td>0</td>\n",
       "      <td>0</td>\n",
       "      <td>...</td>\n",
       "      <td>False</td>\n",
       "      <td>False</td>\n",
       "      <td>False</td>\n",
       "      <td>False</td>\n",
       "      <td>False</td>\n",
       "      <td>True</td>\n",
       "      <td>False</td>\n",
       "      <td>False</td>\n",
       "      <td>False</td>\n",
       "      <td>False</td>\n",
       "    </tr>\n",
       "    <tr>\n",
       "      <th>3</th>\n",
       "      <td>3</td>\n",
       "      <td>1</td>\n",
       "      <td>0</td>\n",
       "      <td>0</td>\n",
       "      <td>0</td>\n",
       "      <td>0</td>\n",
       "      <td>0</td>\n",
       "      <td>0</td>\n",
       "      <td>0</td>\n",
       "      <td>0</td>\n",
       "      <td>...</td>\n",
       "      <td>False</td>\n",
       "      <td>False</td>\n",
       "      <td>False</td>\n",
       "      <td>False</td>\n",
       "      <td>False</td>\n",
       "      <td>True</td>\n",
       "      <td>False</td>\n",
       "      <td>False</td>\n",
       "      <td>False</td>\n",
       "      <td>False</td>\n",
       "    </tr>\n",
       "    <tr>\n",
       "      <th>4</th>\n",
       "      <td>4</td>\n",
       "      <td>1</td>\n",
       "      <td>0</td>\n",
       "      <td>0</td>\n",
       "      <td>0</td>\n",
       "      <td>0</td>\n",
       "      <td>0</td>\n",
       "      <td>0</td>\n",
       "      <td>0</td>\n",
       "      <td>0</td>\n",
       "      <td>...</td>\n",
       "      <td>False</td>\n",
       "      <td>False</td>\n",
       "      <td>False</td>\n",
       "      <td>False</td>\n",
       "      <td>False</td>\n",
       "      <td>True</td>\n",
       "      <td>False</td>\n",
       "      <td>False</td>\n",
       "      <td>False</td>\n",
       "      <td>False</td>\n",
       "    </tr>\n",
       "  </tbody>\n",
       "</table>\n",
       "<p>5 rows × 602 columns</p>\n",
       "</div>"
      ],
      "text/plain": [
       "   Unnamed: 0  +ve strand  pos_-27_A  pos_-27_C  pos_-27_G  pos_-27_T  \\\n",
       "0           0           1          0          0          0          0   \n",
       "1           1           1          0          0          0          0   \n",
       "2           2           1          0          0          0          0   \n",
       "3           3           1          0          0          0          0   \n",
       "4           4           1          0          0          0          0   \n",
       "\n",
       "   pos_-26_A  pos_-26_C  pos_-26_G  pos_-26_T  ...  AG_comp_0.9  AG_comp_1.0  \\\n",
       "0          0          0          0          0  ...        False        False   \n",
       "1          0          0          0          0  ...        False        False   \n",
       "2          0          0          0          0  ...        False        False   \n",
       "3          0          0          0          0  ...        False        False   \n",
       "4          0          0          0          0  ...        False        False   \n",
       "\n",
       "   length_18  length_19  length_20  length_21  length_22  length_23  \\\n",
       "0      False      False      False       True      False      False   \n",
       "1      False      False      False       True      False      False   \n",
       "2      False      False      False       True      False      False   \n",
       "3      False      False      False       True      False      False   \n",
       "4      False      False      False       True      False      False   \n",
       "\n",
       "   length_24  length_25  \n",
       "0      False      False  \n",
       "1      False      False  \n",
       "2      False      False  \n",
       "3      False      False  \n",
       "4      False      False  \n",
       "\n",
       "[5 rows x 602 columns]"
      ]
     },
     "execution_count": 122,
     "metadata": {},
     "output_type": "execute_result"
    }
   ],
   "source": [
    "features_raw = pd.read_csv('features_binned.csv')\n",
    "features_raw.head()"
   ]
  },
  {
   "cell_type": "code",
   "execution_count": 123,
   "metadata": {},
   "outputs": [
    {
     "data": {
      "text/plain": [
       "array([0.01932036, 0.34889211, 0.91240883, ..., 0.215028  , 1.17072619,\n",
       "       0.57770586])"
      ]
     },
     "execution_count": 123,
     "metadata": {},
     "output_type": "execute_result"
    }
   ],
   "source": [
    "scores_arr = np.array(pd.read_csv('features.csv')['score'])\n",
    "scores_arr"
   ]
  },
  {
   "cell_type": "code",
   "execution_count": 124,
   "metadata": {},
   "outputs": [
    {
     "data": {
      "text/plain": [
       "array([[1, 0, 0, ..., False, False, False],\n",
       "       [1, 0, 0, ..., False, False, False],\n",
       "       [1, 0, 0, ..., False, False, False],\n",
       "       ...,\n",
       "       [0, 0, 0, ..., False, False, False],\n",
       "       [0, 0, 0, ..., False, False, False],\n",
       "       [0, 0, 0, ..., False, False, False]], dtype=object)"
      ]
     },
     "execution_count": 124,
     "metadata": {},
     "output_type": "execute_result"
    }
   ],
   "source": [
    "features_df = features_raw.drop(columns=['Unnamed: 0'])\n",
    "features_arr = np.array(features_df)\n",
    "features_arr"
   ]
  },
  {
   "cell_type": "markdown",
   "metadata": {},
   "source": [
    "---"
   ]
  },
  {
   "cell_type": "markdown",
   "metadata": {},
   "source": [
    "## Standardize Data to N(0, 1)"
   ]
  },
  {
   "cell_type": "code",
   "execution_count": 125,
   "metadata": {},
   "outputs": [],
   "source": [
    "scaler = StandardScaler()\n",
    "scaler.fit(features_arr)\n",
    "features_arr_std = scaler.transform(features_arr)"
   ]
  },
  {
   "cell_type": "code",
   "execution_count": 126,
   "metadata": {},
   "outputs": [],
   "source": [
    "### CHECK ###\n",
    "idxs = np.random.choice(features_arr_std.shape[1], size=5)\n",
    "for idx in idxs:\n",
    "    assert abs(np.mean(features_arr_std[:, idx])) < 1e-2\n",
    "    assert abs(np.std(features_arr_std[:, idx]) - 1) < 1e-2"
   ]
  },
  {
   "cell_type": "markdown",
   "metadata": {},
   "source": [
    "---"
   ]
  },
  {
   "cell_type": "markdown",
   "metadata": {},
   "source": [
    "## Create K=5 Folds"
   ]
  },
  {
   "cell_type": "code",
   "execution_count": 158,
   "metadata": {},
   "outputs": [],
   "source": [
    "Xs_train = []\n",
    "Ys_train = []\n",
    "\n",
    "Xs_test = []\n",
    "Ys_test = []\n",
    "\n",
    "splits = []\n",
    "\n",
    "folds = KFold(n_splits=5, shuffle = True)\n",
    "\n",
    "for train_index, test_index in folds.split(features_arr_std):\n",
    "\n",
    "    Xs_train.append(features_arr_std[train_index])\n",
    "    Ys_train.append(scores_arr[train_index])\n",
    "    \n",
    "    Xs_test.append(features_arr_std[test_index])\n",
    "    Ys_test.append(scores_arr[test_index])\n",
    "    \n",
    "    splits.append( (train_index, test_index) )"
   ]
  },
  {
   "cell_type": "markdown",
   "metadata": {},
   "source": [
    "---"
   ]
  },
  {
   "cell_type": "markdown",
   "metadata": {},
   "source": [
    "# Models"
   ]
  },
  {
   "cell_type": "markdown",
   "metadata": {},
   "source": [
    "### Elastic Net"
   ]
  },
  {
   "cell_type": "code",
   "execution_count": 183,
   "metadata": {},
   "outputs": [],
   "source": [
    "models = []\n",
    "coefs = []"
   ]
  },
  {
   "cell_type": "code",
   "execution_count": 184,
   "metadata": {},
   "outputs": [],
   "source": [
    "# train K=5 models\n",
    "for i in range(len(splits)):\n",
    "    model = ElasticNetCV(cv=splits[i:i+1], random_state=0, max_iter=100000)\n",
    "    model.fit(features_arr_std, scores_arr)\n",
    "    coefs.append(model.coef_)\n",
    "    models.append(model)"
   ]
  },
  {
   "cell_type": "code",
   "execution_count": 185,
   "metadata": {},
   "outputs": [],
   "source": [
    "# performance metrics\n",
    "rs_squared = []\n",
    "rs = []\n",
    "accuracies = []\n",
    "\n",
    "for model in models:\n",
    "    \n",
    "    r_squared = model.score(features_arr_std, scores_arr)\n",
    "    r = np.sqrt(r_squared)\n",
    "\n",
    "    preds_arr = model.predict(features_arr_std)\n",
    "    preds_bin = preds_arr > 0.75\n",
    "    scores_bin = scores_arr > 0.75\n",
    "    incorrect = np.logical_xor(preds_bin, scores_bin)\n",
    "    accuracy = np.mean(np.logical_not(incorrect))\n",
    "    \n",
    "    rs_squared.append(r_squared)\n",
    "    rs.append(r)\n",
    "    accuracies.append(accuracy)"
   ]
  },
  {
   "cell_type": "code",
   "execution_count": 186,
   "metadata": {},
   "outputs": [],
   "source": [
    "# save performance to csv\n",
    "data = {\n",
    "    'R Squared':rs_squared,\n",
    "    'R': rs,\n",
    "    'Accuracy': accuracies\n",
    "} \n",
    "   \n",
    "df = pd.DataFrame(data) \n",
    "df.to_csv(\"elastic_net_performance.csv\")"
   ]
  },
  {
   "cell_type": "code",
   "execution_count": 200,
   "metadata": {},
   "outputs": [],
   "source": [
    "# find coefficients\n",
    "\n",
    "mean_arr = np.mean(np.array(coefs), axis=0)\n",
    "min_arr = np.min(np.array(coefs), axis=0)\n",
    "max_arr = np.max(np.array(coefs), axis=0)\n",
    "\n",
    "tpl_arr = np.stack([mean_arr, min_arr, max_arr])"
   ]
  },
  {
   "cell_type": "code",
   "execution_count": 201,
   "metadata": {},
   "outputs": [],
   "source": [
    "# save coefficients to numpy object\n",
    "np.save(\"coef_elastic.npy\", tpl_arr)"
   ]
  },
  {
   "cell_type": "markdown",
   "metadata": {},
   "source": [
    "### TODO: Other Models"
   ]
  },
  {
   "cell_type": "markdown",
   "metadata": {},
   "source": [
    "---"
   ]
  },
  {
   "cell_type": "markdown",
   "metadata": {},
   "source": [
    "## TODO: Figure 1B"
   ]
  },
  {
   "cell_type": "code",
   "execution_count": 100,
   "metadata": {},
   "outputs": [],
   "source": [
    "fpr, tpr, thresholds = metrics.roc_curve(scores_bin, preds)"
   ]
  },
  {
   "cell_type": "code",
   "execution_count": 101,
   "metadata": {},
   "outputs": [
    {
     "data": {
      "image/png": "[encoded data removed]",
      "text/plain": [
       "<Figure size 432x288 with 1 Axes>"
      ]
     },
     "metadata": {
      "needs_background": "light"
     },
     "output_type": "display_data"
    }
   ],
   "source": [
    "fig = plt.figure()\n",
    "ax1 = fig.add_subplot(111)\n",
    "ax1.scatter(fpr, tpr)\n",
    "ax1.scatter(np.arange(0,1,0.01), np.arange(0,1,0.01))\n",
    "plt.show()"
   ]
  },
  {
   "cell_type": "code",
   "execution_count": 102,
   "metadata": {},
   "outputs": [
    {
     "data": {
      "text/plain": [
       "0.7583024032598393"
      ]
     },
     "execution_count": 102,
     "metadata": {},
     "output_type": "execute_result"
    }
   ],
   "source": [
    "roc_auc_score(scores_bin, preds)"
   ]
  },
  {
   "cell_type": "markdown",
   "metadata": {},
   "source": [
    "---"
   ]
  },
  {
   "cell_type": "markdown",
   "metadata": {},
   "source": [
    "## TODO: Figure 1C"
   ]
  },
  {
   "cell_type": "code",
   "execution_count": 108,
   "metadata": {},
   "outputs": [
    {
     "data": {
      "text/plain": [
       "array([462, 478, 468,  83, 379])"
      ]
     },
     "execution_count": 108,
     "metadata": {},
     "output_type": "execute_result"
    }
   ],
   "source": [
    "mostNeg5 = np.argsort(regr.coef_)[0:5]\n",
    "mostNeg5"
   ]
  },
  {
   "cell_type": "code",
   "execution_count": 109,
   "metadata": {},
   "outputs": [
    {
     "data": {
      "text/plain": [
       "Index(['pos_-5_GC', 'pos_-4_GC', 'pos_-5_TT', 'pos_-7_G', 'pos_-10_CG'], dtype='object')"
      ]
     },
     "execution_count": 109,
     "metadata": {},
     "output_type": "execute_result"
    }
   ],
   "source": [
    "features_df.columns[mostNeg5]"
   ]
  },
  {
   "cell_type": "code",
   "execution_count": 110,
   "metadata": {},
   "outputs": [
    {
     "data": {
      "text/plain": [
       "array([ 93, 594, 595, 485, 486])"
      ]
     },
     "execution_count": 110,
     "metadata": {},
     "output_type": "execute_result"
    }
   ],
   "source": [
    "mostPos5 = np.argsort(regr.coef_)[-5:]\n",
    "mostPos5"
   ]
  },
  {
   "cell_type": "code",
   "execution_count": 111,
   "metadata": {},
   "outputs": [
    {
     "data": {
      "text/plain": [
       "Index(['pos_-4_A', 'length_19', 'length_20', 'dist prim 3'', 'dist prim 5''], dtype='object')"
      ]
     },
     "execution_count": 111,
     "metadata": {},
     "output_type": "execute_result"
    }
   ],
   "source": [
    "features_df.columns[mostPos5]"
   ]
  },
  {
   "cell_type": "markdown",
   "metadata": {},
   "source": [
    "---"
   ]
  },
  {
   "cell_type": "markdown",
   "metadata": {},
   "source": [
    "## TODO: Figure 1D"
   ]
  },
  {
   "cell_type": "code",
   "execution_count": 107,
   "metadata": {},
   "outputs": [
    {
     "data": {
      "text/plain": [
       "<matplotlib.collections.PathCollection at 0x125380d30>"
      ]
     },
     "execution_count": 107,
     "metadata": {},
     "output_type": "execute_result"
    },
    {
     "data": {
      "image/png": "[encoded data removed]",
      "text/plain": [
       "<Figure size 432x288 with 1 Axes>"
      ]
     },
     "metadata": {
      "needs_background": "light"
     },
     "output_type": "display_data"
    }
   ],
   "source": [
    "plt.scatter(preds, scores_arr)"
   ]
  }
 ],
 "metadata": {
  "kernelspec": {
   "display_name": "Python 3",
   "language": "python",
   "name": "python3"
  },
  "language_info": {
   "codemirror_mode": {
    "name": "ipython",
    "version": 3
   },
   "file_extension": ".py",
   "mimetype": "text/x-python",
   "name": "python",
   "nbconvert_exporter": "python",
   "pygments_lexer": "ipython3",
   "version": "3.8.3"
  }
 },
 "nbformat": 4,
 "nbformat_minor": 4
}
